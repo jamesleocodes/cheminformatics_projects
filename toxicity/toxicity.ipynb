{
 "cells": [
  {
   "cell_type": "markdown",
   "metadata": {},
   "source": [
    "#### Introduction\n",
    "This dataset was used to develop quantitative regression QSAR models to predict acute aquatic toxicity towards the fish Pimephales promelas (fathead minnow) on a set of 908 chemicals. to predict acute aquatic toxicity towards Daphnia Magna. LC50 data, which is the concentration that causes death in 50% of test D. magna over a test duration of 48 hours, was used as model response. \n",
    "\n",
    "The model comprised 8 molecular descriptors: TPSA(Tot) (Molecular properties), SAacc (Molecular properties), H-050 (Atom-centred fragments), MLOGP (Molecular properties), RDCHI (Connectivity indices), GATS1p (2D autocorrelations), nN (Constitutional indices), C-040 (Atom-centred fragments). And one quantitative experimental response which is quantitiative response. The data can be downloaded from [here.](https://archive.ics.uci.edu/ml/machine-learning-databases/00505/qsar_aquatic_toxicity.csv)\n",
    "\n",
    "Why:: Comparsion study between traditional machine learning and tensorflow.\n"
   ]
  },
  {
   "cell_type": "markdown",
   "metadata": {},
   "source": [
    "#### Import libraries"
   ]
  },
  {
   "cell_type": "code",
   "execution_count": 3,
   "metadata": {},
   "outputs": [],
   "source": [
    "import pandas as pd\n",
    "import matplotlib.pyplot as plt\n",
    "from sklearn.model_selection import train_test_split\n",
    "from sklearn.neural_network import MLPRegressor\n",
    "from sklearn.linear_model import LinearRegression\n",
    "from sklearn.metrics import mean_squared_error"
   ]
  },
  {
   "cell_type": "markdown",
   "metadata": {},
   "source": [
    "##### Load data"
   ]
  },
  {
   "cell_type": "code",
   "execution_count": 4,
   "metadata": {},
   "outputs": [
    {
     "data": {
      "text/html": [
       "<div>\n",
       "<style scoped>\n",
       "    .dataframe tbody tr th:only-of-type {\n",
       "        vertical-align: middle;\n",
       "    }\n",
       "\n",
       "    .dataframe tbody tr th {\n",
       "        vertical-align: top;\n",
       "    }\n",
       "\n",
       "    .dataframe thead th {\n",
       "        text-align: right;\n",
       "    }\n",
       "</style>\n",
       "<table border=\"1\" class=\"dataframe\">\n",
       "  <thead>\n",
       "    <tr style=\"text-align: right;\">\n",
       "      <th></th>\n",
       "      <th>0</th>\n",
       "      <th>0.1</th>\n",
       "      <th>0.2</th>\n",
       "      <th>2.419</th>\n",
       "      <th>1.225</th>\n",
       "      <th>0.667</th>\n",
       "      <th>0.3</th>\n",
       "      <th>0.4</th>\n",
       "      <th>3.740</th>\n",
       "    </tr>\n",
       "  </thead>\n",
       "  <tbody>\n",
       "    <tr>\n",
       "      <th>0</th>\n",
       "      <td>0.00</td>\n",
       "      <td>0.000</td>\n",
       "      <td>0</td>\n",
       "      <td>2.638</td>\n",
       "      <td>1.401</td>\n",
       "      <td>0.632</td>\n",
       "      <td>0</td>\n",
       "      <td>0</td>\n",
       "      <td>4.330</td>\n",
       "    </tr>\n",
       "    <tr>\n",
       "      <th>1</th>\n",
       "      <td>9.23</td>\n",
       "      <td>11.000</td>\n",
       "      <td>0</td>\n",
       "      <td>5.799</td>\n",
       "      <td>2.930</td>\n",
       "      <td>0.486</td>\n",
       "      <td>0</td>\n",
       "      <td>0</td>\n",
       "      <td>7.019</td>\n",
       "    </tr>\n",
       "    <tr>\n",
       "      <th>2</th>\n",
       "      <td>9.23</td>\n",
       "      <td>11.000</td>\n",
       "      <td>0</td>\n",
       "      <td>5.453</td>\n",
       "      <td>2.887</td>\n",
       "      <td>0.495</td>\n",
       "      <td>0</td>\n",
       "      <td>0</td>\n",
       "      <td>6.723</td>\n",
       "    </tr>\n",
       "    <tr>\n",
       "      <th>3</th>\n",
       "      <td>9.23</td>\n",
       "      <td>11.000</td>\n",
       "      <td>0</td>\n",
       "      <td>4.068</td>\n",
       "      <td>2.758</td>\n",
       "      <td>0.695</td>\n",
       "      <td>0</td>\n",
       "      <td>0</td>\n",
       "      <td>5.979</td>\n",
       "    </tr>\n",
       "    <tr>\n",
       "      <th>4</th>\n",
       "      <td>215.34</td>\n",
       "      <td>327.629</td>\n",
       "      <td>3</td>\n",
       "      <td>0.189</td>\n",
       "      <td>4.677</td>\n",
       "      <td>1.333</td>\n",
       "      <td>0</td>\n",
       "      <td>4</td>\n",
       "      <td>6.064</td>\n",
       "    </tr>\n",
       "    <tr>\n",
       "      <th>...</th>\n",
       "      <td>...</td>\n",
       "      <td>...</td>\n",
       "      <td>...</td>\n",
       "      <td>...</td>\n",
       "      <td>...</td>\n",
       "      <td>...</td>\n",
       "      <td>...</td>\n",
       "      <td>...</td>\n",
       "      <td>...</td>\n",
       "    </tr>\n",
       "    <tr>\n",
       "      <th>540</th>\n",
       "      <td>24.06</td>\n",
       "      <td>35.776</td>\n",
       "      <td>2</td>\n",
       "      <td>3.326</td>\n",
       "      <td>2.837</td>\n",
       "      <td>0.849</td>\n",
       "      <td>2</td>\n",
       "      <td>0</td>\n",
       "      <td>4.651</td>\n",
       "    </tr>\n",
       "    <tr>\n",
       "      <th>541</th>\n",
       "      <td>9.23</td>\n",
       "      <td>11.000</td>\n",
       "      <td>0</td>\n",
       "      <td>3.275</td>\n",
       "      <td>2.727</td>\n",
       "      <td>0.874</td>\n",
       "      <td>0</td>\n",
       "      <td>0</td>\n",
       "      <td>3.953</td>\n",
       "    </tr>\n",
       "    <tr>\n",
       "      <th>542</th>\n",
       "      <td>0.00</td>\n",
       "      <td>0.000</td>\n",
       "      <td>0</td>\n",
       "      <td>5.165</td>\n",
       "      <td>3.111</td>\n",
       "      <td>0.732</td>\n",
       "      <td>0</td>\n",
       "      <td>0</td>\n",
       "      <td>6.219</td>\n",
       "    </tr>\n",
       "    <tr>\n",
       "      <th>543</th>\n",
       "      <td>13.14</td>\n",
       "      <td>9.507</td>\n",
       "      <td>0</td>\n",
       "      <td>2.859</td>\n",
       "      <td>2.614</td>\n",
       "      <td>0.827</td>\n",
       "      <td>0</td>\n",
       "      <td>0</td>\n",
       "      <td>4.995</td>\n",
       "    </tr>\n",
       "    <tr>\n",
       "      <th>544</th>\n",
       "      <td>0.00</td>\n",
       "      <td>0.000</td>\n",
       "      <td>0</td>\n",
       "      <td>2.255</td>\n",
       "      <td>1.800</td>\n",
       "      <td>0.917</td>\n",
       "      <td>0</td>\n",
       "      <td>0</td>\n",
       "      <td>2.480</td>\n",
       "    </tr>\n",
       "  </tbody>\n",
       "</table>\n",
       "<p>545 rows × 9 columns</p>\n",
       "</div>"
      ],
      "text/plain": [
       "          0      0.1  0.2  2.419  1.225  0.667  0.3  0.4  3.740\n",
       "0      0.00    0.000    0  2.638  1.401  0.632    0    0  4.330\n",
       "1      9.23   11.000    0  5.799  2.930  0.486    0    0  7.019\n",
       "2      9.23   11.000    0  5.453  2.887  0.495    0    0  6.723\n",
       "3      9.23   11.000    0  4.068  2.758  0.695    0    0  5.979\n",
       "4    215.34  327.629    3  0.189  4.677  1.333    0    4  6.064\n",
       "..      ...      ...  ...    ...    ...    ...  ...  ...    ...\n",
       "540   24.06   35.776    2  3.326  2.837  0.849    2    0  4.651\n",
       "541    9.23   11.000    0  3.275  2.727  0.874    0    0  3.953\n",
       "542    0.00    0.000    0  5.165  3.111  0.732    0    0  6.219\n",
       "543   13.14    9.507    0  2.859  2.614  0.827    0    0  4.995\n",
       "544    0.00    0.000    0  2.255  1.800  0.917    0    0  2.480\n",
       "\n",
       "[545 rows x 9 columns]"
      ]
     },
     "execution_count": 4,
     "metadata": {},
     "output_type": "execute_result"
    }
   ],
   "source": [
    "data = pd.read_csv(\"qsar_aquatic_toxicity.csv\",sep=\";\")\n",
    "data"
   ]
  },
  {
   "cell_type": "code",
   "execution_count": 5,
   "metadata": {},
   "outputs": [
    {
     "data": {
      "text/html": [
       "<div>\n",
       "<style scoped>\n",
       "    .dataframe tbody tr th:only-of-type {\n",
       "        vertical-align: middle;\n",
       "    }\n",
       "\n",
       "    .dataframe tbody tr th {\n",
       "        vertical-align: top;\n",
       "    }\n",
       "\n",
       "    .dataframe thead th {\n",
       "        text-align: right;\n",
       "    }\n",
       "</style>\n",
       "<table border=\"1\" class=\"dataframe\">\n",
       "  <thead>\n",
       "    <tr style=\"text-align: right;\">\n",
       "      <th></th>\n",
       "      <th>TPSA</th>\n",
       "      <th>SAacc</th>\n",
       "      <th>H-050</th>\n",
       "      <th>MLOGP</th>\n",
       "      <th>RDCHI</th>\n",
       "      <th>GATS1p</th>\n",
       "      <th>nN</th>\n",
       "      <th>C-040</th>\n",
       "      <th>quantitative response</th>\n",
       "    </tr>\n",
       "  </thead>\n",
       "  <tbody>\n",
       "    <tr>\n",
       "      <th>0</th>\n",
       "      <td>0.00</td>\n",
       "      <td>0.000</td>\n",
       "      <td>0</td>\n",
       "      <td>2.419</td>\n",
       "      <td>1.225</td>\n",
       "      <td>0.667</td>\n",
       "      <td>0</td>\n",
       "      <td>0</td>\n",
       "      <td>3.740</td>\n",
       "    </tr>\n",
       "    <tr>\n",
       "      <th>1</th>\n",
       "      <td>0.00</td>\n",
       "      <td>0.000</td>\n",
       "      <td>0</td>\n",
       "      <td>2.638</td>\n",
       "      <td>1.401</td>\n",
       "      <td>0.632</td>\n",
       "      <td>0</td>\n",
       "      <td>0</td>\n",
       "      <td>4.330</td>\n",
       "    </tr>\n",
       "    <tr>\n",
       "      <th>2</th>\n",
       "      <td>9.23</td>\n",
       "      <td>11.000</td>\n",
       "      <td>0</td>\n",
       "      <td>5.799</td>\n",
       "      <td>2.930</td>\n",
       "      <td>0.486</td>\n",
       "      <td>0</td>\n",
       "      <td>0</td>\n",
       "      <td>7.019</td>\n",
       "    </tr>\n",
       "    <tr>\n",
       "      <th>3</th>\n",
       "      <td>9.23</td>\n",
       "      <td>11.000</td>\n",
       "      <td>0</td>\n",
       "      <td>5.453</td>\n",
       "      <td>2.887</td>\n",
       "      <td>0.495</td>\n",
       "      <td>0</td>\n",
       "      <td>0</td>\n",
       "      <td>6.723</td>\n",
       "    </tr>\n",
       "    <tr>\n",
       "      <th>4</th>\n",
       "      <td>9.23</td>\n",
       "      <td>11.000</td>\n",
       "      <td>0</td>\n",
       "      <td>4.068</td>\n",
       "      <td>2.758</td>\n",
       "      <td>0.695</td>\n",
       "      <td>0</td>\n",
       "      <td>0</td>\n",
       "      <td>5.979</td>\n",
       "    </tr>\n",
       "    <tr>\n",
       "      <th>...</th>\n",
       "      <td>...</td>\n",
       "      <td>...</td>\n",
       "      <td>...</td>\n",
       "      <td>...</td>\n",
       "      <td>...</td>\n",
       "      <td>...</td>\n",
       "      <td>...</td>\n",
       "      <td>...</td>\n",
       "      <td>...</td>\n",
       "    </tr>\n",
       "    <tr>\n",
       "      <th>541</th>\n",
       "      <td>24.06</td>\n",
       "      <td>35.776</td>\n",
       "      <td>2</td>\n",
       "      <td>3.326</td>\n",
       "      <td>2.837</td>\n",
       "      <td>0.849</td>\n",
       "      <td>2</td>\n",
       "      <td>0</td>\n",
       "      <td>4.651</td>\n",
       "    </tr>\n",
       "    <tr>\n",
       "      <th>542</th>\n",
       "      <td>9.23</td>\n",
       "      <td>11.000</td>\n",
       "      <td>0</td>\n",
       "      <td>3.275</td>\n",
       "      <td>2.727</td>\n",
       "      <td>0.874</td>\n",
       "      <td>0</td>\n",
       "      <td>0</td>\n",
       "      <td>3.953</td>\n",
       "    </tr>\n",
       "    <tr>\n",
       "      <th>543</th>\n",
       "      <td>0.00</td>\n",
       "      <td>0.000</td>\n",
       "      <td>0</td>\n",
       "      <td>5.165</td>\n",
       "      <td>3.111</td>\n",
       "      <td>0.732</td>\n",
       "      <td>0</td>\n",
       "      <td>0</td>\n",
       "      <td>6.219</td>\n",
       "    </tr>\n",
       "    <tr>\n",
       "      <th>544</th>\n",
       "      <td>13.14</td>\n",
       "      <td>9.507</td>\n",
       "      <td>0</td>\n",
       "      <td>2.859</td>\n",
       "      <td>2.614</td>\n",
       "      <td>0.827</td>\n",
       "      <td>0</td>\n",
       "      <td>0</td>\n",
       "      <td>4.995</td>\n",
       "    </tr>\n",
       "    <tr>\n",
       "      <th>545</th>\n",
       "      <td>0.00</td>\n",
       "      <td>0.000</td>\n",
       "      <td>0</td>\n",
       "      <td>2.255</td>\n",
       "      <td>1.800</td>\n",
       "      <td>0.917</td>\n",
       "      <td>0</td>\n",
       "      <td>0</td>\n",
       "      <td>2.480</td>\n",
       "    </tr>\n",
       "  </tbody>\n",
       "</table>\n",
       "<p>546 rows × 9 columns</p>\n",
       "</div>"
      ],
      "text/plain": [
       "      TPSA   SAacc  H-050  MLOGP  RDCHI  GATS1p  nN  C-040  \\\n",
       "0     0.00   0.000      0  2.419  1.225   0.667   0      0   \n",
       "1     0.00   0.000      0  2.638  1.401   0.632   0      0   \n",
       "2     9.23  11.000      0  5.799  2.930   0.486   0      0   \n",
       "3     9.23  11.000      0  5.453  2.887   0.495   0      0   \n",
       "4     9.23  11.000      0  4.068  2.758   0.695   0      0   \n",
       "..     ...     ...    ...    ...    ...     ...  ..    ...   \n",
       "541  24.06  35.776      2  3.326  2.837   0.849   2      0   \n",
       "542   9.23  11.000      0  3.275  2.727   0.874   0      0   \n",
       "543   0.00   0.000      0  5.165  3.111   0.732   0      0   \n",
       "544  13.14   9.507      0  2.859  2.614   0.827   0      0   \n",
       "545   0.00   0.000      0  2.255  1.800   0.917   0      0   \n",
       "\n",
       "     quantitative response  \n",
       "0                    3.740  \n",
       "1                    4.330  \n",
       "2                    7.019  \n",
       "3                    6.723  \n",
       "4                    5.979  \n",
       "..                     ...  \n",
       "541                  4.651  \n",
       "542                  3.953  \n",
       "543                  6.219  \n",
       "544                  4.995  \n",
       "545                  2.480  \n",
       "\n",
       "[546 rows x 9 columns]"
      ]
     },
     "execution_count": 5,
     "metadata": {},
     "output_type": "execute_result"
    }
   ],
   "source": [
    "# Need to have header\n",
    "data = pd.read_csv(\"qsar_aquatic_toxicity.csv\",sep=\";\", names=['TPSA', 'SAacc', 'H-050', 'MLOGP', 'RDCHI', 'GATS1p', 'nN', 'C-040',\n",
    "                          'quantitative response'])\n",
    "data                         "
   ]
  },
  {
   "cell_type": "markdown",
   "metadata": {},
   "source": [
    "#### Data information and characteristics"
   ]
  },
  {
   "cell_type": "code",
   "execution_count": 6,
   "metadata": {},
   "outputs": [
    {
     "name": "stdout",
     "output_type": "stream",
     "text": [
      "<class 'pandas.core.frame.DataFrame'>\n",
      "RangeIndex: 546 entries, 0 to 545\n",
      "Data columns (total 9 columns):\n",
      " #   Column                 Non-Null Count  Dtype  \n",
      "---  ------                 --------------  -----  \n",
      " 0   TPSA                   546 non-null    float64\n",
      " 1   SAacc                  546 non-null    float64\n",
      " 2   H-050                  546 non-null    int64  \n",
      " 3   MLOGP                  546 non-null    float64\n",
      " 4   RDCHI                  546 non-null    float64\n",
      " 5   GATS1p                 546 non-null    float64\n",
      " 6   nN                     546 non-null    int64  \n",
      " 7   C-040                  546 non-null    int64  \n",
      " 8   quantitative response  546 non-null    float64\n",
      "dtypes: float64(6), int64(3)\n",
      "memory usage: 38.5 KB\n"
     ]
    },
    {
     "data": {
      "text/html": [
       "<div>\n",
       "<style scoped>\n",
       "    .dataframe tbody tr th:only-of-type {\n",
       "        vertical-align: middle;\n",
       "    }\n",
       "\n",
       "    .dataframe tbody tr th {\n",
       "        vertical-align: top;\n",
       "    }\n",
       "\n",
       "    .dataframe thead th {\n",
       "        text-align: right;\n",
       "    }\n",
       "</style>\n",
       "<table border=\"1\" class=\"dataframe\">\n",
       "  <thead>\n",
       "    <tr style=\"text-align: right;\">\n",
       "      <th></th>\n",
       "      <th>TPSA</th>\n",
       "      <th>SAacc</th>\n",
       "      <th>H-050</th>\n",
       "      <th>MLOGP</th>\n",
       "      <th>RDCHI</th>\n",
       "      <th>GATS1p</th>\n",
       "      <th>nN</th>\n",
       "      <th>C-040</th>\n",
       "      <th>quantitative response</th>\n",
       "    </tr>\n",
       "  </thead>\n",
       "  <tbody>\n",
       "    <tr>\n",
       "      <th>count</th>\n",
       "      <td>546.000000</td>\n",
       "      <td>546.000000</td>\n",
       "      <td>546.000000</td>\n",
       "      <td>546.000000</td>\n",
       "      <td>546.000000</td>\n",
       "      <td>546.000000</td>\n",
       "      <td>546.000000</td>\n",
       "      <td>546.000000</td>\n",
       "      <td>546.000000</td>\n",
       "    </tr>\n",
       "    <tr>\n",
       "      <th>mean</th>\n",
       "      <td>48.472930</td>\n",
       "      <td>58.869018</td>\n",
       "      <td>0.937729</td>\n",
       "      <td>2.313493</td>\n",
       "      <td>2.492299</td>\n",
       "      <td>1.046264</td>\n",
       "      <td>1.003663</td>\n",
       "      <td>0.353480</td>\n",
       "      <td>4.658421</td>\n",
       "    </tr>\n",
       "    <tr>\n",
       "      <th>std</th>\n",
       "      <td>46.763983</td>\n",
       "      <td>68.166554</td>\n",
       "      <td>1.618632</td>\n",
       "      <td>1.741797</td>\n",
       "      <td>0.811004</td>\n",
       "      <td>0.403677</td>\n",
       "      <td>1.397240</td>\n",
       "      <td>0.806827</td>\n",
       "      <td>1.665215</td>\n",
       "    </tr>\n",
       "    <tr>\n",
       "      <th>min</th>\n",
       "      <td>0.000000</td>\n",
       "      <td>0.000000</td>\n",
       "      <td>0.000000</td>\n",
       "      <td>-6.446000</td>\n",
       "      <td>1.000000</td>\n",
       "      <td>0.281000</td>\n",
       "      <td>0.000000</td>\n",
       "      <td>0.000000</td>\n",
       "      <td>0.122000</td>\n",
       "    </tr>\n",
       "    <tr>\n",
       "      <th>25%</th>\n",
       "      <td>15.790000</td>\n",
       "      <td>11.000000</td>\n",
       "      <td>0.000000</td>\n",
       "      <td>1.232500</td>\n",
       "      <td>1.975000</td>\n",
       "      <td>0.737000</td>\n",
       "      <td>0.000000</td>\n",
       "      <td>0.000000</td>\n",
       "      <td>3.601500</td>\n",
       "    </tr>\n",
       "    <tr>\n",
       "      <th>50%</th>\n",
       "      <td>40.460000</td>\n",
       "      <td>42.683000</td>\n",
       "      <td>0.000000</td>\n",
       "      <td>2.273500</td>\n",
       "      <td>2.344000</td>\n",
       "      <td>1.020500</td>\n",
       "      <td>1.000000</td>\n",
       "      <td>0.000000</td>\n",
       "      <td>4.516000</td>\n",
       "    </tr>\n",
       "    <tr>\n",
       "      <th>75%</th>\n",
       "      <td>70.022500</td>\n",
       "      <td>77.492750</td>\n",
       "      <td>1.000000</td>\n",
       "      <td>3.392750</td>\n",
       "      <td>2.911000</td>\n",
       "      <td>1.266500</td>\n",
       "      <td>2.000000</td>\n",
       "      <td>0.000000</td>\n",
       "      <td>5.607500</td>\n",
       "    </tr>\n",
       "    <tr>\n",
       "      <th>max</th>\n",
       "      <td>347.320000</td>\n",
       "      <td>571.952000</td>\n",
       "      <td>18.000000</td>\n",
       "      <td>9.148000</td>\n",
       "      <td>6.439000</td>\n",
       "      <td>2.500000</td>\n",
       "      <td>11.000000</td>\n",
       "      <td>11.000000</td>\n",
       "      <td>10.047000</td>\n",
       "    </tr>\n",
       "  </tbody>\n",
       "</table>\n",
       "</div>"
      ],
      "text/plain": [
       "             TPSA       SAacc       H-050       MLOGP       RDCHI      GATS1p  \\\n",
       "count  546.000000  546.000000  546.000000  546.000000  546.000000  546.000000   \n",
       "mean    48.472930   58.869018    0.937729    2.313493    2.492299    1.046264   \n",
       "std     46.763983   68.166554    1.618632    1.741797    0.811004    0.403677   \n",
       "min      0.000000    0.000000    0.000000   -6.446000    1.000000    0.281000   \n",
       "25%     15.790000   11.000000    0.000000    1.232500    1.975000    0.737000   \n",
       "50%     40.460000   42.683000    0.000000    2.273500    2.344000    1.020500   \n",
       "75%     70.022500   77.492750    1.000000    3.392750    2.911000    1.266500   \n",
       "max    347.320000  571.952000   18.000000    9.148000    6.439000    2.500000   \n",
       "\n",
       "               nN       C-040  quantitative response  \n",
       "count  546.000000  546.000000             546.000000  \n",
       "mean     1.003663    0.353480               4.658421  \n",
       "std      1.397240    0.806827               1.665215  \n",
       "min      0.000000    0.000000               0.122000  \n",
       "25%      0.000000    0.000000               3.601500  \n",
       "50%      1.000000    0.000000               4.516000  \n",
       "75%      2.000000    0.000000               5.607500  \n",
       "max     11.000000   11.000000              10.047000  "
      ]
     },
     "execution_count": 6,
     "metadata": {},
     "output_type": "execute_result"
    }
   ],
   "source": [
    "data.info()\n",
    "data.describe()"
   ]
  },
  {
   "cell_type": "code",
   "execution_count": 7,
   "metadata": {},
   "outputs": [
    {
     "data": {
      "image/png": "[encoded data removed]",
      "text/plain": [
       "<Figure size 1080x720 with 8 Axes>"
      ]
     },
     "metadata": {
      "needs_background": "light"
     },
     "output_type": "display_data"
    }
   ],
   "source": [
    "#Histogram Visualization\n",
    "fig, axs = plt.subplots(2, 4, figsize=(15, 10))\n",
    "axs[0,0].hist(data['TPSA'])\n",
    "axs[0,0].set_title('TPSA')\n",
    "\n",
    "axs[0,1].hist(data['SAacc'])\n",
    "axs[0,1].set_title('SAacc')\n",
    "\n",
    "axs[0,2].hist(data['H-050'])\n",
    "axs[0,2].set_title('H-050')\n",
    "\n",
    "axs[0,3].hist(data['MLOGP'])\n",
    "axs[0,3].set_title('MLOGP')\n",
    "\n",
    "axs[1,0].hist(data['RDCHI'])\n",
    "axs[1,0].set_title('RDCHI')\n",
    "\n",
    "axs[1,1].hist(data['nN'])\n",
    "axs[1,1].set_title('nN')\n",
    "\n",
    "axs[1,2].hist(data['C-040'])\n",
    "axs[1,2].set_title('C-040')\n",
    "\n",
    "axs[1,3].hist(data['quantitative response'])\n",
    "axs[1,3].set_title('quantitative response')\n",
    "\n",
    "plt.show()"
   ]
  },
  {
   "cell_type": "code",
   "execution_count": 8,
   "metadata": {},
   "outputs": [],
   "source": [
    "#### Define a function to get the columns that do not have any missing values\n",
    "\n",
    "def get_cols_with_no_nans(df,col_type):\n",
    "    \"\"\"\n",
    "    Arguments :\n",
    "    df : The dataframe to process\n",
    "    col_type:\n",
    "        num : to only get numerical columns with no nans\n",
    "        no_num : to only get non-numerical columns with no nans\n",
    "        all : to get any columns with no nans\n",
    "     \"\"\" \n",
    "    if (col_type == 'num'):\n",
    "        predictors = df.select_dtypes(exclude = ['object'])\n",
    "    elif (col_type == 'no_num'):\n",
    "        predictors = df.select_dtypes(include = ['object'])\n",
    "    elif (col_type == 'all'):\n",
    "        predictors = df\n",
    "    else:\n",
    "        print('Error : choose a type (num, no_num, all)')\n",
    "        return 0\n",
    "    cols_with_no_nans = []\n",
    "    for col in predictors.columns:\n",
    "        if not df[col].isnull().any():\n",
    "            cols_with_no_nans.append(col)\n",
    "    return cols_with_no_nans"
   ]
  },
  {
   "cell_type": "code",
   "execution_count": 9,
   "metadata": {},
   "outputs": [],
   "source": [
    "# Get the columns that do not have any missing values\n",
    "\n",
    "num_cols = get_cols_with_no_nans(data, 'num')\n",
    "cat_cols = get_cols_with_no_nans(data, 'no_num')"
   ]
  },
  {
   "cell_type": "code",
   "execution_count": 10,
   "metadata": {},
   "outputs": [
    {
     "name": "stdout",
     "output_type": "stream",
     "text": [
      "Number of numerical columns with no nan values :  9\n",
      "Number of non-numberical columns with no nan values : 0\n"
     ]
    }
   ],
   "source": [
    "# How many column we got?\n",
    "\n",
    "print(\"Number of numerical columns with no nan values : \", len(num_cols))\n",
    "print(\"Number of non-numberical columns with no nan values :\", len(cat_cols))"
   ]
  },
  {
   "cell_type": "code",
   "execution_count": 11,
   "metadata": {},
   "outputs": [
    {
     "data": {
      "image/png": "[encoded data removed]",
      "text/plain": [
       "<Figure size 864x720 with 9 Axes>"
      ]
     },
     "metadata": {
      "needs_background": "light"
     },
     "output_type": "display_data"
    }
   ],
   "source": [
    "data = data[num_cols + cat_cols]\n",
    "data.hist(figsize = (12,10))\n",
    "plt.show()"
   ]
  },
  {
   "cell_type": "code",
   "execution_count": 12,
   "metadata": {},
   "outputs": [
    {
     "name": "stdout",
     "output_type": "stream",
     "text": [
      "Train:  382\n",
      "Test : 164\n"
     ]
    }
   ],
   "source": [
    "# Split data : 70% of data for training and 30 % of data for data testing\n",
    "\n",
    "x_train, x_test , y_train, y_test = train_test_split(data.drop(axis=0, columns='quantitative response'),\n",
    "                                    data['quantitative response'], test_size=0.3)\n",
    "\n",
    "print(\"Train: \",len(x_train))\n",
    "print(\"Test :\", len(x_test))"
   ]
  },
  {
   "cell_type": "markdown",
   "metadata": {},
   "source": [
    "#### Train and test the models"
   ]
  },
  {
   "cell_type": "code",
   "execution_count": 13,
   "metadata": {},
   "outputs": [
    {
     "name": "stdout",
     "output_type": "stream",
     "text": [
      "Mean Squared Error Linear Regression : 1.2878812587708344\n",
      "Mean Squared Error Multilayer Perceptron : 1.3347136857412643\n"
     ]
    },
    {
     "name": "stderr",
     "output_type": "stream",
     "text": [
      "c:\\Users\\user\\anaconda3\\envs\\atrophine_tf\\lib\\site-packages\\sklearn\\neural_network\\_multilayer_perceptron.py:702: ConvergenceWarning: Stochastic Optimizer: Maximum iterations (200) reached and the optimization hasn't converged yet.\n",
      "  warnings.warn(\n"
     ]
    }
   ],
   "source": [
    "lnr = LinearRegression()\n",
    "mlp = MLPRegressor()\n",
    "\n",
    "lnr.fit(x_train, y_train)\n",
    "mlp.fit(x_train, y_train)\n",
    "\n",
    "hasil_lnr = lnr.predict(x_test)\n",
    "hasil_mlp = mlp.predict(x_test)\n",
    "\n",
    "print(\"Mean Squared Error Linear Regression :\", mean_squared_error(y_test, hasil_lnr))\n",
    "print(\"Mean Squared Error Multilayer Perceptron :\",mean_squared_error(y_test, hasil_mlp))"
   ]
  },
  {
   "cell_type": "code",
   "execution_count": 14,
   "metadata": {},
   "outputs": [
    {
     "data": {
      "text/plain": [
       "<matplotlib.legend.Legend at 0x1b7f7fd3340>"
      ]
     },
     "execution_count": 14,
     "metadata": {},
     "output_type": "execute_result"
    },
    {
     "data": {
      "image/png": "[encoded data removed]",
      "text/plain": [
       "<Figure size 432x288 with 1 Axes>"
      ]
     },
     "metadata": {
      "needs_background": "light"
     },
     "output_type": "display_data"
    }
   ],
   "source": [
    "plt.plot(list(hasil_lnr), label ='Linear Regression')\n",
    "plt.plot(list(y_test), label = 'Actual Value')\n",
    "\n",
    "plt.legend(loc='upper right')"
   ]
  },
  {
   "cell_type": "code",
   "execution_count": 15,
   "metadata": {},
   "outputs": [
    {
     "data": {
      "text/plain": [
       "<matplotlib.legend.Legend at 0x1b7f851a0b0>"
      ]
     },
     "execution_count": 15,
     "metadata": {},
     "output_type": "execute_result"
    },
    {
     "data": {
      "image/png": "[encoded data removed]",
      "text/plain": [
       "<Figure size 432x288 with 1 Axes>"
      ]
     },
     "metadata": {
      "needs_background": "light"
     },
     "output_type": "display_data"
    }
   ],
   "source": [
    "plt.plot(list(hasil_mlp), label = \" Multilayer Perceptron\")\n",
    "plt.plot(list(y_test), label = 'Actual Value')\n",
    "plt.legend(loc='upper right')"
   ]
  },
  {
   "cell_type": "markdown",
   "metadata": {},
   "source": [
    "### Tensorflow"
   ]
  },
  {
   "cell_type": "code",
   "execution_count": 16,
   "metadata": {},
   "outputs": [],
   "source": [
    "# Import library\n",
    "from tensorflow.keras import Sequential, layers, optimizers"
   ]
  },
  {
   "cell_type": "markdown",
   "metadata": {},
   "source": [
    "#### Model\n",
    "Consists of : 8 nodes in the input layer 8 nodes in hidden layers 1 and 2 along with the activation function used is ReLU also 1 node in the output because this case is regression"
   ]
  },
  {
   "cell_type": "code",
   "execution_count": 17,
   "metadata": {},
   "outputs": [],
   "source": [
    "def Simple_NN():\n",
    "    model = Sequential([\n",
    "    layers.Dense(8, activation = 'relu', input_shape =[8]),\n",
    "    layers.Dense(8, activation = 'relu'),\n",
    "    layers.Dense(1)\n",
    "    ])\n",
    "\n",
    "    optimizer = optimizers.RMSprop(0.001)\n",
    "    model.compile(loss='mse', optimizer= optimizer, metrics = ['mae','mse'])\n",
    "    return model\n",
    "    "
   ]
  },
  {
   "cell_type": "code",
   "execution_count": 18,
   "metadata": {},
   "outputs": [
    {
     "name": "stdout",
     "output_type": "stream",
     "text": [
      "Model: \"sequential\"\n",
      "_________________________________________________________________\n",
      " Layer (type)                Output Shape              Param #   \n",
      "=================================================================\n",
      " dense (Dense)               (None, 8)                 72        \n",
      "                                                                 \n",
      " dense_1 (Dense)             (None, 8)                 72        \n",
      "                                                                 \n",
      " dense_2 (Dense)             (None, 1)                 9         \n",
      "                                                                 \n",
      "=================================================================\n",
      "Total params: 153\n",
      "Trainable params: 153\n",
      "Non-trainable params: 0\n",
      "_________________________________________________________________\n"
     ]
    }
   ],
   "source": [
    "model = Simple_NN()\n",
    "model.summary()"
   ]
  },
  {
   "cell_type": "markdown",
   "metadata": {},
   "source": [
    "#### Training Model"
   ]
  },
  {
   "cell_type": "code",
   "execution_count": 19,
   "metadata": {},
   "outputs": [
    {
     "name": "stdout",
     "output_type": "stream",
     "text": [
      "Epoch 1/100\n",
      "10/10 [==============================] - 0s 13ms/step - loss: 240.8678 - mae: 11.7334 - mse: 240.8678 - val_loss: 124.3585 - val_mae: 9.1347 - val_mse: 124.3585\n",
      "Epoch 2/100\n",
      "10/10 [==============================] - 0s 2ms/step - loss: 85.4329 - mae: 7.5647 - mse: 85.4329 - val_loss: 55.4638 - val_mae: 6.3358 - val_mse: 55.4638\n",
      "Epoch 3/100\n",
      "10/10 [==============================] - 0s 2ms/step - loss: 41.0686 - mae: 5.4205 - mse: 41.0686 - val_loss: 38.8329 - val_mae: 5.2221 - val_mse: 38.8329\n",
      "Epoch 4/100\n",
      "10/10 [==============================] - 0s 2ms/step - loss: 31.7766 - mae: 4.6831 - mse: 31.7766 - val_loss: 32.9925 - val_mae: 4.6034 - val_mse: 32.9925\n",
      "Epoch 5/100\n",
      "10/10 [==============================] - 0s 3ms/step - loss: 29.3634 - mae: 4.4616 - mse: 29.3634 - val_loss: 29.5982 - val_mae: 4.1825 - val_mse: 29.5982\n",
      "Epoch 6/100\n",
      "10/10 [==============================] - 0s 2ms/step - loss: 27.3887 - mae: 4.2536 - mse: 27.3887 - val_loss: 26.4917 - val_mae: 4.0754 - val_mse: 26.4917\n",
      "Epoch 7/100\n",
      "10/10 [==============================] - 0s 3ms/step - loss: 24.6450 - mae: 4.0998 - mse: 24.6450 - val_loss: 25.1674 - val_mae: 4.2477 - val_mse: 25.1674\n",
      "Epoch 8/100\n",
      "10/10 [==============================] - 0s 2ms/step - loss: 22.4220 - mae: 3.9455 - mse: 22.4220 - val_loss: 20.1832 - val_mae: 3.6485 - val_mse: 20.1832\n",
      "Epoch 9/100\n",
      "10/10 [==============================] - 0s 2ms/step - loss: 21.3291 - mae: 3.7986 - mse: 21.3291 - val_loss: 18.1083 - val_mae: 3.4559 - val_mse: 18.1083\n",
      "Epoch 10/100\n",
      "10/10 [==============================] - 0s 2ms/step - loss: 18.9228 - mae: 3.5586 - mse: 18.9228 - val_loss: 16.0781 - val_mae: 3.2550 - val_mse: 16.0781\n",
      "Epoch 11/100\n",
      "10/10 [==============================] - 0s 2ms/step - loss: 17.4952 - mae: 3.4203 - mse: 17.4952 - val_loss: 15.5593 - val_mae: 3.3475 - val_mse: 15.5593\n",
      "Epoch 12/100\n",
      "10/10 [==============================] - 0s 2ms/step - loss: 16.1320 - mae: 3.3050 - mse: 16.1320 - val_loss: 13.0407 - val_mae: 2.9255 - val_mse: 13.0407\n",
      "Epoch 13/100\n",
      "10/10 [==============================] - 0s 2ms/step - loss: 14.7869 - mae: 3.1509 - mse: 14.7869 - val_loss: 13.0282 - val_mae: 3.0337 - val_mse: 13.0282\n",
      "Epoch 14/100\n",
      "10/10 [==============================] - 0s 2ms/step - loss: 14.1795 - mae: 3.1032 - mse: 14.1795 - val_loss: 12.1088 - val_mae: 2.9054 - val_mse: 12.1088\n",
      "Epoch 15/100\n",
      "10/10 [==============================] - 0s 2ms/step - loss: 13.6125 - mae: 3.0387 - mse: 13.6125 - val_loss: 11.6576 - val_mae: 2.8607 - val_mse: 11.6576\n",
      "Epoch 16/100\n",
      "10/10 [==============================] - 0s 3ms/step - loss: 12.8748 - mae: 2.9695 - mse: 12.8748 - val_loss: 11.7500 - val_mae: 2.9395 - val_mse: 11.7500\n",
      "Epoch 17/100\n",
      "10/10 [==============================] - 0s 2ms/step - loss: 12.4527 - mae: 2.9016 - mse: 12.4527 - val_loss: 9.8236 - val_mae: 2.5336 - val_mse: 9.8236\n",
      "Epoch 18/100\n",
      "10/10 [==============================] - 0s 3ms/step - loss: 11.3775 - mae: 2.7588 - mse: 11.3775 - val_loss: 9.2684 - val_mae: 2.4680 - val_mse: 9.2684\n",
      "Epoch 19/100\n",
      "10/10 [==============================] - 0s 2ms/step - loss: 10.7393 - mae: 2.6902 - mse: 10.7393 - val_loss: 10.7097 - val_mae: 2.8224 - val_mse: 10.7097\n",
      "Epoch 20/100\n",
      "10/10 [==============================] - 0s 3ms/step - loss: 10.8104 - mae: 2.7013 - mse: 10.8104 - val_loss: 8.7646 - val_mae: 2.3969 - val_mse: 8.7646\n",
      "Epoch 21/100\n",
      "10/10 [==============================] - 0s 2ms/step - loss: 9.8952 - mae: 2.5757 - mse: 9.8952 - val_loss: 8.5349 - val_mae: 2.3838 - val_mse: 8.5349\n",
      "Epoch 22/100\n",
      "10/10 [==============================] - 0s 2ms/step - loss: 9.3843 - mae: 2.5082 - mse: 9.3843 - val_loss: 7.7027 - val_mae: 2.2549 - val_mse: 7.7027\n",
      "Epoch 23/100\n",
      "10/10 [==============================] - 0s 2ms/step - loss: 8.8938 - mae: 2.4208 - mse: 8.8938 - val_loss: 7.7053 - val_mae: 2.2571 - val_mse: 7.7053\n",
      "Epoch 24/100\n",
      "10/10 [==============================] - 0s 2ms/step - loss: 8.5006 - mae: 2.3792 - mse: 8.5006 - val_loss: 6.9831 - val_mae: 2.1629 - val_mse: 6.9831\n",
      "Epoch 25/100\n",
      "10/10 [==============================] - 0s 2ms/step - loss: 8.4234 - mae: 2.3481 - mse: 8.4234 - val_loss: 6.7320 - val_mae: 2.1032 - val_mse: 6.7320\n",
      "Epoch 26/100\n",
      "10/10 [==============================] - 0s 3ms/step - loss: 7.7488 - mae: 2.2838 - mse: 7.7488 - val_loss: 6.5927 - val_mae: 2.0798 - val_mse: 6.5927\n",
      "Epoch 27/100\n",
      "10/10 [==============================] - 0s 2ms/step - loss: 7.2657 - mae: 2.1922 - mse: 7.2657 - val_loss: 7.5928 - val_mae: 2.3360 - val_mse: 7.5928\n",
      "Epoch 28/100\n",
      "10/10 [==============================] - 0s 3ms/step - loss: 6.8139 - mae: 2.1564 - mse: 6.8139 - val_loss: 6.0638 - val_mae: 2.0043 - val_mse: 6.0638\n",
      "Epoch 29/100\n",
      "10/10 [==============================] - 0s 2ms/step - loss: 6.4468 - mae: 2.0798 - mse: 6.4468 - val_loss: 5.7349 - val_mae: 1.9502 - val_mse: 5.7349\n",
      "Epoch 30/100\n",
      "10/10 [==============================] - 0s 3ms/step - loss: 6.0285 - mae: 1.9833 - mse: 6.0285 - val_loss: 5.0899 - val_mae: 1.8517 - val_mse: 5.0899\n",
      "Epoch 31/100\n",
      "10/10 [==============================] - 0s 3ms/step - loss: 5.9739 - mae: 1.9780 - mse: 5.9739 - val_loss: 5.2637 - val_mae: 1.8759 - val_mse: 5.2637\n",
      "Epoch 32/100\n",
      "10/10 [==============================] - 0s 3ms/step - loss: 5.5688 - mae: 1.9205 - mse: 5.5688 - val_loss: 4.5925 - val_mae: 1.7528 - val_mse: 4.5925\n",
      "Epoch 33/100\n",
      "10/10 [==============================] - 0s 2ms/step - loss: 5.0195 - mae: 1.8160 - mse: 5.0195 - val_loss: 6.0836 - val_mae: 2.1057 - val_mse: 6.0836\n",
      "Epoch 34/100\n",
      "10/10 [==============================] - 0s 2ms/step - loss: 4.9377 - mae: 1.8248 - mse: 4.9377 - val_loss: 3.9274 - val_mae: 1.6232 - val_mse: 3.9274\n",
      "Epoch 35/100\n",
      "10/10 [==============================] - 0s 2ms/step - loss: 4.1102 - mae: 1.6114 - mse: 4.1102 - val_loss: 3.5496 - val_mae: 1.5609 - val_mse: 3.5496\n",
      "Epoch 36/100\n",
      "10/10 [==============================] - 0s 2ms/step - loss: 3.6744 - mae: 1.5014 - mse: 3.6744 - val_loss: 3.4598 - val_mae: 1.5512 - val_mse: 3.4598\n",
      "Epoch 37/100\n",
      "10/10 [==============================] - 0s 2ms/step - loss: 3.3109 - mae: 1.4483 - mse: 3.3109 - val_loss: 4.4638 - val_mae: 1.7517 - val_mse: 4.4638\n",
      "Epoch 38/100\n",
      "10/10 [==============================] - 0s 2ms/step - loss: 3.4666 - mae: 1.4650 - mse: 3.4666 - val_loss: 3.7496 - val_mae: 1.5957 - val_mse: 3.7496\n",
      "Epoch 39/100\n",
      "10/10 [==============================] - 0s 2ms/step - loss: 2.9103 - mae: 1.3554 - mse: 2.9103 - val_loss: 3.0199 - val_mae: 1.4419 - val_mse: 3.0199\n",
      "Epoch 40/100\n",
      "10/10 [==============================] - 0s 2ms/step - loss: 3.0307 - mae: 1.3501 - mse: 3.0307 - val_loss: 2.8257 - val_mae: 1.3976 - val_mse: 2.8257\n",
      "Epoch 41/100\n",
      "10/10 [==============================] - 0s 3ms/step - loss: 3.0656 - mae: 1.3458 - mse: 3.0656 - val_loss: 2.8907 - val_mae: 1.3900 - val_mse: 2.8907\n",
      "Epoch 42/100\n",
      "10/10 [==============================] - 0s 2ms/step - loss: 2.6678 - mae: 1.2875 - mse: 2.6678 - val_loss: 2.8367 - val_mae: 1.3843 - val_mse: 2.8367\n",
      "Epoch 43/100\n",
      "10/10 [==============================] - 0s 2ms/step - loss: 2.4304 - mae: 1.2483 - mse: 2.4304 - val_loss: 3.3220 - val_mae: 1.4807 - val_mse: 3.3220\n",
      "Epoch 44/100\n",
      "10/10 [==============================] - 0s 2ms/step - loss: 2.6607 - mae: 1.2318 - mse: 2.6607 - val_loss: 2.6694 - val_mae: 1.3368 - val_mse: 2.6694\n",
      "Epoch 45/100\n",
      "10/10 [==============================] - 0s 2ms/step - loss: 2.2112 - mae: 1.2016 - mse: 2.2112 - val_loss: 2.5035 - val_mae: 1.2787 - val_mse: 2.5035\n",
      "Epoch 46/100\n",
      "10/10 [==============================] - 0s 2ms/step - loss: 2.2943 - mae: 1.2036 - mse: 2.2943 - val_loss: 2.4079 - val_mae: 1.2504 - val_mse: 2.4079\n",
      "Epoch 47/100\n",
      "10/10 [==============================] - 0s 2ms/step - loss: 2.1729 - mae: 1.1593 - mse: 2.1729 - val_loss: 2.4379 - val_mae: 1.2625 - val_mse: 2.4379\n",
      "Epoch 48/100\n",
      "10/10 [==============================] - 0s 2ms/step - loss: 2.3576 - mae: 1.1941 - mse: 2.3576 - val_loss: 2.6440 - val_mae: 1.3016 - val_mse: 2.6440\n",
      "Epoch 49/100\n",
      "10/10 [==============================] - 0s 2ms/step - loss: 2.3867 - mae: 1.1835 - mse: 2.3867 - val_loss: 2.7701 - val_mae: 1.3174 - val_mse: 2.7701\n",
      "Epoch 50/100\n",
      "10/10 [==============================] - 0s 3ms/step - loss: 2.3397 - mae: 1.1821 - mse: 2.3397 - val_loss: 3.1348 - val_mae: 1.3569 - val_mse: 3.1348\n",
      "Epoch 51/100\n",
      "10/10 [==============================] - 0s 2ms/step - loss: 2.0791 - mae: 1.1243 - mse: 2.0791 - val_loss: 2.1465 - val_mae: 1.1367 - val_mse: 2.1465\n",
      "Epoch 52/100\n",
      "10/10 [==============================] - 0s 2ms/step - loss: 1.9682 - mae: 1.0877 - mse: 1.9682 - val_loss: 2.4300 - val_mae: 1.2041 - val_mse: 2.4300\n",
      "Epoch 53/100\n",
      "10/10 [==============================] - 0s 2ms/step - loss: 1.8587 - mae: 1.0591 - mse: 1.8587 - val_loss: 2.0755 - val_mae: 1.1138 - val_mse: 2.0755\n",
      "Epoch 54/100\n",
      "10/10 [==============================] - 0s 2ms/step - loss: 1.9696 - mae: 1.0920 - mse: 1.9696 - val_loss: 2.1233 - val_mae: 1.1163 - val_mse: 2.1233\n",
      "Epoch 55/100\n",
      "10/10 [==============================] - 0s 2ms/step - loss: 1.8634 - mae: 1.0463 - mse: 1.8634 - val_loss: 2.0671 - val_mae: 1.1115 - val_mse: 2.0671\n",
      "Epoch 56/100\n",
      "10/10 [==============================] - 0s 2ms/step - loss: 2.0669 - mae: 1.1050 - mse: 2.0669 - val_loss: 2.2718 - val_mae: 1.1681 - val_mse: 2.2718\n",
      "Epoch 57/100\n",
      "10/10 [==============================] - 0s 3ms/step - loss: 1.7812 - mae: 1.0192 - mse: 1.7812 - val_loss: 1.9814 - val_mae: 1.0776 - val_mse: 1.9814\n",
      "Epoch 58/100\n",
      "10/10 [==============================] - 0s 2ms/step - loss: 1.9170 - mae: 1.0641 - mse: 1.9170 - val_loss: 2.8310 - val_mae: 1.3026 - val_mse: 2.8310\n",
      "Epoch 59/100\n",
      "10/10 [==============================] - 0s 2ms/step - loss: 1.8722 - mae: 1.0476 - mse: 1.8722 - val_loss: 2.0971 - val_mae: 1.1001 - val_mse: 2.0971\n",
      "Epoch 60/100\n",
      "10/10 [==============================] - 0s 2ms/step - loss: 1.9913 - mae: 1.0295 - mse: 1.9913 - val_loss: 1.9902 - val_mae: 1.0775 - val_mse: 1.9902\n",
      "Epoch 61/100\n",
      "10/10 [==============================] - 0s 2ms/step - loss: 1.8782 - mae: 1.0287 - mse: 1.8782 - val_loss: 2.2798 - val_mae: 1.1510 - val_mse: 2.2798\n",
      "Epoch 62/100\n",
      "10/10 [==============================] - 0s 2ms/step - loss: 1.7946 - mae: 1.0055 - mse: 1.7946 - val_loss: 1.8983 - val_mae: 1.0445 - val_mse: 1.8983\n",
      "Epoch 63/100\n",
      "10/10 [==============================] - 0s 2ms/step - loss: 1.7836 - mae: 1.0146 - mse: 1.7836 - val_loss: 2.0016 - val_mae: 1.0705 - val_mse: 2.0016\n",
      "Epoch 64/100\n",
      "10/10 [==============================] - 0s 3ms/step - loss: 1.8390 - mae: 0.9857 - mse: 1.8390 - val_loss: 2.0277 - val_mae: 1.0928 - val_mse: 2.0277\n",
      "Epoch 65/100\n",
      "10/10 [==============================] - 0s 2ms/step - loss: 1.7742 - mae: 0.9918 - mse: 1.7742 - val_loss: 2.3110 - val_mae: 1.1586 - val_mse: 2.3110\n",
      "Epoch 66/100\n",
      "10/10 [==============================] - 0s 3ms/step - loss: 1.6180 - mae: 0.9547 - mse: 1.6180 - val_loss: 2.8772 - val_mae: 1.3010 - val_mse: 2.8772\n",
      "Epoch 67/100\n",
      "10/10 [==============================] - 0s 2ms/step - loss: 2.1366 - mae: 1.0725 - mse: 2.1366 - val_loss: 1.8815 - val_mae: 1.0299 - val_mse: 1.8815\n",
      "Epoch 68/100\n",
      "10/10 [==============================] - 0s 3ms/step - loss: 1.6374 - mae: 0.9584 - mse: 1.6374 - val_loss: 1.9107 - val_mae: 1.0504 - val_mse: 1.9107\n",
      "Epoch 69/100\n",
      "10/10 [==============================] - 0s 2ms/step - loss: 1.5785 - mae: 0.9393 - mse: 1.5785 - val_loss: 1.8881 - val_mae: 1.0553 - val_mse: 1.8881\n",
      "Epoch 70/100\n",
      "10/10 [==============================] - 0s 3ms/step - loss: 2.1260 - mae: 1.0592 - mse: 2.1260 - val_loss: 2.0485 - val_mae: 1.0672 - val_mse: 2.0485\n",
      "Epoch 71/100\n",
      "10/10 [==============================] - 0s 2ms/step - loss: 1.7900 - mae: 0.9927 - mse: 1.7900 - val_loss: 2.0084 - val_mae: 1.0822 - val_mse: 2.0084\n",
      "Epoch 72/100\n",
      "10/10 [==============================] - 0s 3ms/step - loss: 1.7893 - mae: 0.9809 - mse: 1.7893 - val_loss: 2.0047 - val_mae: 1.0794 - val_mse: 2.0047\n",
      "Epoch 73/100\n",
      "10/10 [==============================] - 0s 2ms/step - loss: 1.7373 - mae: 0.9652 - mse: 1.7373 - val_loss: 2.0754 - val_mae: 1.0772 - val_mse: 2.0754\n",
      "Epoch 74/100\n",
      "10/10 [==============================] - 0s 3ms/step - loss: 1.7537 - mae: 0.9656 - mse: 1.7537 - val_loss: 1.8874 - val_mae: 1.0326 - val_mse: 1.8874\n",
      "Epoch 75/100\n",
      "10/10 [==============================] - 0s 2ms/step - loss: 1.7547 - mae: 0.9871 - mse: 1.7547 - val_loss: 1.9495 - val_mae: 1.0630 - val_mse: 1.9495\n",
      "Epoch 76/100\n",
      "10/10 [==============================] - 0s 2ms/step - loss: 1.5848 - mae: 0.9268 - mse: 1.5848 - val_loss: 1.8845 - val_mae: 1.0375 - val_mse: 1.8845\n",
      "Epoch 77/100\n",
      "10/10 [==============================] - 0s 2ms/step - loss: 1.8129 - mae: 0.9917 - mse: 1.8129 - val_loss: 1.9834 - val_mae: 1.0670 - val_mse: 1.9834\n",
      "Epoch 78/100\n",
      "10/10 [==============================] - 0s 3ms/step - loss: 1.6407 - mae: 0.9457 - mse: 1.6407 - val_loss: 1.8940 - val_mae: 1.0397 - val_mse: 1.8940\n",
      "Epoch 79/100\n",
      "10/10 [==============================] - 0s 2ms/step - loss: 1.7863 - mae: 0.9622 - mse: 1.7863 - val_loss: 2.0316 - val_mae: 1.0656 - val_mse: 2.0316\n",
      "Epoch 80/100\n",
      "10/10 [==============================] - 0s 3ms/step - loss: 2.0688 - mae: 1.0253 - mse: 2.0688 - val_loss: 2.1864 - val_mae: 1.1118 - val_mse: 2.1864\n",
      "Epoch 81/100\n",
      "10/10 [==============================] - 0s 2ms/step - loss: 1.6347 - mae: 0.9466 - mse: 1.6347 - val_loss: 1.9968 - val_mae: 1.0543 - val_mse: 1.9968\n",
      "Epoch 82/100\n",
      "10/10 [==============================] - 0s 3ms/step - loss: 1.8226 - mae: 0.9859 - mse: 1.8226 - val_loss: 1.8855 - val_mae: 1.0303 - val_mse: 1.8855\n",
      "Epoch 83/100\n",
      "10/10 [==============================] - 0s 2ms/step - loss: 1.5951 - mae: 0.9320 - mse: 1.5951 - val_loss: 1.9090 - val_mae: 1.0298 - val_mse: 1.9090\n",
      "Epoch 84/100\n",
      "10/10 [==============================] - 0s 2ms/step - loss: 1.6871 - mae: 0.9477 - mse: 1.6871 - val_loss: 3.3788 - val_mae: 1.3767 - val_mse: 3.3788\n",
      "Epoch 85/100\n",
      "10/10 [==============================] - 0s 2ms/step - loss: 1.7493 - mae: 0.9764 - mse: 1.7493 - val_loss: 1.8863 - val_mae: 1.0457 - val_mse: 1.8863\n",
      "Epoch 86/100\n",
      "10/10 [==============================] - 0s 3ms/step - loss: 1.6805 - mae: 0.9544 - mse: 1.6805 - val_loss: 1.9541 - val_mae: 1.0407 - val_mse: 1.9541\n",
      "Epoch 87/100\n",
      "10/10 [==============================] - 0s 2ms/step - loss: 1.7219 - mae: 0.9595 - mse: 1.7219 - val_loss: 1.8672 - val_mae: 1.0316 - val_mse: 1.8672\n",
      "Epoch 88/100\n",
      "10/10 [==============================] - 0s 3ms/step - loss: 1.5612 - mae: 0.9178 - mse: 1.5612 - val_loss: 2.5180 - val_mae: 1.2106 - val_mse: 2.5180\n",
      "Epoch 89/100\n",
      "10/10 [==============================] - 0s 2ms/step - loss: 1.9399 - mae: 0.9857 - mse: 1.9399 - val_loss: 1.9172 - val_mae: 1.0468 - val_mse: 1.9172\n",
      "Epoch 90/100\n",
      "10/10 [==============================] - 0s 3ms/step - loss: 1.6450 - mae: 0.9640 - mse: 1.6450 - val_loss: 2.0090 - val_mae: 1.0775 - val_mse: 2.0090\n",
      "Epoch 91/100\n",
      "10/10 [==============================] - 0s 2ms/step - loss: 1.6889 - mae: 0.9518 - mse: 1.6889 - val_loss: 2.0765 - val_mae: 1.0750 - val_mse: 2.0765\n",
      "Epoch 92/100\n",
      "10/10 [==============================] - 0s 3ms/step - loss: 1.5426 - mae: 0.9256 - mse: 1.5426 - val_loss: 1.9747 - val_mae: 1.0651 - val_mse: 1.9747\n",
      "Epoch 93/100\n",
      "10/10 [==============================] - 0s 3ms/step - loss: 1.9537 - mae: 1.0180 - mse: 1.9537 - val_loss: 1.9209 - val_mae: 1.0285 - val_mse: 1.9209\n",
      "Epoch 94/100\n",
      "10/10 [==============================] - 0s 3ms/step - loss: 1.6391 - mae: 0.9473 - mse: 1.6391 - val_loss: 2.3291 - val_mae: 1.1673 - val_mse: 2.3291\n",
      "Epoch 95/100\n",
      "10/10 [==============================] - 0s 2ms/step - loss: 1.7639 - mae: 0.9759 - mse: 1.7639 - val_loss: 2.0635 - val_mae: 1.0935 - val_mse: 2.0635\n",
      "Epoch 96/100\n",
      "10/10 [==============================] - 0s 2ms/step - loss: 1.8783 - mae: 1.0162 - mse: 1.8783 - val_loss: 1.8708 - val_mae: 1.0318 - val_mse: 1.8708\n",
      "Epoch 97/100\n",
      "10/10 [==============================] - 0s 2ms/step - loss: 1.8003 - mae: 0.9699 - mse: 1.8003 - val_loss: 2.7876 - val_mae: 1.2662 - val_mse: 2.7876\n",
      "Epoch 98/100\n",
      "10/10 [==============================] - 0s 2ms/step - loss: 1.6542 - mae: 0.9483 - mse: 1.6542 - val_loss: 1.8542 - val_mae: 1.0313 - val_mse: 1.8542\n",
      "Epoch 99/100\n",
      "10/10 [==============================] - 0s 3ms/step - loss: 1.5867 - mae: 0.9306 - mse: 1.5867 - val_loss: 1.9252 - val_mae: 1.0267 - val_mse: 1.9252\n",
      "Epoch 100/100\n",
      "10/10 [==============================] - 0s 2ms/step - loss: 1.8077 - mae: 0.9620 - mse: 1.8077 - val_loss: 2.3438 - val_mae: 1.1655 - val_mse: 2.3438\n"
     ]
    },
    {
     "data": {
      "text/plain": [
       "<keras.callbacks.History at 0x1b7820d9390>"
      ]
     },
     "execution_count": 19,
     "metadata": {},
     "output_type": "execute_result"
    }
   ],
   "source": [
    "model.fit(x_train, y_train, epochs = 100, validation_split=0.2, verbose=1)"
   ]
  },
  {
   "cell_type": "markdown",
   "metadata": {},
   "source": [
    "#### Testing model to predict the x_test"
   ]
  },
  {
   "cell_type": "code",
   "execution_count": 20,
   "metadata": {},
   "outputs": [
    {
     "name": "stdout",
     "output_type": "stream",
     "text": [
      "6/6 [==============================] - 0s 798us/step\n"
     ]
    },
    {
     "data": {
      "text/plain": [
       "array([3.5271091, 7.774001 , 6.002693 , 7.816951 , 3.712844 , 6.3981905,\n",
       "       4.183817 , 3.5307684, 4.6319227, 5.797741 , 4.3783474, 3.0279307,\n",
       "       6.1508965, 5.4181957, 4.895147 , 7.762915 , 5.0949917, 4.939577 ,\n",
       "       4.088111 , 5.445216 , 4.6677713, 5.901511 , 6.029692 , 3.162713 ,\n",
       "       4.43395  , 7.4617014, 4.6316895, 6.160221 , 2.739211 , 5.6718473,\n",
       "       4.3072357, 5.3555994, 5.396042 , 7.8368225, 6.0851717, 4.8490915,\n",
       "       4.888694 , 4.9890804, 5.1031137, 5.1060276, 6.8952703, 3.19245  ,\n",
       "       4.9862595, 3.1706986, 3.733489 , 6.2209983, 6.720766 , 6.2894077,\n",
       "       7.4166064, 3.9287124, 5.2307935, 2.737637 , 4.0150585, 3.7632833,\n",
       "       5.050894 , 3.1146402, 5.3832264, 3.396802 , 5.18346  , 2.491706 ,\n",
       "       3.1560411, 5.1449127, 4.7317023, 5.0488186, 4.297408 , 4.5089903,\n",
       "       5.42513  , 5.210781 , 6.8760843, 6.44479  , 4.8550253, 5.041118 ,\n",
       "       5.09865  , 5.48314  , 7.8402987, 4.068237 , 6.972807 , 3.7343535,\n",
       "       5.747504 , 5.171774 , 5.0296526, 3.6886144, 3.0014954, 3.7465062,\n",
       "       7.7130427, 4.135922 , 4.890766 , 4.573464 , 3.1474519, 5.2790136,\n",
       "       5.4339027, 5.944045 , 6.769292 , 5.2097273, 3.821309 , 4.9407187,\n",
       "       6.3666115, 4.555049 , 6.007778 , 5.5721703, 4.6235833, 4.8496394,\n",
       "       4.870447 , 6.920746 , 4.401228 , 3.7800617, 5.369797 , 3.1806202,\n",
       "       5.2615414, 5.97194  , 2.7880602, 7.2226906, 3.8948345, 3.7862692,\n",
       "       5.9163394, 5.953541 , 4.3481402, 3.09685  , 5.4589005, 7.061101 ,\n",
       "       5.541171 , 3.459383 , 4.804982 , 5.784546 , 3.921794 , 5.826806 ,\n",
       "       3.4667215, 4.842033 , 3.5539098, 4.122946 , 5.1727743, 6.0963535,\n",
       "       4.495447 , 4.4120665, 6.92192  , 7.0447807, 4.9973993, 4.6666746,\n",
       "       4.818483 , 5.348703 , 2.5248098, 8.148058 , 7.1695833, 6.4367027,\n",
       "       8.401127 , 4.1175675, 3.7035275, 5.2705245, 7.580895 , 5.4470315,\n",
       "       3.513904 , 6.4913526, 7.1086817, 4.725523 , 6.918392 , 4.4501743,\n",
       "       8.288152 , 5.5315723, 5.031469 , 4.7953014, 4.0335827, 5.7800894,\n",
       "       4.2497506, 4.071144 ], dtype=float32)"
      ]
     },
     "execution_count": 20,
     "metadata": {},
     "output_type": "execute_result"
    }
   ],
   "source": [
    "hasil_tf = model.predict(x_test)\n",
    "\n",
    "hasil_tf.ravel()"
   ]
  },
  {
   "cell_type": "markdown",
   "metadata": {},
   "source": [
    "#### Evaluate the model using mean squared error"
   ]
  },
  {
   "cell_type": "code",
   "execution_count": 21,
   "metadata": {},
   "outputs": [
    {
     "data": {
      "text/plain": [
       "2.0105550696161534"
      ]
     },
     "execution_count": 21,
     "metadata": {},
     "output_type": "execute_result"
    }
   ],
   "source": [
    "mean_squared_error(y_test, hasil_tf)"
   ]
  },
  {
   "cell_type": "markdown",
   "metadata": {},
   "source": [
    "#### Data result visulization with line chart\n"
   ]
  },
  {
   "cell_type": "code",
   "execution_count": 22,
   "metadata": {},
   "outputs": [
    {
     "data": {
      "text/plain": [
       "<matplotlib.legend.Legend at 0x1b78219b880>"
      ]
     },
     "execution_count": 22,
     "metadata": {},
     "output_type": "execute_result"
    },
    {
     "data": {
      "image/png": "[encoded data removed]",
      "text/plain": [
       "<Figure size 432x288 with 1 Axes>"
      ]
     },
     "metadata": {
      "needs_background": "light"
     },
     "output_type": "display_data"
    }
   ],
   "source": [
    "plt.plot(list(hasil_tf), label= \"Tensorflow\")\n",
    "plt.plot(list(y_test), label = 'Actual Value')\n",
    "\n",
    "plt.legend(loc='upper right')"
   ]
  },
  {
   "cell_type": "markdown",
   "metadata": {},
   "source": [
    "#### Conclusion\n",
    "The mse from tensorflow is higher than mse from linear regression. Thus, We can conclude that classical machine models are better than tensorflow for around 382 trainings. "
   ]
  },
  {
   "cell_type": "markdown",
   "metadata": {},
   "source": []
  }
 ],
 "metadata": {
  "kernelspec": {
   "display_name": "Python 3.10.4 ('atrophine_tf')",
   "language": "python",
   "name": "python3"
  },
  "language_info": {
   "codemirror_mode": {
    "name": "ipython",
    "version": 3
   },
   "file_extension": ".py",
   "mimetype": "text/x-python",
   "name": "python",
   "nbconvert_exporter": "python",
   "pygments_lexer": "ipython3",
   "version": "3.10.4"
  },
  "orig_nbformat": 4,
  "vscode": {
   "interpreter": {
    "hash": "fc55cb3689c546066962b666c18656acd1e2a33334a25526b1b5941d10b03637"
   }
  }
 },
 "nbformat": 4,
 "nbformat_minor": 2
}
