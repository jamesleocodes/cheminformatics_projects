{
 "cells": [
  {
   "cell_type": "markdown",
   "metadata": {},
   "source": [
    "#### Introduction"
   ]
  },
  {
   "cell_type": "markdown",
   "metadata": {},
   "source": [
    "#### Import libraries"
   ]
  },
  {
   "cell_type": "code",
   "execution_count": 1,
   "metadata": {},
   "outputs": [],
   "source": [
    "import pandas as pd\n",
    "import matplotlib.pyplot as plt\n",
    "from sklearn.model_selection import train_test_split\n",
    "from sklearn.neural_network import MLPRegressor\n",
    "from sklearn.linear_model import LinearRegression\n",
    "from sklearn.metrics import mean_squared_error"
   ]
  },
  {
   "cell_type": "markdown",
   "metadata": {},
   "source": [
    "##### Load data"
   ]
  },
  {
   "cell_type": "code",
   "execution_count": 2,
   "metadata": {},
   "outputs": [
    {
     "data": {
      "text/html": [
       "<div>\n",
       "<style scoped>\n",
       "    .dataframe tbody tr th:only-of-type {\n",
       "        vertical-align: middle;\n",
       "    }\n",
       "\n",
       "    .dataframe tbody tr th {\n",
       "        vertical-align: top;\n",
       "    }\n",
       "\n",
       "    .dataframe thead th {\n",
       "        text-align: right;\n",
       "    }\n",
       "</style>\n",
       "<table border=\"1\" class=\"dataframe\">\n",
       "  <thead>\n",
       "    <tr style=\"text-align: right;\">\n",
       "      <th></th>\n",
       "      <th>0</th>\n",
       "      <th>0.1</th>\n",
       "      <th>0.2</th>\n",
       "      <th>2.419</th>\n",
       "      <th>1.225</th>\n",
       "      <th>0.667</th>\n",
       "      <th>0.3</th>\n",
       "      <th>0.4</th>\n",
       "      <th>3.740</th>\n",
       "    </tr>\n",
       "  </thead>\n",
       "  <tbody>\n",
       "    <tr>\n",
       "      <th>0</th>\n",
       "      <td>0.00</td>\n",
       "      <td>0.000</td>\n",
       "      <td>0</td>\n",
       "      <td>2.638</td>\n",
       "      <td>1.401</td>\n",
       "      <td>0.632</td>\n",
       "      <td>0</td>\n",
       "      <td>0</td>\n",
       "      <td>4.330</td>\n",
       "    </tr>\n",
       "    <tr>\n",
       "      <th>1</th>\n",
       "      <td>9.23</td>\n",
       "      <td>11.000</td>\n",
       "      <td>0</td>\n",
       "      <td>5.799</td>\n",
       "      <td>2.930</td>\n",
       "      <td>0.486</td>\n",
       "      <td>0</td>\n",
       "      <td>0</td>\n",
       "      <td>7.019</td>\n",
       "    </tr>\n",
       "    <tr>\n",
       "      <th>2</th>\n",
       "      <td>9.23</td>\n",
       "      <td>11.000</td>\n",
       "      <td>0</td>\n",
       "      <td>5.453</td>\n",
       "      <td>2.887</td>\n",
       "      <td>0.495</td>\n",
       "      <td>0</td>\n",
       "      <td>0</td>\n",
       "      <td>6.723</td>\n",
       "    </tr>\n",
       "    <tr>\n",
       "      <th>3</th>\n",
       "      <td>9.23</td>\n",
       "      <td>11.000</td>\n",
       "      <td>0</td>\n",
       "      <td>4.068</td>\n",
       "      <td>2.758</td>\n",
       "      <td>0.695</td>\n",
       "      <td>0</td>\n",
       "      <td>0</td>\n",
       "      <td>5.979</td>\n",
       "    </tr>\n",
       "    <tr>\n",
       "      <th>4</th>\n",
       "      <td>215.34</td>\n",
       "      <td>327.629</td>\n",
       "      <td>3</td>\n",
       "      <td>0.189</td>\n",
       "      <td>4.677</td>\n",
       "      <td>1.333</td>\n",
       "      <td>0</td>\n",
       "      <td>4</td>\n",
       "      <td>6.064</td>\n",
       "    </tr>\n",
       "    <tr>\n",
       "      <th>...</th>\n",
       "      <td>...</td>\n",
       "      <td>...</td>\n",
       "      <td>...</td>\n",
       "      <td>...</td>\n",
       "      <td>...</td>\n",
       "      <td>...</td>\n",
       "      <td>...</td>\n",
       "      <td>...</td>\n",
       "      <td>...</td>\n",
       "    </tr>\n",
       "    <tr>\n",
       "      <th>540</th>\n",
       "      <td>24.06</td>\n",
       "      <td>35.776</td>\n",
       "      <td>2</td>\n",
       "      <td>3.326</td>\n",
       "      <td>2.837</td>\n",
       "      <td>0.849</td>\n",
       "      <td>2</td>\n",
       "      <td>0</td>\n",
       "      <td>4.651</td>\n",
       "    </tr>\n",
       "    <tr>\n",
       "      <th>541</th>\n",
       "      <td>9.23</td>\n",
       "      <td>11.000</td>\n",
       "      <td>0</td>\n",
       "      <td>3.275</td>\n",
       "      <td>2.727</td>\n",
       "      <td>0.874</td>\n",
       "      <td>0</td>\n",
       "      <td>0</td>\n",
       "      <td>3.953</td>\n",
       "    </tr>\n",
       "    <tr>\n",
       "      <th>542</th>\n",
       "      <td>0.00</td>\n",
       "      <td>0.000</td>\n",
       "      <td>0</td>\n",
       "      <td>5.165</td>\n",
       "      <td>3.111</td>\n",
       "      <td>0.732</td>\n",
       "      <td>0</td>\n",
       "      <td>0</td>\n",
       "      <td>6.219</td>\n",
       "    </tr>\n",
       "    <tr>\n",
       "      <th>543</th>\n",
       "      <td>13.14</td>\n",
       "      <td>9.507</td>\n",
       "      <td>0</td>\n",
       "      <td>2.859</td>\n",
       "      <td>2.614</td>\n",
       "      <td>0.827</td>\n",
       "      <td>0</td>\n",
       "      <td>0</td>\n",
       "      <td>4.995</td>\n",
       "    </tr>\n",
       "    <tr>\n",
       "      <th>544</th>\n",
       "      <td>0.00</td>\n",
       "      <td>0.000</td>\n",
       "      <td>0</td>\n",
       "      <td>2.255</td>\n",
       "      <td>1.800</td>\n",
       "      <td>0.917</td>\n",
       "      <td>0</td>\n",
       "      <td>0</td>\n",
       "      <td>2.480</td>\n",
       "    </tr>\n",
       "  </tbody>\n",
       "</table>\n",
       "<p>545 rows × 9 columns</p>\n",
       "</div>"
      ],
      "text/plain": [
       "          0      0.1  0.2  2.419  1.225  0.667  0.3  0.4  3.740\n",
       "0      0.00    0.000    0  2.638  1.401  0.632    0    0  4.330\n",
       "1      9.23   11.000    0  5.799  2.930  0.486    0    0  7.019\n",
       "2      9.23   11.000    0  5.453  2.887  0.495    0    0  6.723\n",
       "3      9.23   11.000    0  4.068  2.758  0.695    0    0  5.979\n",
       "4    215.34  327.629    3  0.189  4.677  1.333    0    4  6.064\n",
       "..      ...      ...  ...    ...    ...    ...  ...  ...    ...\n",
       "540   24.06   35.776    2  3.326  2.837  0.849    2    0  4.651\n",
       "541    9.23   11.000    0  3.275  2.727  0.874    0    0  3.953\n",
       "542    0.00    0.000    0  5.165  3.111  0.732    0    0  6.219\n",
       "543   13.14    9.507    0  2.859  2.614  0.827    0    0  4.995\n",
       "544    0.00    0.000    0  2.255  1.800  0.917    0    0  2.480\n",
       "\n",
       "[545 rows x 9 columns]"
      ]
     },
     "execution_count": 2,
     "metadata": {},
     "output_type": "execute_result"
    }
   ],
   "source": [
    "data = pd.read_csv(\"qsar_aquatic_toxicity.csv\",sep=\";\")\n",
    "data"
   ]
  },
  {
   "cell_type": "code",
   "execution_count": 3,
   "metadata": {},
   "outputs": [
    {
     "data": {
      "text/html": [
       "<div>\n",
       "<style scoped>\n",
       "    .dataframe tbody tr th:only-of-type {\n",
       "        vertical-align: middle;\n",
       "    }\n",
       "\n",
       "    .dataframe tbody tr th {\n",
       "        vertical-align: top;\n",
       "    }\n",
       "\n",
       "    .dataframe thead th {\n",
       "        text-align: right;\n",
       "    }\n",
       "</style>\n",
       "<table border=\"1\" class=\"dataframe\">\n",
       "  <thead>\n",
       "    <tr style=\"text-align: right;\">\n",
       "      <th></th>\n",
       "      <th>TPSA</th>\n",
       "      <th>SAacc</th>\n",
       "      <th>H-050</th>\n",
       "      <th>MLOGP</th>\n",
       "      <th>RDCHI</th>\n",
       "      <th>GATS1p</th>\n",
       "      <th>nN</th>\n",
       "      <th>C-040</th>\n",
       "      <th>quantitative response</th>\n",
       "    </tr>\n",
       "  </thead>\n",
       "  <tbody>\n",
       "    <tr>\n",
       "      <th>0</th>\n",
       "      <td>0.00</td>\n",
       "      <td>0.000</td>\n",
       "      <td>0</td>\n",
       "      <td>2.419</td>\n",
       "      <td>1.225</td>\n",
       "      <td>0.667</td>\n",
       "      <td>0</td>\n",
       "      <td>0</td>\n",
       "      <td>3.740</td>\n",
       "    </tr>\n",
       "    <tr>\n",
       "      <th>1</th>\n",
       "      <td>0.00</td>\n",
       "      <td>0.000</td>\n",
       "      <td>0</td>\n",
       "      <td>2.638</td>\n",
       "      <td>1.401</td>\n",
       "      <td>0.632</td>\n",
       "      <td>0</td>\n",
       "      <td>0</td>\n",
       "      <td>4.330</td>\n",
       "    </tr>\n",
       "    <tr>\n",
       "      <th>2</th>\n",
       "      <td>9.23</td>\n",
       "      <td>11.000</td>\n",
       "      <td>0</td>\n",
       "      <td>5.799</td>\n",
       "      <td>2.930</td>\n",
       "      <td>0.486</td>\n",
       "      <td>0</td>\n",
       "      <td>0</td>\n",
       "      <td>7.019</td>\n",
       "    </tr>\n",
       "    <tr>\n",
       "      <th>3</th>\n",
       "      <td>9.23</td>\n",
       "      <td>11.000</td>\n",
       "      <td>0</td>\n",
       "      <td>5.453</td>\n",
       "      <td>2.887</td>\n",
       "      <td>0.495</td>\n",
       "      <td>0</td>\n",
       "      <td>0</td>\n",
       "      <td>6.723</td>\n",
       "    </tr>\n",
       "    <tr>\n",
       "      <th>4</th>\n",
       "      <td>9.23</td>\n",
       "      <td>11.000</td>\n",
       "      <td>0</td>\n",
       "      <td>4.068</td>\n",
       "      <td>2.758</td>\n",
       "      <td>0.695</td>\n",
       "      <td>0</td>\n",
       "      <td>0</td>\n",
       "      <td>5.979</td>\n",
       "    </tr>\n",
       "    <tr>\n",
       "      <th>...</th>\n",
       "      <td>...</td>\n",
       "      <td>...</td>\n",
       "      <td>...</td>\n",
       "      <td>...</td>\n",
       "      <td>...</td>\n",
       "      <td>...</td>\n",
       "      <td>...</td>\n",
       "      <td>...</td>\n",
       "      <td>...</td>\n",
       "    </tr>\n",
       "    <tr>\n",
       "      <th>541</th>\n",
       "      <td>24.06</td>\n",
       "      <td>35.776</td>\n",
       "      <td>2</td>\n",
       "      <td>3.326</td>\n",
       "      <td>2.837</td>\n",
       "      <td>0.849</td>\n",
       "      <td>2</td>\n",
       "      <td>0</td>\n",
       "      <td>4.651</td>\n",
       "    </tr>\n",
       "    <tr>\n",
       "      <th>542</th>\n",
       "      <td>9.23</td>\n",
       "      <td>11.000</td>\n",
       "      <td>0</td>\n",
       "      <td>3.275</td>\n",
       "      <td>2.727</td>\n",
       "      <td>0.874</td>\n",
       "      <td>0</td>\n",
       "      <td>0</td>\n",
       "      <td>3.953</td>\n",
       "    </tr>\n",
       "    <tr>\n",
       "      <th>543</th>\n",
       "      <td>0.00</td>\n",
       "      <td>0.000</td>\n",
       "      <td>0</td>\n",
       "      <td>5.165</td>\n",
       "      <td>3.111</td>\n",
       "      <td>0.732</td>\n",
       "      <td>0</td>\n",
       "      <td>0</td>\n",
       "      <td>6.219</td>\n",
       "    </tr>\n",
       "    <tr>\n",
       "      <th>544</th>\n",
       "      <td>13.14</td>\n",
       "      <td>9.507</td>\n",
       "      <td>0</td>\n",
       "      <td>2.859</td>\n",
       "      <td>2.614</td>\n",
       "      <td>0.827</td>\n",
       "      <td>0</td>\n",
       "      <td>0</td>\n",
       "      <td>4.995</td>\n",
       "    </tr>\n",
       "    <tr>\n",
       "      <th>545</th>\n",
       "      <td>0.00</td>\n",
       "      <td>0.000</td>\n",
       "      <td>0</td>\n",
       "      <td>2.255</td>\n",
       "      <td>1.800</td>\n",
       "      <td>0.917</td>\n",
       "      <td>0</td>\n",
       "      <td>0</td>\n",
       "      <td>2.480</td>\n",
       "    </tr>\n",
       "  </tbody>\n",
       "</table>\n",
       "<p>546 rows × 9 columns</p>\n",
       "</div>"
      ],
      "text/plain": [
       "      TPSA   SAacc  H-050  MLOGP  RDCHI  GATS1p  nN  C-040  \\\n",
       "0     0.00   0.000      0  2.419  1.225   0.667   0      0   \n",
       "1     0.00   0.000      0  2.638  1.401   0.632   0      0   \n",
       "2     9.23  11.000      0  5.799  2.930   0.486   0      0   \n",
       "3     9.23  11.000      0  5.453  2.887   0.495   0      0   \n",
       "4     9.23  11.000      0  4.068  2.758   0.695   0      0   \n",
       "..     ...     ...    ...    ...    ...     ...  ..    ...   \n",
       "541  24.06  35.776      2  3.326  2.837   0.849   2      0   \n",
       "542   9.23  11.000      0  3.275  2.727   0.874   0      0   \n",
       "543   0.00   0.000      0  5.165  3.111   0.732   0      0   \n",
       "544  13.14   9.507      0  2.859  2.614   0.827   0      0   \n",
       "545   0.00   0.000      0  2.255  1.800   0.917   0      0   \n",
       "\n",
       "     quantitative response  \n",
       "0                    3.740  \n",
       "1                    4.330  \n",
       "2                    7.019  \n",
       "3                    6.723  \n",
       "4                    5.979  \n",
       "..                     ...  \n",
       "541                  4.651  \n",
       "542                  3.953  \n",
       "543                  6.219  \n",
       "544                  4.995  \n",
       "545                  2.480  \n",
       "\n",
       "[546 rows x 9 columns]"
      ]
     },
     "execution_count": 3,
     "metadata": {},
     "output_type": "execute_result"
    }
   ],
   "source": [
    "# Need to have header\n",
    "data = pd.read_csv(\"qsar_aquatic_toxicity.csv\",sep=\";\", names=['TPSA', 'SAacc', 'H-050', 'MLOGP', 'RDCHI', 'GATS1p', 'nN', 'C-040',\n",
    "                          'quantitative response'])\n",
    "data                         "
   ]
  },
  {
   "cell_type": "markdown",
   "metadata": {},
   "source": [
    "#### Data information and characteristics"
   ]
  },
  {
   "cell_type": "code",
   "execution_count": 4,
   "metadata": {},
   "outputs": [
    {
     "name": "stdout",
     "output_type": "stream",
     "text": [
      "<class 'pandas.core.frame.DataFrame'>\n",
      "RangeIndex: 546 entries, 0 to 545\n",
      "Data columns (total 9 columns):\n",
      " #   Column                 Non-Null Count  Dtype  \n",
      "---  ------                 --------------  -----  \n",
      " 0   TPSA                   546 non-null    float64\n",
      " 1   SAacc                  546 non-null    float64\n",
      " 2   H-050                  546 non-null    int64  \n",
      " 3   MLOGP                  546 non-null    float64\n",
      " 4   RDCHI                  546 non-null    float64\n",
      " 5   GATS1p                 546 non-null    float64\n",
      " 6   nN                     546 non-null    int64  \n",
      " 7   C-040                  546 non-null    int64  \n",
      " 8   quantitative response  546 non-null    float64\n",
      "dtypes: float64(6), int64(3)\n",
      "memory usage: 38.5 KB\n"
     ]
    },
    {
     "data": {
      "text/html": [
       "<div>\n",
       "<style scoped>\n",
       "    .dataframe tbody tr th:only-of-type {\n",
       "        vertical-align: middle;\n",
       "    }\n",
       "\n",
       "    .dataframe tbody tr th {\n",
       "        vertical-align: top;\n",
       "    }\n",
       "\n",
       "    .dataframe thead th {\n",
       "        text-align: right;\n",
       "    }\n",
       "</style>\n",
       "<table border=\"1\" class=\"dataframe\">\n",
       "  <thead>\n",
       "    <tr style=\"text-align: right;\">\n",
       "      <th></th>\n",
       "      <th>TPSA</th>\n",
       "      <th>SAacc</th>\n",
       "      <th>H-050</th>\n",
       "      <th>MLOGP</th>\n",
       "      <th>RDCHI</th>\n",
       "      <th>GATS1p</th>\n",
       "      <th>nN</th>\n",
       "      <th>C-040</th>\n",
       "      <th>quantitative response</th>\n",
       "    </tr>\n",
       "  </thead>\n",
       "  <tbody>\n",
       "    <tr>\n",
       "      <th>count</th>\n",
       "      <td>546.000000</td>\n",
       "      <td>546.000000</td>\n",
       "      <td>546.000000</td>\n",
       "      <td>546.000000</td>\n",
       "      <td>546.000000</td>\n",
       "      <td>546.000000</td>\n",
       "      <td>546.000000</td>\n",
       "      <td>546.000000</td>\n",
       "      <td>546.000000</td>\n",
       "    </tr>\n",
       "    <tr>\n",
       "      <th>mean</th>\n",
       "      <td>48.472930</td>\n",
       "      <td>58.869018</td>\n",
       "      <td>0.937729</td>\n",
       "      <td>2.313493</td>\n",
       "      <td>2.492299</td>\n",
       "      <td>1.046264</td>\n",
       "      <td>1.003663</td>\n",
       "      <td>0.353480</td>\n",
       "      <td>4.658421</td>\n",
       "    </tr>\n",
       "    <tr>\n",
       "      <th>std</th>\n",
       "      <td>46.763983</td>\n",
       "      <td>68.166554</td>\n",
       "      <td>1.618632</td>\n",
       "      <td>1.741797</td>\n",
       "      <td>0.811004</td>\n",
       "      <td>0.403677</td>\n",
       "      <td>1.397240</td>\n",
       "      <td>0.806827</td>\n",
       "      <td>1.665215</td>\n",
       "    </tr>\n",
       "    <tr>\n",
       "      <th>min</th>\n",
       "      <td>0.000000</td>\n",
       "      <td>0.000000</td>\n",
       "      <td>0.000000</td>\n",
       "      <td>-6.446000</td>\n",
       "      <td>1.000000</td>\n",
       "      <td>0.281000</td>\n",
       "      <td>0.000000</td>\n",
       "      <td>0.000000</td>\n",
       "      <td>0.122000</td>\n",
       "    </tr>\n",
       "    <tr>\n",
       "      <th>25%</th>\n",
       "      <td>15.790000</td>\n",
       "      <td>11.000000</td>\n",
       "      <td>0.000000</td>\n",
       "      <td>1.232500</td>\n",
       "      <td>1.975000</td>\n",
       "      <td>0.737000</td>\n",
       "      <td>0.000000</td>\n",
       "      <td>0.000000</td>\n",
       "      <td>3.601500</td>\n",
       "    </tr>\n",
       "    <tr>\n",
       "      <th>50%</th>\n",
       "      <td>40.460000</td>\n",
       "      <td>42.683000</td>\n",
       "      <td>0.000000</td>\n",
       "      <td>2.273500</td>\n",
       "      <td>2.344000</td>\n",
       "      <td>1.020500</td>\n",
       "      <td>1.000000</td>\n",
       "      <td>0.000000</td>\n",
       "      <td>4.516000</td>\n",
       "    </tr>\n",
       "    <tr>\n",
       "      <th>75%</th>\n",
       "      <td>70.022500</td>\n",
       "      <td>77.492750</td>\n",
       "      <td>1.000000</td>\n",
       "      <td>3.392750</td>\n",
       "      <td>2.911000</td>\n",
       "      <td>1.266500</td>\n",
       "      <td>2.000000</td>\n",
       "      <td>0.000000</td>\n",
       "      <td>5.607500</td>\n",
       "    </tr>\n",
       "    <tr>\n",
       "      <th>max</th>\n",
       "      <td>347.320000</td>\n",
       "      <td>571.952000</td>\n",
       "      <td>18.000000</td>\n",
       "      <td>9.148000</td>\n",
       "      <td>6.439000</td>\n",
       "      <td>2.500000</td>\n",
       "      <td>11.000000</td>\n",
       "      <td>11.000000</td>\n",
       "      <td>10.047000</td>\n",
       "    </tr>\n",
       "  </tbody>\n",
       "</table>\n",
       "</div>"
      ],
      "text/plain": [
       "             TPSA       SAacc       H-050       MLOGP       RDCHI      GATS1p  \\\n",
       "count  546.000000  546.000000  546.000000  546.000000  546.000000  546.000000   \n",
       "mean    48.472930   58.869018    0.937729    2.313493    2.492299    1.046264   \n",
       "std     46.763983   68.166554    1.618632    1.741797    0.811004    0.403677   \n",
       "min      0.000000    0.000000    0.000000   -6.446000    1.000000    0.281000   \n",
       "25%     15.790000   11.000000    0.000000    1.232500    1.975000    0.737000   \n",
       "50%     40.460000   42.683000    0.000000    2.273500    2.344000    1.020500   \n",
       "75%     70.022500   77.492750    1.000000    3.392750    2.911000    1.266500   \n",
       "max    347.320000  571.952000   18.000000    9.148000    6.439000    2.500000   \n",
       "\n",
       "               nN       C-040  quantitative response  \n",
       "count  546.000000  546.000000             546.000000  \n",
       "mean     1.003663    0.353480               4.658421  \n",
       "std      1.397240    0.806827               1.665215  \n",
       "min      0.000000    0.000000               0.122000  \n",
       "25%      0.000000    0.000000               3.601500  \n",
       "50%      1.000000    0.000000               4.516000  \n",
       "75%      2.000000    0.000000               5.607500  \n",
       "max     11.000000   11.000000              10.047000  "
      ]
     },
     "execution_count": 4,
     "metadata": {},
     "output_type": "execute_result"
    }
   ],
   "source": [
    "data.info()\n",
    "data.describe()"
   ]
  },
  {
   "cell_type": "code",
   "execution_count": 5,
   "metadata": {},
   "outputs": [
    {
     "data": {
      "image/png": "[encoded data removed]",
      "text/plain": [
       "<Figure size 1080x720 with 8 Axes>"
      ]
     },
     "metadata": {
      "needs_background": "light"
     },
     "output_type": "display_data"
    }
   ],
   "source": [
    "#Histogram Visualization\n",
    "fig, axs = plt.subplots(2, 4, figsize=(15, 10))\n",
    "axs[0,0].hist(data['TPSA'])\n",
    "axs[0,0].set_title('TPSA')\n",
    "\n",
    "axs[0,1].hist(data['SAacc'])\n",
    "axs[0,1].set_title('SAacc')\n",
    "\n",
    "axs[0,2].hist(data['H-050'])\n",
    "axs[0,2].set_title('H-050')\n",
    "\n",
    "axs[0,3].hist(data['MLOGP'])\n",
    "axs[0,3].set_title('MLOGP')\n",
    "\n",
    "axs[1,0].hist(data['RDCHI'])\n",
    "axs[1,0].set_title('RDCHI')\n",
    "\n",
    "axs[1,1].hist(data['nN'])\n",
    "axs[1,1].set_title('nN')\n",
    "\n",
    "axs[1,2].hist(data['C-040'])\n",
    "axs[1,2].set_title('C-040')\n",
    "\n",
    "axs[1,3].hist(data['quantitative response'])\n",
    "axs[1,3].set_title('quantitative response')\n",
    "\n",
    "plt.show()"
   ]
  },
  {
   "cell_type": "code",
   "execution_count": 6,
   "metadata": {},
   "outputs": [],
   "source": [
    "#### Define a function to get the columns that do not have any missing values\n",
    "\n",
    "def get_cols_with_no_nans(df,col_type):\n",
    "    \"\"\"\n",
    "    Arguments :\n",
    "    df : The dataframe to process\n",
    "    col_type:\n",
    "        num : to only get numerical columns with no nans\n",
    "        no_num : to only get non-numerical columns with no nans\n",
    "        all : to get any columns with no nans\n",
    "     \"\"\" \n",
    "    if (col_type == 'num'):\n",
    "        predictors = df.select_dtypes(exclude = ['object'])\n",
    "    elif (col_type == 'no_num'):\n",
    "        predictors = df.select_dtypes(include = ['object'])\n",
    "    elif (col_type == 'all'):\n",
    "        predictors = df\n",
    "    else:\n",
    "        print('Error : choose a type (num, no_num, all)')\n",
    "        return 0\n",
    "    cols_with_no_nans = []\n",
    "    for col in predictors.columns:\n",
    "        if not df[col].isnull().any():\n",
    "            cols_with_no_nans.append(col)\n",
    "    return cols_with_no_nans"
   ]
  },
  {
   "cell_type": "code",
   "execution_count": 7,
   "metadata": {},
   "outputs": [],
   "source": [
    "# Get the columns that do not have any missing values\n",
    "\n",
    "num_cols = get_cols_with_no_nans(data, 'num')\n",
    "cat_cols = get_cols_with_no_nans(data, 'no_num')"
   ]
  },
  {
   "cell_type": "code",
   "execution_count": 8,
   "metadata": {},
   "outputs": [
    {
     "name": "stdout",
     "output_type": "stream",
     "text": [
      "Number of numerical columns with no nan values :  9\n",
      "Number of non-numberical columns with no nan values : 0\n"
     ]
    }
   ],
   "source": [
    "# How many column we got?\n",
    "\n",
    "print(\"Number of numerical columns with no nan values : \", len(num_cols))\n",
    "print(\"Number of non-numberical columns with no nan values :\", len(cat_cols))"
   ]
  },
  {
   "cell_type": "code",
   "execution_count": 9,
   "metadata": {},
   "outputs": [
    {
     "data": {
      "image/png": "[encoded data removed]",
      "text/plain": [
       "<Figure size 864x720 with 9 Axes>"
      ]
     },
     "metadata": {
      "needs_background": "light"
     },
     "output_type": "display_data"
    }
   ],
   "source": [
    "data = data[num_cols + cat_cols]\n",
    "data.hist(figsize = (12,10))\n",
    "plt.show()"
   ]
  },
  {
   "cell_type": "code",
   "execution_count": 10,
   "metadata": {},
   "outputs": [
    {
     "name": "stdout",
     "output_type": "stream",
     "text": [
      "Train:  382\n",
      "Test : 164\n"
     ]
    }
   ],
   "source": [
    "# Split data : 70% of data for training and 30 % of data for data testing\n",
    "\n",
    "x_train, x_test , y_train, y_test = train_test_split(data.drop(axis=0, columns='quantitative response'),\n",
    "                                    data['quantitative response'], test_size=0.3)\n",
    "\n",
    "print(\"Train: \",len(x_train))\n",
    "print(\"Test :\", len(x_test))"
   ]
  },
  {
   "cell_type": "markdown",
   "metadata": {},
   "source": [
    "#### Train and test the models"
   ]
  },
  {
   "cell_type": "code",
   "execution_count": 11,
   "metadata": {},
   "outputs": [
    {
     "name": "stdout",
     "output_type": "stream",
     "text": [
      "Mean Squared Error Linear Regression : 1.6303396315806669\n",
      "Mean Squared Error Multilayer Perceptron : 1.856318409897038\n"
     ]
    },
    {
     "name": "stderr",
     "output_type": "stream",
     "text": [
      "/Users/zaw/miniforge3/envs/ds/lib/python3.9/site-packages/sklearn/neural_network/_multilayer_perceptron.py:692: ConvergenceWarning: Stochastic Optimizer: Maximum iterations (200) reached and the optimization hasn't converged yet.\n",
      "  warnings.warn(\n"
     ]
    }
   ],
   "source": [
    "lnr = LinearRegression()\n",
    "mlp = MLPRegressor()\n",
    "\n",
    "lnr.fit(x_train, y_train)\n",
    "mlp.fit(x_train, y_train)\n",
    "\n",
    "hasil_lnr = lnr.predict(x_test)\n",
    "hasil_mlp = mlp.predict(x_test)\n",
    "\n",
    "print(\"Mean Squared Error Linear Regression :\", mean_squared_error(y_test, hasil_lnr))\n",
    "print(\"Mean Squared Error Multilayer Perceptron :\",mean_squared_error(y_test, hasil_mlp))"
   ]
  },
  {
   "cell_type": "code",
   "execution_count": 12,
   "metadata": {},
   "outputs": [
    {
     "data": {
      "text/plain": [
       "<matplotlib.legend.Legend at 0x12f275700>"
      ]
     },
     "execution_count": 12,
     "metadata": {},
     "output_type": "execute_result"
    },
    {
     "data": {
      "image/png": "[encoded data removed]",
      "text/plain": [
       "<Figure size 432x288 with 1 Axes>"
      ]
     },
     "metadata": {
      "needs_background": "light"
     },
     "output_type": "display_data"
    }
   ],
   "source": [
    "plt.plot(list(hasil_lnr), label ='Linear Regression')\n",
    "plt.plot(list(y_test), label = 'Actual Value')\n",
    "\n",
    "plt.legend(loc='upper right')"
   ]
  },
  {
   "cell_type": "code",
   "execution_count": 13,
   "metadata": {},
   "outputs": [
    {
     "data": {
      "text/plain": [
       "<matplotlib.legend.Legend at 0x12bd0f190>"
      ]
     },
     "execution_count": 13,
     "metadata": {},
     "output_type": "execute_result"
    },
    {
     "data": {
      "image/png": "[encoded data removed]",
      "text/plain": [
       "<Figure size 432x288 with 1 Axes>"
      ]
     },
     "metadata": {
      "needs_background": "light"
     },
     "output_type": "display_data"
    }
   ],
   "source": [
    "plt.plot(list(hasil_mlp), label = \" Multilayer Perceptron\")\n",
    "plt.plot(list(y_test), label = 'Actual Value')\n",
    "plt.legend(loc='upper right')"
   ]
  },
  {
   "cell_type": "markdown",
   "metadata": {},
   "source": [
    "### Tensorflow"
   ]
  },
  {
   "cell_type": "code",
   "execution_count": 14,
   "metadata": {},
   "outputs": [],
   "source": [
    "# Import library\n",
    "from tensorflow.keras import Sequential, layers, optimizers"
   ]
  },
  {
   "cell_type": "markdown",
   "metadata": {},
   "source": [
    "#### Model\n",
    "Consists of : 8 nodes in the input layer 8 nodes in hidden layers 1 and 2 along with the activation function used is ReLU also 1 node in the output because this case is regression"
   ]
  },
  {
   "cell_type": "code",
   "execution_count": 15,
   "metadata": {},
   "outputs": [],
   "source": [
    "def Simple_NN():\n",
    "    model = Sequential([\n",
    "    layers.Dense(8, activation = 'relu', input_shape =[8]),\n",
    "    layers.Dense(8, activation = 'relu'),\n",
    "    layers.Dense(1)\n",
    "    ])\n",
    "\n",
    "    optimizer = optimizers.RMSprop(0.001)\n",
    "    model.compile(loss='mse', optimizer= optimizer, metrics = ['mae','mse'])\n",
    "    return model\n",
    "    "
   ]
  },
  {
   "cell_type": "code",
   "execution_count": 16,
   "metadata": {},
   "outputs": [
    {
     "name": "stderr",
     "output_type": "stream",
     "text": [
      "2022-07-19 17:25:18.133045: I tensorflow/core/common_runtime/pluggable_device/pluggable_device_factory.cc:305] Could not identify NUMA node of platform GPU ID 0, defaulting to 0. Your kernel may not have been built with NUMA support.\n",
      "2022-07-19 17:25:18.133454: I tensorflow/core/common_runtime/pluggable_device/pluggable_device_factory.cc:271] Created TensorFlow device (/job:localhost/replica:0/task:0/device:GPU:0 with 0 MB memory) -> physical PluggableDevice (device: 0, name: METAL, pci bus id: <undefined>)\n"
     ]
    },
    {
     "name": "stdout",
     "output_type": "stream",
     "text": [
      "Metal device set to: Apple M1\n",
      "\n",
      "systemMemory: 16.00 GB\n",
      "maxCacheSize: 5.33 GB\n",
      "\n",
      "Model: \"sequential\"\n",
      "_________________________________________________________________\n",
      " Layer (type)                Output Shape              Param #   \n",
      "=================================================================\n",
      " dense (Dense)               (None, 8)                 72        \n",
      "                                                                 \n",
      " dense_1 (Dense)             (None, 8)                 72        \n",
      "                                                                 \n",
      " dense_2 (Dense)             (None, 1)                 9         \n",
      "                                                                 \n",
      "=================================================================\n",
      "Total params: 153\n",
      "Trainable params: 153\n",
      "Non-trainable params: 0\n",
      "_________________________________________________________________\n"
     ]
    }
   ],
   "source": [
    "model = Simple_NN()\n",
    "model.summary()"
   ]
  },
  {
   "cell_type": "markdown",
   "metadata": {},
   "source": [
    "#### Training Model"
   ]
  },
  {
   "cell_type": "code",
   "execution_count": 17,
   "metadata": {},
   "outputs": [
    {
     "name": "stdout",
     "output_type": "stream",
     "text": [
      "Epoch 1/100\n"
     ]
    },
    {
     "name": "stderr",
     "output_type": "stream",
     "text": [
      "2022-07-19 17:25:18.557007: W tensorflow/core/platform/profile_utils/cpu_utils.cc:128] Failed to get CPU frequency: 0 Hz\n",
      "2022-07-19 17:25:18.819851: I tensorflow/core/grappler/optimizers/custom_graph_optimizer_registry.cc:112] Plugin optimizer for device_type GPU is enabled.\n"
     ]
    },
    {
     "name": "stdout",
     "output_type": "stream",
     "text": [
      "10/10 [==============================] - 2s 47ms/step - loss: 670.2499 - mae: 17.8759 - mse: 670.2499 - val_loss: 740.9340 - val_mae: 14.9820 - val_mse: 740.9340\n",
      "Epoch 2/100\n",
      "10/10 [==============================] - 0s 11ms/step - loss: 455.7002 - mae: 14.5677 - mse: 455.7002 - val_loss: 541.1929 - val_mae: 12.5651 - val_mse: 541.1929\n",
      "Epoch 3/100\n",
      " 1/10 [==>...........................] - ETA: 0s - loss: 371.1035 - mae: 14.2022 - mse: 371.1035"
     ]
    },
    {
     "name": "stderr",
     "output_type": "stream",
     "text": [
      "2022-07-19 17:25:20.127037: I tensorflow/core/grappler/optimizers/custom_graph_optimizer_registry.cc:112] Plugin optimizer for device_type GPU is enabled.\n"
     ]
    },
    {
     "name": "stdout",
     "output_type": "stream",
     "text": [
      "10/10 [==============================] - 0s 11ms/step - loss: 330.0622 - mae: 12.0471 - mse: 330.0622 - val_loss: 419.5783 - val_mae: 10.9057 - val_mse: 419.5783\n",
      "Epoch 4/100\n",
      "10/10 [==============================] - 0s 11ms/step - loss: 244.5053 - mae: 10.2342 - mse: 244.5053 - val_loss: 311.7916 - val_mae: 9.2595 - val_mse: 311.7916\n",
      "Epoch 5/100\n",
      "10/10 [==============================] - 0s 12ms/step - loss: 173.9524 - mae: 8.4945 - mse: 173.9524 - val_loss: 220.8817 - val_mae: 7.7253 - val_mse: 220.8817\n",
      "Epoch 6/100\n",
      "10/10 [==============================] - 0s 11ms/step - loss: 117.2612 - mae: 7.0412 - mse: 117.2612 - val_loss: 156.6292 - val_mae: 6.5181 - val_mse: 156.6292\n",
      "Epoch 7/100\n",
      "10/10 [==============================] - 0s 10ms/step - loss: 79.2766 - mae: 5.9097 - mse: 79.2766 - val_loss: 106.7814 - val_mae: 5.5736 - val_mse: 106.7814\n",
      "Epoch 8/100\n",
      "10/10 [==============================] - 0s 11ms/step - loss: 53.1736 - mae: 5.0582 - mse: 53.1736 - val_loss: 73.8035 - val_mae: 4.9794 - val_mse: 73.8035\n",
      "Epoch 9/100\n",
      "10/10 [==============================] - 0s 11ms/step - loss: 38.4251 - mae: 4.5337 - mse: 38.4251 - val_loss: 55.0888 - val_mae: 4.5757 - val_mse: 55.0888\n",
      "Epoch 10/100\n",
      "10/10 [==============================] - 0s 13ms/step - loss: 30.1505 - mae: 4.2257 - mse: 30.1505 - val_loss: 42.0566 - val_mae: 4.3176 - val_mse: 42.0566\n",
      "Epoch 11/100\n",
      "10/10 [==============================] - 0s 11ms/step - loss: 25.3300 - mae: 4.0250 - mse: 25.3300 - val_loss: 34.3800 - val_mae: 4.1196 - val_mse: 34.3800\n",
      "Epoch 12/100\n",
      "10/10 [==============================] - 0s 11ms/step - loss: 22.1748 - mae: 3.8393 - mse: 22.1748 - val_loss: 30.6909 - val_mae: 3.9658 - val_mse: 30.6909\n",
      "Epoch 13/100\n",
      "10/10 [==============================] - 0s 11ms/step - loss: 19.6987 - mae: 3.6526 - mse: 19.6987 - val_loss: 28.2350 - val_mae: 3.8269 - val_mse: 28.2350\n",
      "Epoch 14/100\n",
      "10/10 [==============================] - 0s 11ms/step - loss: 17.6549 - mae: 3.4772 - mse: 17.6549 - val_loss: 26.0515 - val_mae: 3.6704 - val_mse: 26.0515\n",
      "Epoch 15/100\n",
      "10/10 [==============================] - 0s 12ms/step - loss: 15.8318 - mae: 3.2919 - mse: 15.8318 - val_loss: 21.9372 - val_mae: 3.5089 - val_mse: 21.9372\n",
      "Epoch 16/100\n",
      "10/10 [==============================] - 0s 13ms/step - loss: 14.4015 - mae: 3.1473 - mse: 14.4015 - val_loss: 21.6007 - val_mae: 3.3671 - val_mse: 21.6007\n",
      "Epoch 17/100\n",
      "10/10 [==============================] - 0s 11ms/step - loss: 13.3837 - mae: 3.0217 - mse: 13.3837 - val_loss: 21.2448 - val_mae: 3.2533 - val_mse: 21.2448\n",
      "Epoch 18/100\n",
      "10/10 [==============================] - 0s 11ms/step - loss: 12.3614 - mae: 2.8842 - mse: 12.3614 - val_loss: 18.8776 - val_mae: 3.1019 - val_mse: 18.8776\n",
      "Epoch 19/100\n",
      "10/10 [==============================] - 0s 11ms/step - loss: 11.5970 - mae: 2.7899 - mse: 11.5970 - val_loss: 15.2791 - val_mae: 2.9737 - val_mse: 15.2791\n",
      "Epoch 20/100\n",
      "10/10 [==============================] - 0s 13ms/step - loss: 10.8580 - mae: 2.6867 - mse: 10.8580 - val_loss: 15.2041 - val_mae: 2.8584 - val_mse: 15.2041\n",
      "Epoch 21/100\n",
      "10/10 [==============================] - 0s 12ms/step - loss: 10.4936 - mae: 2.6082 - mse: 10.4936 - val_loss: 14.4381 - val_mae: 2.7712 - val_mse: 14.4381\n",
      "Epoch 22/100\n",
      "10/10 [==============================] - 0s 11ms/step - loss: 9.8805 - mae: 2.5144 - mse: 9.8805 - val_loss: 13.6558 - val_mae: 2.6838 - val_mse: 13.6558\n",
      "Epoch 23/100\n",
      "10/10 [==============================] - 0s 11ms/step - loss: 9.3193 - mae: 2.4336 - mse: 9.3193 - val_loss: 14.1581 - val_mae: 2.6167 - val_mse: 14.1581\n",
      "Epoch 24/100\n",
      "10/10 [==============================] - 0s 11ms/step - loss: 8.8280 - mae: 2.3454 - mse: 8.8280 - val_loss: 12.0931 - val_mae: 2.5073 - val_mse: 12.0931\n",
      "Epoch 25/100\n",
      "10/10 [==============================] - 0s 11ms/step - loss: 8.5341 - mae: 2.2957 - mse: 8.5341 - val_loss: 11.5149 - val_mae: 2.4314 - val_mse: 11.5149\n",
      "Epoch 26/100\n",
      "10/10 [==============================] - 0s 12ms/step - loss: 7.9212 - mae: 2.1983 - mse: 7.9212 - val_loss: 11.8321 - val_mae: 2.3770 - val_mse: 11.8321\n",
      "Epoch 27/100\n",
      "10/10 [==============================] - 0s 11ms/step - loss: 7.6662 - mae: 2.1684 - mse: 7.6662 - val_loss: 10.7232 - val_mae: 2.2904 - val_mse: 10.7232\n",
      "Epoch 28/100\n",
      "10/10 [==============================] - 0s 11ms/step - loss: 7.3138 - mae: 2.1027 - mse: 7.3138 - val_loss: 9.5381 - val_mae: 2.2100 - val_mse: 9.5381\n",
      "Epoch 29/100\n",
      "10/10 [==============================] - 0s 11ms/step - loss: 6.9184 - mae: 2.0416 - mse: 6.9184 - val_loss: 9.4966 - val_mae: 2.1730 - val_mse: 9.4966\n",
      "Epoch 30/100\n",
      "10/10 [==============================] - 0s 11ms/step - loss: 6.5411 - mae: 1.9922 - mse: 6.5411 - val_loss: 8.6543 - val_mae: 2.1470 - val_mse: 8.6543\n",
      "Epoch 31/100\n",
      "10/10 [==============================] - 0s 11ms/step - loss: 6.2801 - mae: 1.9446 - mse: 6.2801 - val_loss: 9.5528 - val_mae: 2.0893 - val_mse: 9.5528\n",
      "Epoch 32/100\n",
      "10/10 [==============================] - 0s 11ms/step - loss: 6.2957 - mae: 1.9371 - mse: 6.2957 - val_loss: 7.8969 - val_mae: 2.0090 - val_mse: 7.8969\n",
      "Epoch 33/100\n",
      "10/10 [==============================] - 0s 11ms/step - loss: 5.8044 - mae: 1.8616 - mse: 5.8044 - val_loss: 7.3286 - val_mae: 1.9789 - val_mse: 7.3286\n",
      "Epoch 34/100\n",
      "10/10 [==============================] - 0s 11ms/step - loss: 5.7094 - mae: 1.8509 - mse: 5.7094 - val_loss: 7.9505 - val_mae: 1.9211 - val_mse: 7.9505\n",
      "Epoch 35/100\n",
      "10/10 [==============================] - 0s 11ms/step - loss: 5.3952 - mae: 1.7957 - mse: 5.3952 - val_loss: 7.6890 - val_mae: 1.8870 - val_mse: 7.6890\n",
      "Epoch 36/100\n",
      "10/10 [==============================] - 0s 11ms/step - loss: 5.3707 - mae: 1.8003 - mse: 5.3707 - val_loss: 7.0414 - val_mae: 1.8302 - val_mse: 7.0414\n",
      "Epoch 37/100\n",
      "10/10 [==============================] - 0s 12ms/step - loss: 5.0035 - mae: 1.7192 - mse: 5.0035 - val_loss: 6.4217 - val_mae: 1.7242 - val_mse: 6.4217\n",
      "Epoch 38/100\n",
      "10/10 [==============================] - 0s 11ms/step - loss: 4.6077 - mae: 1.6349 - mse: 4.6077 - val_loss: 5.5030 - val_mae: 1.6598 - val_mse: 5.5030\n",
      "Epoch 39/100\n",
      "10/10 [==============================] - 0s 11ms/step - loss: 4.4074 - mae: 1.6230 - mse: 4.4074 - val_loss: 4.8696 - val_mae: 1.5765 - val_mse: 4.8696\n",
      "Epoch 40/100\n",
      "10/10 [==============================] - 0s 11ms/step - loss: 3.9279 - mae: 1.5146 - mse: 3.9279 - val_loss: 5.0875 - val_mae: 1.5272 - val_mse: 5.0875\n",
      "Epoch 41/100\n",
      "10/10 [==============================] - 0s 12ms/step - loss: 3.7932 - mae: 1.4910 - mse: 3.7932 - val_loss: 4.4712 - val_mae: 1.4142 - val_mse: 4.4712\n",
      "Epoch 42/100\n",
      "10/10 [==============================] - 0s 11ms/step - loss: 3.2519 - mae: 1.3857 - mse: 3.2519 - val_loss: 3.9288 - val_mae: 1.3017 - val_mse: 3.9288\n",
      "Epoch 43/100\n",
      "10/10 [==============================] - 0s 11ms/step - loss: 3.2390 - mae: 1.3625 - mse: 3.2390 - val_loss: 3.1314 - val_mae: 1.2330 - val_mse: 3.1314\n",
      "Epoch 44/100\n",
      "10/10 [==============================] - 0s 11ms/step - loss: 2.8363 - mae: 1.2600 - mse: 2.8363 - val_loss: 2.8179 - val_mae: 1.1917 - val_mse: 2.8179\n",
      "Epoch 45/100\n",
      "10/10 [==============================] - 0s 11ms/step - loss: 2.7506 - mae: 1.2506 - mse: 2.7506 - val_loss: 2.8948 - val_mae: 1.1861 - val_mse: 2.8948\n",
      "Epoch 46/100\n",
      "10/10 [==============================] - 0s 12ms/step - loss: 2.6856 - mae: 1.2216 - mse: 2.6856 - val_loss: 2.9475 - val_mae: 1.1695 - val_mse: 2.9475\n",
      "Epoch 47/100\n",
      "10/10 [==============================] - 0s 11ms/step - loss: 2.7193 - mae: 1.2296 - mse: 2.7193 - val_loss: 2.7497 - val_mae: 1.1592 - val_mse: 2.7497\n",
      "Epoch 48/100\n",
      "10/10 [==============================] - 0s 11ms/step - loss: 2.7278 - mae: 1.2330 - mse: 2.7278 - val_loss: 3.1112 - val_mae: 1.1957 - val_mse: 3.1112\n",
      "Epoch 49/100\n",
      "10/10 [==============================] - 0s 11ms/step - loss: 2.5100 - mae: 1.1753 - mse: 2.5100 - val_loss: 2.6102 - val_mae: 1.1426 - val_mse: 2.6102\n",
      "Epoch 50/100\n",
      "10/10 [==============================] - 0s 12ms/step - loss: 2.5924 - mae: 1.2012 - mse: 2.5924 - val_loss: 2.4155 - val_mae: 1.1088 - val_mse: 2.4155\n",
      "Epoch 51/100\n",
      "10/10 [==============================] - 0s 12ms/step - loss: 2.5569 - mae: 1.1939 - mse: 2.5569 - val_loss: 2.9694 - val_mae: 1.1662 - val_mse: 2.9694\n",
      "Epoch 52/100\n",
      "10/10 [==============================] - 0s 12ms/step - loss: 2.4144 - mae: 1.1508 - mse: 2.4144 - val_loss: 3.3859 - val_mae: 1.2266 - val_mse: 3.3859\n",
      "Epoch 53/100\n",
      "10/10 [==============================] - 0s 11ms/step - loss: 2.4704 - mae: 1.1672 - mse: 2.4704 - val_loss: 2.4559 - val_mae: 1.0985 - val_mse: 2.4559\n",
      "Epoch 54/100\n",
      "10/10 [==============================] - 0s 11ms/step - loss: 2.4097 - mae: 1.1558 - mse: 2.4097 - val_loss: 2.2128 - val_mae: 1.0835 - val_mse: 2.2128\n",
      "Epoch 55/100\n",
      "10/10 [==============================] - 0s 11ms/step - loss: 2.2990 - mae: 1.1250 - mse: 2.2990 - val_loss: 2.4123 - val_mae: 1.0949 - val_mse: 2.4123\n",
      "Epoch 56/100\n",
      "10/10 [==============================] - 0s 13ms/step - loss: 2.4031 - mae: 1.1516 - mse: 2.4031 - val_loss: 2.1444 - val_mae: 1.1088 - val_mse: 2.1444\n",
      "Epoch 57/100\n",
      "10/10 [==============================] - 0s 11ms/step - loss: 2.2506 - mae: 1.1169 - mse: 2.2506 - val_loss: 2.3344 - val_mae: 1.0846 - val_mse: 2.3344\n",
      "Epoch 58/100\n",
      "10/10 [==============================] - 0s 12ms/step - loss: 2.3134 - mae: 1.1262 - mse: 2.3134 - val_loss: 2.8199 - val_mae: 1.1352 - val_mse: 2.8199\n",
      "Epoch 59/100\n",
      "10/10 [==============================] - 0s 11ms/step - loss: 2.2365 - mae: 1.1281 - mse: 2.2365 - val_loss: 3.4099 - val_mae: 1.2450 - val_mse: 3.4099\n",
      "Epoch 60/100\n",
      "10/10 [==============================] - 0s 12ms/step - loss: 2.1599 - mae: 1.1118 - mse: 2.1599 - val_loss: 2.0539 - val_mae: 1.0881 - val_mse: 2.0539\n",
      "Epoch 61/100\n",
      "10/10 [==============================] - 0s 11ms/step - loss: 2.1980 - mae: 1.1107 - mse: 2.1980 - val_loss: 2.7013 - val_mae: 1.1202 - val_mse: 2.7013\n",
      "Epoch 62/100\n",
      "10/10 [==============================] - 0s 11ms/step - loss: 2.1599 - mae: 1.0992 - mse: 2.1599 - val_loss: 2.8519 - val_mae: 1.1300 - val_mse: 2.8519\n",
      "Epoch 63/100\n",
      "10/10 [==============================] - 0s 11ms/step - loss: 2.1259 - mae: 1.1092 - mse: 2.1259 - val_loss: 2.8861 - val_mae: 1.1382 - val_mse: 2.8861\n",
      "Epoch 64/100\n",
      "10/10 [==============================] - 0s 11ms/step - loss: 2.1317 - mae: 1.0867 - mse: 2.1317 - val_loss: 1.9824 - val_mae: 1.0817 - val_mse: 1.9824\n",
      "Epoch 65/100\n",
      "10/10 [==============================] - 0s 12ms/step - loss: 2.1147 - mae: 1.0714 - mse: 2.1147 - val_loss: 3.9162 - val_mae: 1.3155 - val_mse: 3.9162\n",
      "Epoch 66/100\n",
      "10/10 [==============================] - 0s 11ms/step - loss: 2.1430 - mae: 1.0961 - mse: 2.1430 - val_loss: 2.2034 - val_mae: 1.0737 - val_mse: 2.2034\n",
      "Epoch 67/100\n",
      "10/10 [==============================] - 0s 11ms/step - loss: 2.0516 - mae: 1.0778 - mse: 2.0516 - val_loss: 2.8058 - val_mae: 1.1289 - val_mse: 2.8058\n",
      "Epoch 68/100\n",
      "10/10 [==============================] - 0s 11ms/step - loss: 2.1586 - mae: 1.0924 - mse: 2.1586 - val_loss: 2.0630 - val_mae: 1.0456 - val_mse: 2.0630\n",
      "Epoch 69/100\n",
      "10/10 [==============================] - 0s 12ms/step - loss: 2.0602 - mae: 1.0710 - mse: 2.0602 - val_loss: 2.3072 - val_mae: 1.0595 - val_mse: 2.3072\n",
      "Epoch 70/100\n",
      "10/10 [==============================] - 0s 11ms/step - loss: 2.0452 - mae: 1.0778 - mse: 2.0452 - val_loss: 2.0741 - val_mae: 1.0817 - val_mse: 2.0741\n",
      "Epoch 71/100\n",
      "10/10 [==============================] - 0s 11ms/step - loss: 2.1090 - mae: 1.0796 - mse: 2.1090 - val_loss: 2.0675 - val_mae: 1.0481 - val_mse: 2.0675\n",
      "Epoch 72/100\n",
      "10/10 [==============================] - 0s 11ms/step - loss: 2.1222 - mae: 1.0845 - mse: 2.1222 - val_loss: 2.1648 - val_mae: 1.0550 - val_mse: 2.1648\n",
      "Epoch 73/100\n",
      "10/10 [==============================] - 0s 11ms/step - loss: 1.9436 - mae: 1.0555 - mse: 1.9436 - val_loss: 2.0231 - val_mae: 1.1226 - val_mse: 2.0231\n",
      "Epoch 74/100\n",
      "10/10 [==============================] - 0s 12ms/step - loss: 2.0490 - mae: 1.0908 - mse: 2.0490 - val_loss: 2.0657 - val_mae: 1.1094 - val_mse: 2.0657\n",
      "Epoch 75/100\n",
      "10/10 [==============================] - 0s 11ms/step - loss: 2.0559 - mae: 1.0687 - mse: 2.0559 - val_loss: 2.2057 - val_mae: 1.0630 - val_mse: 2.2057\n",
      "Epoch 76/100\n",
      "10/10 [==============================] - 0s 11ms/step - loss: 1.9711 - mae: 1.0522 - mse: 1.9711 - val_loss: 1.9602 - val_mae: 1.0364 - val_mse: 1.9602\n",
      "Epoch 77/100\n",
      "10/10 [==============================] - 0s 11ms/step - loss: 1.9649 - mae: 1.0451 - mse: 1.9649 - val_loss: 2.1176 - val_mae: 1.0862 - val_mse: 2.1176\n",
      "Epoch 78/100\n",
      "10/10 [==============================] - 0s 11ms/step - loss: 1.9740 - mae: 1.0388 - mse: 1.9740 - val_loss: 2.6790 - val_mae: 1.1042 - val_mse: 2.6790\n",
      "Epoch 79/100\n",
      "10/10 [==============================] - 0s 12ms/step - loss: 1.9645 - mae: 1.0411 - mse: 1.9645 - val_loss: 2.1455 - val_mae: 1.0540 - val_mse: 2.1455\n",
      "Epoch 80/100\n",
      "10/10 [==============================] - 0s 11ms/step - loss: 1.9162 - mae: 1.0416 - mse: 1.9162 - val_loss: 2.3728 - val_mae: 1.0622 - val_mse: 2.3728\n",
      "Epoch 81/100\n",
      "10/10 [==============================] - 0s 11ms/step - loss: 1.9780 - mae: 1.0573 - mse: 1.9780 - val_loss: 1.9937 - val_mae: 1.0506 - val_mse: 1.9937\n",
      "Epoch 82/100\n",
      "10/10 [==============================] - 0s 11ms/step - loss: 1.8941 - mae: 1.0287 - mse: 1.8941 - val_loss: 2.9568 - val_mae: 1.1674 - val_mse: 2.9568\n",
      "Epoch 83/100\n",
      "10/10 [==============================] - 0s 11ms/step - loss: 1.9592 - mae: 1.0516 - mse: 1.9592 - val_loss: 2.3138 - val_mae: 1.0533 - val_mse: 2.3138\n",
      "Epoch 84/100\n",
      "10/10 [==============================] - 0s 12ms/step - loss: 1.9330 - mae: 1.0458 - mse: 1.9330 - val_loss: 1.8461 - val_mae: 1.0543 - val_mse: 1.8461\n",
      "Epoch 85/100\n",
      "10/10 [==============================] - 0s 11ms/step - loss: 2.0296 - mae: 1.0641 - mse: 2.0296 - val_loss: 2.4133 - val_mae: 1.0659 - val_mse: 2.4133\n",
      "Epoch 86/100\n",
      "10/10 [==============================] - 0s 11ms/step - loss: 1.9416 - mae: 1.0471 - mse: 1.9416 - val_loss: 2.0850 - val_mae: 1.0346 - val_mse: 2.0850\n",
      "Epoch 87/100\n",
      "10/10 [==============================] - 0s 11ms/step - loss: 1.9163 - mae: 1.0431 - mse: 1.9163 - val_loss: 2.5196 - val_mae: 1.0793 - val_mse: 2.5196\n",
      "Epoch 88/100\n",
      "10/10 [==============================] - 0s 11ms/step - loss: 1.8855 - mae: 1.0298 - mse: 1.8855 - val_loss: 1.9132 - val_mae: 1.0381 - val_mse: 1.9132\n",
      "Epoch 89/100\n",
      "10/10 [==============================] - 0s 11ms/step - loss: 1.9504 - mae: 1.0389 - mse: 1.9504 - val_loss: 2.0800 - val_mae: 1.0305 - val_mse: 2.0800\n",
      "Epoch 90/100\n",
      "10/10 [==============================] - 0s 11ms/step - loss: 1.8450 - mae: 1.0176 - mse: 1.8450 - val_loss: 2.4299 - val_mae: 1.0723 - val_mse: 2.4299\n",
      "Epoch 91/100\n",
      "10/10 [==============================] - 0s 11ms/step - loss: 1.9334 - mae: 1.0421 - mse: 1.9334 - val_loss: 2.0296 - val_mae: 1.0678 - val_mse: 2.0296\n",
      "Epoch 92/100\n",
      "10/10 [==============================] - 0s 12ms/step - loss: 1.8377 - mae: 1.0100 - mse: 1.8377 - val_loss: 2.3256 - val_mae: 1.0548 - val_mse: 2.3256\n",
      "Epoch 93/100\n",
      "10/10 [==============================] - 0s 11ms/step - loss: 1.8924 - mae: 1.0347 - mse: 1.8924 - val_loss: 2.9649 - val_mae: 1.1647 - val_mse: 2.9649\n",
      "Epoch 94/100\n",
      "10/10 [==============================] - 0s 11ms/step - loss: 1.8649 - mae: 1.0190 - mse: 1.8649 - val_loss: 1.8400 - val_mae: 1.0206 - val_mse: 1.8400\n",
      "Epoch 95/100\n",
      "10/10 [==============================] - 0s 11ms/step - loss: 1.9855 - mae: 1.0451 - mse: 1.9855 - val_loss: 1.9039 - val_mae: 1.0268 - val_mse: 1.9039\n",
      "Epoch 96/100\n",
      "10/10 [==============================] - 0s 11ms/step - loss: 1.7933 - mae: 1.0007 - mse: 1.7933 - val_loss: 1.7913 - val_mae: 1.0582 - val_mse: 1.7913\n",
      "Epoch 97/100\n",
      "10/10 [==============================] - 0s 11ms/step - loss: 1.9165 - mae: 1.0349 - mse: 1.9165 - val_loss: 2.0836 - val_mae: 1.0301 - val_mse: 2.0836\n",
      "Epoch 98/100\n",
      "10/10 [==============================] - 0s 12ms/step - loss: 1.8805 - mae: 1.0440 - mse: 1.8805 - val_loss: 2.1548 - val_mae: 1.0282 - val_mse: 2.1548\n",
      "Epoch 99/100\n",
      "10/10 [==============================] - 0s 11ms/step - loss: 1.8059 - mae: 1.0019 - mse: 1.8059 - val_loss: 2.5078 - val_mae: 1.0811 - val_mse: 2.5078\n",
      "Epoch 100/100\n",
      "10/10 [==============================] - 0s 11ms/step - loss: 1.8924 - mae: 1.0392 - mse: 1.8924 - val_loss: 1.7708 - val_mae: 1.0276 - val_mse: 1.7708\n"
     ]
    },
    {
     "data": {
      "text/plain": [
       "<keras.callbacks.History at 0x28f59df10>"
      ]
     },
     "execution_count": 17,
     "metadata": {},
     "output_type": "execute_result"
    }
   ],
   "source": [
    "model.fit(x_train, y_train, epochs = 100, validation_split=0.2, verbose=1)"
   ]
  },
  {
   "cell_type": "markdown",
   "metadata": {},
   "source": [
    "#### Testing model to predict the x_test"
   ]
  },
  {
   "cell_type": "code",
   "execution_count": 18,
   "metadata": {},
   "outputs": [
    {
     "name": "stderr",
     "output_type": "stream",
     "text": [
      "2022-07-19 17:25:36.713593: I tensorflow/core/grappler/optimizers/custom_graph_optimizer_registry.cc:112] Plugin optimizer for device_type GPU is enabled.\n"
     ]
    },
    {
     "data": {
      "text/plain": [
       "array([ 6.0007243,  4.0321274,  3.6195588,  4.4843698,  4.099045 ,\n",
       "        3.4243555,  3.9104538,  4.091621 ,  3.9228354,  5.3708086,\n",
       "        2.9906816,  4.050402 ,  4.120209 ,  3.601244 ,  5.1476035,\n",
       "        6.666966 ,  5.08586  ,  5.2023034,  3.2278147,  6.1883197,\n",
       "        5.139132 ,  4.8758893,  2.626585 ,  4.839324 ,  1.5543927,\n",
       "        4.4921308,  3.5726247,  3.2635798,  4.523083 ,  4.1045136,\n",
       "        2.027029 ,  3.0202293,  2.6858554,  3.4548483,  2.3629518,\n",
       "        7.6335645,  6.3098674,  3.323277 ,  2.6027012,  2.3870735,\n",
       "        6.681377 ,  3.0086927,  4.3957677,  2.2934752,  4.4995112,\n",
       "        5.8363023,  6.0942965,  3.0637932,  6.112576 ,  3.8396788,\n",
       "        4.9460044,  3.6021247,  6.2727475,  1.8291239,  5.2991037,\n",
       "        4.404567 ,  3.856779 ,  4.4015684,  4.9186826,  3.7262044,\n",
       "        4.1008515,  3.3344698,  5.3501463,  3.6100502,  4.5549297,\n",
       "        4.135941 ,  7.2270293,  5.279978 ,  6.5795937,  4.0387745,\n",
       "        6.296989 ,  4.4451666,  4.0816803,  5.4677153,  3.1973834,\n",
       "        5.8018885,  3.6952791,  2.1158147,  3.1323204,  3.3785048,\n",
       "        9.4393425,  3.3379917,  4.993675 ,  5.683192 ,  5.902432 ,\n",
       "        3.9993696,  1.9403471,  4.700387 ,  4.211506 ,  5.5150237,\n",
       "        6.868245 ,  2.5841532,  6.74952  ,  3.3490367,  3.0052772,\n",
       "        2.9982705,  4.7869353,  5.4186397,  4.6306925,  4.4343643,\n",
       "        5.548248 ,  5.210633 ,  4.1888075,  4.470425 ,  3.5880356,\n",
       "        4.21583  ,  5.593221 ,  3.523067 ,  3.780294 ,  7.277927 ,\n",
       "        2.5120373,  3.9538822,  4.1130395,  4.807567 ,  6.473648 ,\n",
       "        3.110117 ,  4.488586 ,  4.984236 ,  2.771172 ,  4.042922 ,\n",
       "        4.572911 ,  3.6075459,  3.3484054,  4.9726577,  1.5988121,\n",
       "        6.349854 ,  3.9023752,  6.3535933,  2.6110458,  4.2658453,\n",
       "        4.9676924,  6.2010155,  2.8909702, 10.888151 ,  5.1181927,\n",
       "        5.395491 ,  5.078735 ,  3.6685605,  5.2859426,  3.0092392,\n",
       "        2.5763912,  6.0680413,  4.502393 ,  4.032392 ,  4.063191 ,\n",
       "        4.4018655,  3.1691422,  3.327929 ,  4.7289615,  2.979682 ,\n",
       "        4.016226 ,  2.1170778,  7.4071546,  2.384708 ,  5.9030967,\n",
       "        3.275814 ,  6.486078 ,  4.4995112,  2.8402224,  6.3265114,\n",
       "        3.8708806,  3.7285852,  2.612659 ,  4.515537 ], dtype=float32)"
      ]
     },
     "execution_count": 18,
     "metadata": {},
     "output_type": "execute_result"
    }
   ],
   "source": [
    "hasil_tf = model.predict(x_test)\n",
    "\n",
    "hasil_tf.ravel()"
   ]
  },
  {
   "cell_type": "markdown",
   "metadata": {},
   "source": [
    "#### Evaluate the model using mean squared error"
   ]
  },
  {
   "cell_type": "code",
   "execution_count": 19,
   "metadata": {},
   "outputs": [
    {
     "data": {
      "text/plain": [
       "2.2872916831348107"
      ]
     },
     "execution_count": 19,
     "metadata": {},
     "output_type": "execute_result"
    }
   ],
   "source": [
    "mean_squared_error(y_test, hasil_tf)"
   ]
  },
  {
   "cell_type": "markdown",
   "metadata": {},
   "source": [
    "#### Data result visulization with line chart\n"
   ]
  },
  {
   "cell_type": "code",
   "execution_count": 20,
   "metadata": {},
   "outputs": [
    {
     "data": {
      "text/plain": [
       "<matplotlib.legend.Legend at 0x173a1c250>"
      ]
     },
     "execution_count": 20,
     "metadata": {},
     "output_type": "execute_result"
    },
    {
     "data": {
      "image/png": "[encoded data removed]",
      "text/plain": [
       "<Figure size 432x288 with 1 Axes>"
      ]
     },
     "metadata": {
      "needs_background": "light"
     },
     "output_type": "display_data"
    }
   ],
   "source": [
    "plt.plot(list(hasil_tf), label= \"Tensorflow\")\n",
    "plt.plot(list(y_test), label = 'Actual Value')\n",
    "\n",
    "plt.legend(loc='upper right')"
   ]
  },
  {
   "cell_type": "code",
   "execution_count": 21,
   "metadata": {},
   "outputs": [
    {
     "data": {
      "text/plain": [
       "546"
      ]
     },
     "execution_count": 21,
     "metadata": {},
     "output_type": "execute_result"
    }
   ],
   "source": [
    "len(data)"
   ]
  },
  {
   "cell_type": "code",
   "execution_count": null,
   "metadata": {},
   "outputs": [],
   "source": []
  }
 ],
 "metadata": {
  "interpreter": {
   "hash": "37e48532695005f6b8be481dca9311b0406960c07b920c9bcff5b3361c45626c"
  },
  "kernelspec": {
   "display_name": "Python 3.9.5 ('ds')",
   "language": "python",
   "name": "python3"
  },
  "language_info": {
   "codemirror_mode": {
    "name": "ipython",
    "version": 3
   },
   "file_extension": ".py",
   "mimetype": "text/x-python",
   "name": "python",
   "nbconvert_exporter": "python",
   "pygments_lexer": "ipython3",
   "version": "3.9.5"
  },
  "orig_nbformat": 4,
  "vscode": {
   "interpreter": {
    "hash": "fc55cb3689c546066962b666c18656acd1e2a33334a25526b1b5941d10b03637"
   }
  }
 },
 "nbformat": 4,
 "nbformat_minor": 2
}
