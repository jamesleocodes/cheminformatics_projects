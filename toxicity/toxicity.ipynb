{
 "cells": [
  {
   "cell_type": "markdown",
   "metadata": {},
   "source": [
    "#### Introduction"
   ]
  },
  {
   "cell_type": "markdown",
   "metadata": {},
   "source": [
    "#### Import libraries"
   ]
  },
  {
   "cell_type": "code",
   "execution_count": 2,
   "metadata": {},
   "outputs": [],
   "source": [
    "import pandas as pd\n",
    "import matplotlib.pyplot as plt\n",
    "from sklearn.model_selection import train_test_split\n",
    "from sklearn.neural_network import MLPRegressor\n",
    "from sklearn.linear_model import LinearRegression\n",
    "from sklearn.metrics import mean_squared_error"
   ]
  },
  {
   "cell_type": "markdown",
   "metadata": {},
   "source": [
    "##### Load data"
   ]
  },
  {
   "cell_type": "code",
   "execution_count": 3,
   "metadata": {},
   "outputs": [
    {
     "data": {
      "text/html": [
       "<div>\n",
       "<style scoped>\n",
       "    .dataframe tbody tr th:only-of-type {\n",
       "        vertical-align: middle;\n",
       "    }\n",
       "\n",
       "    .dataframe tbody tr th {\n",
       "        vertical-align: top;\n",
       "    }\n",
       "\n",
       "    .dataframe thead th {\n",
       "        text-align: right;\n",
       "    }\n",
       "</style>\n",
       "<table border=\"1\" class=\"dataframe\">\n",
       "  <thead>\n",
       "    <tr style=\"text-align: right;\">\n",
       "      <th></th>\n",
       "      <th>0</th>\n",
       "      <th>0.1</th>\n",
       "      <th>0.2</th>\n",
       "      <th>2.419</th>\n",
       "      <th>1.225</th>\n",
       "      <th>0.667</th>\n",
       "      <th>0.3</th>\n",
       "      <th>0.4</th>\n",
       "      <th>3.740</th>\n",
       "    </tr>\n",
       "  </thead>\n",
       "  <tbody>\n",
       "    <tr>\n",
       "      <th>0</th>\n",
       "      <td>0.00</td>\n",
       "      <td>0.000</td>\n",
       "      <td>0</td>\n",
       "      <td>2.638</td>\n",
       "      <td>1.401</td>\n",
       "      <td>0.632</td>\n",
       "      <td>0</td>\n",
       "      <td>0</td>\n",
       "      <td>4.330</td>\n",
       "    </tr>\n",
       "    <tr>\n",
       "      <th>1</th>\n",
       "      <td>9.23</td>\n",
       "      <td>11.000</td>\n",
       "      <td>0</td>\n",
       "      <td>5.799</td>\n",
       "      <td>2.930</td>\n",
       "      <td>0.486</td>\n",
       "      <td>0</td>\n",
       "      <td>0</td>\n",
       "      <td>7.019</td>\n",
       "    </tr>\n",
       "    <tr>\n",
       "      <th>2</th>\n",
       "      <td>9.23</td>\n",
       "      <td>11.000</td>\n",
       "      <td>0</td>\n",
       "      <td>5.453</td>\n",
       "      <td>2.887</td>\n",
       "      <td>0.495</td>\n",
       "      <td>0</td>\n",
       "      <td>0</td>\n",
       "      <td>6.723</td>\n",
       "    </tr>\n",
       "    <tr>\n",
       "      <th>3</th>\n",
       "      <td>9.23</td>\n",
       "      <td>11.000</td>\n",
       "      <td>0</td>\n",
       "      <td>4.068</td>\n",
       "      <td>2.758</td>\n",
       "      <td>0.695</td>\n",
       "      <td>0</td>\n",
       "      <td>0</td>\n",
       "      <td>5.979</td>\n",
       "    </tr>\n",
       "    <tr>\n",
       "      <th>4</th>\n",
       "      <td>215.34</td>\n",
       "      <td>327.629</td>\n",
       "      <td>3</td>\n",
       "      <td>0.189</td>\n",
       "      <td>4.677</td>\n",
       "      <td>1.333</td>\n",
       "      <td>0</td>\n",
       "      <td>4</td>\n",
       "      <td>6.064</td>\n",
       "    </tr>\n",
       "    <tr>\n",
       "      <th>...</th>\n",
       "      <td>...</td>\n",
       "      <td>...</td>\n",
       "      <td>...</td>\n",
       "      <td>...</td>\n",
       "      <td>...</td>\n",
       "      <td>...</td>\n",
       "      <td>...</td>\n",
       "      <td>...</td>\n",
       "      <td>...</td>\n",
       "    </tr>\n",
       "    <tr>\n",
       "      <th>540</th>\n",
       "      <td>24.06</td>\n",
       "      <td>35.776</td>\n",
       "      <td>2</td>\n",
       "      <td>3.326</td>\n",
       "      <td>2.837</td>\n",
       "      <td>0.849</td>\n",
       "      <td>2</td>\n",
       "      <td>0</td>\n",
       "      <td>4.651</td>\n",
       "    </tr>\n",
       "    <tr>\n",
       "      <th>541</th>\n",
       "      <td>9.23</td>\n",
       "      <td>11.000</td>\n",
       "      <td>0</td>\n",
       "      <td>3.275</td>\n",
       "      <td>2.727</td>\n",
       "      <td>0.874</td>\n",
       "      <td>0</td>\n",
       "      <td>0</td>\n",
       "      <td>3.953</td>\n",
       "    </tr>\n",
       "    <tr>\n",
       "      <th>542</th>\n",
       "      <td>0.00</td>\n",
       "      <td>0.000</td>\n",
       "      <td>0</td>\n",
       "      <td>5.165</td>\n",
       "      <td>3.111</td>\n",
       "      <td>0.732</td>\n",
       "      <td>0</td>\n",
       "      <td>0</td>\n",
       "      <td>6.219</td>\n",
       "    </tr>\n",
       "    <tr>\n",
       "      <th>543</th>\n",
       "      <td>13.14</td>\n",
       "      <td>9.507</td>\n",
       "      <td>0</td>\n",
       "      <td>2.859</td>\n",
       "      <td>2.614</td>\n",
       "      <td>0.827</td>\n",
       "      <td>0</td>\n",
       "      <td>0</td>\n",
       "      <td>4.995</td>\n",
       "    </tr>\n",
       "    <tr>\n",
       "      <th>544</th>\n",
       "      <td>0.00</td>\n",
       "      <td>0.000</td>\n",
       "      <td>0</td>\n",
       "      <td>2.255</td>\n",
       "      <td>1.800</td>\n",
       "      <td>0.917</td>\n",
       "      <td>0</td>\n",
       "      <td>0</td>\n",
       "      <td>2.480</td>\n",
       "    </tr>\n",
       "  </tbody>\n",
       "</table>\n",
       "<p>545 rows × 9 columns</p>\n",
       "</div>"
      ],
      "text/plain": [
       "          0      0.1  0.2  2.419  1.225  0.667  0.3  0.4  3.740\n",
       "0      0.00    0.000    0  2.638  1.401  0.632    0    0  4.330\n",
       "1      9.23   11.000    0  5.799  2.930  0.486    0    0  7.019\n",
       "2      9.23   11.000    0  5.453  2.887  0.495    0    0  6.723\n",
       "3      9.23   11.000    0  4.068  2.758  0.695    0    0  5.979\n",
       "4    215.34  327.629    3  0.189  4.677  1.333    0    4  6.064\n",
       "..      ...      ...  ...    ...    ...    ...  ...  ...    ...\n",
       "540   24.06   35.776    2  3.326  2.837  0.849    2    0  4.651\n",
       "541    9.23   11.000    0  3.275  2.727  0.874    0    0  3.953\n",
       "542    0.00    0.000    0  5.165  3.111  0.732    0    0  6.219\n",
       "543   13.14    9.507    0  2.859  2.614  0.827    0    0  4.995\n",
       "544    0.00    0.000    0  2.255  1.800  0.917    0    0  2.480\n",
       "\n",
       "[545 rows x 9 columns]"
      ]
     },
     "execution_count": 3,
     "metadata": {},
     "output_type": "execute_result"
    }
   ],
   "source": [
    "data = pd.read_csv(\"qsar_aquatic_toxicity.csv\",sep=\";\")\n",
    "data"
   ]
  },
  {
   "cell_type": "code",
   "execution_count": 4,
   "metadata": {},
   "outputs": [
    {
     "data": {
      "text/html": [
       "<div>\n",
       "<style scoped>\n",
       "    .dataframe tbody tr th:only-of-type {\n",
       "        vertical-align: middle;\n",
       "    }\n",
       "\n",
       "    .dataframe tbody tr th {\n",
       "        vertical-align: top;\n",
       "    }\n",
       "\n",
       "    .dataframe thead th {\n",
       "        text-align: right;\n",
       "    }\n",
       "</style>\n",
       "<table border=\"1\" class=\"dataframe\">\n",
       "  <thead>\n",
       "    <tr style=\"text-align: right;\">\n",
       "      <th></th>\n",
       "      <th>TPSA</th>\n",
       "      <th>SAacc</th>\n",
       "      <th>H-050</th>\n",
       "      <th>MLOGP</th>\n",
       "      <th>RDCHI</th>\n",
       "      <th>GATS1p</th>\n",
       "      <th>nN</th>\n",
       "      <th>C-040</th>\n",
       "      <th>quantitative response</th>\n",
       "    </tr>\n",
       "  </thead>\n",
       "  <tbody>\n",
       "    <tr>\n",
       "      <th>0</th>\n",
       "      <td>0.00</td>\n",
       "      <td>0.000</td>\n",
       "      <td>0</td>\n",
       "      <td>2.419</td>\n",
       "      <td>1.225</td>\n",
       "      <td>0.667</td>\n",
       "      <td>0</td>\n",
       "      <td>0</td>\n",
       "      <td>3.740</td>\n",
       "    </tr>\n",
       "    <tr>\n",
       "      <th>1</th>\n",
       "      <td>0.00</td>\n",
       "      <td>0.000</td>\n",
       "      <td>0</td>\n",
       "      <td>2.638</td>\n",
       "      <td>1.401</td>\n",
       "      <td>0.632</td>\n",
       "      <td>0</td>\n",
       "      <td>0</td>\n",
       "      <td>4.330</td>\n",
       "    </tr>\n",
       "    <tr>\n",
       "      <th>2</th>\n",
       "      <td>9.23</td>\n",
       "      <td>11.000</td>\n",
       "      <td>0</td>\n",
       "      <td>5.799</td>\n",
       "      <td>2.930</td>\n",
       "      <td>0.486</td>\n",
       "      <td>0</td>\n",
       "      <td>0</td>\n",
       "      <td>7.019</td>\n",
       "    </tr>\n",
       "    <tr>\n",
       "      <th>3</th>\n",
       "      <td>9.23</td>\n",
       "      <td>11.000</td>\n",
       "      <td>0</td>\n",
       "      <td>5.453</td>\n",
       "      <td>2.887</td>\n",
       "      <td>0.495</td>\n",
       "      <td>0</td>\n",
       "      <td>0</td>\n",
       "      <td>6.723</td>\n",
       "    </tr>\n",
       "    <tr>\n",
       "      <th>4</th>\n",
       "      <td>9.23</td>\n",
       "      <td>11.000</td>\n",
       "      <td>0</td>\n",
       "      <td>4.068</td>\n",
       "      <td>2.758</td>\n",
       "      <td>0.695</td>\n",
       "      <td>0</td>\n",
       "      <td>0</td>\n",
       "      <td>5.979</td>\n",
       "    </tr>\n",
       "    <tr>\n",
       "      <th>...</th>\n",
       "      <td>...</td>\n",
       "      <td>...</td>\n",
       "      <td>...</td>\n",
       "      <td>...</td>\n",
       "      <td>...</td>\n",
       "      <td>...</td>\n",
       "      <td>...</td>\n",
       "      <td>...</td>\n",
       "      <td>...</td>\n",
       "    </tr>\n",
       "    <tr>\n",
       "      <th>541</th>\n",
       "      <td>24.06</td>\n",
       "      <td>35.776</td>\n",
       "      <td>2</td>\n",
       "      <td>3.326</td>\n",
       "      <td>2.837</td>\n",
       "      <td>0.849</td>\n",
       "      <td>2</td>\n",
       "      <td>0</td>\n",
       "      <td>4.651</td>\n",
       "    </tr>\n",
       "    <tr>\n",
       "      <th>542</th>\n",
       "      <td>9.23</td>\n",
       "      <td>11.000</td>\n",
       "      <td>0</td>\n",
       "      <td>3.275</td>\n",
       "      <td>2.727</td>\n",
       "      <td>0.874</td>\n",
       "      <td>0</td>\n",
       "      <td>0</td>\n",
       "      <td>3.953</td>\n",
       "    </tr>\n",
       "    <tr>\n",
       "      <th>543</th>\n",
       "      <td>0.00</td>\n",
       "      <td>0.000</td>\n",
       "      <td>0</td>\n",
       "      <td>5.165</td>\n",
       "      <td>3.111</td>\n",
       "      <td>0.732</td>\n",
       "      <td>0</td>\n",
       "      <td>0</td>\n",
       "      <td>6.219</td>\n",
       "    </tr>\n",
       "    <tr>\n",
       "      <th>544</th>\n",
       "      <td>13.14</td>\n",
       "      <td>9.507</td>\n",
       "      <td>0</td>\n",
       "      <td>2.859</td>\n",
       "      <td>2.614</td>\n",
       "      <td>0.827</td>\n",
       "      <td>0</td>\n",
       "      <td>0</td>\n",
       "      <td>4.995</td>\n",
       "    </tr>\n",
       "    <tr>\n",
       "      <th>545</th>\n",
       "      <td>0.00</td>\n",
       "      <td>0.000</td>\n",
       "      <td>0</td>\n",
       "      <td>2.255</td>\n",
       "      <td>1.800</td>\n",
       "      <td>0.917</td>\n",
       "      <td>0</td>\n",
       "      <td>0</td>\n",
       "      <td>2.480</td>\n",
       "    </tr>\n",
       "  </tbody>\n",
       "</table>\n",
       "<p>546 rows × 9 columns</p>\n",
       "</div>"
      ],
      "text/plain": [
       "      TPSA   SAacc  H-050  MLOGP  RDCHI  GATS1p  nN  C-040  \\\n",
       "0     0.00   0.000      0  2.419  1.225   0.667   0      0   \n",
       "1     0.00   0.000      0  2.638  1.401   0.632   0      0   \n",
       "2     9.23  11.000      0  5.799  2.930   0.486   0      0   \n",
       "3     9.23  11.000      0  5.453  2.887   0.495   0      0   \n",
       "4     9.23  11.000      0  4.068  2.758   0.695   0      0   \n",
       "..     ...     ...    ...    ...    ...     ...  ..    ...   \n",
       "541  24.06  35.776      2  3.326  2.837   0.849   2      0   \n",
       "542   9.23  11.000      0  3.275  2.727   0.874   0      0   \n",
       "543   0.00   0.000      0  5.165  3.111   0.732   0      0   \n",
       "544  13.14   9.507      0  2.859  2.614   0.827   0      0   \n",
       "545   0.00   0.000      0  2.255  1.800   0.917   0      0   \n",
       "\n",
       "     quantitative response  \n",
       "0                    3.740  \n",
       "1                    4.330  \n",
       "2                    7.019  \n",
       "3                    6.723  \n",
       "4                    5.979  \n",
       "..                     ...  \n",
       "541                  4.651  \n",
       "542                  3.953  \n",
       "543                  6.219  \n",
       "544                  4.995  \n",
       "545                  2.480  \n",
       "\n",
       "[546 rows x 9 columns]"
      ]
     },
     "execution_count": 4,
     "metadata": {},
     "output_type": "execute_result"
    }
   ],
   "source": [
    "# Need to have header\n",
    "data = pd.read_csv(\"qsar_aquatic_toxicity.csv\",sep=\";\", names=['TPSA', 'SAacc', 'H-050', 'MLOGP', 'RDCHI', 'GATS1p', 'nN', 'C-040',\n",
    "                          'quantitative response'])\n",
    "data                         "
   ]
  },
  {
   "cell_type": "markdown",
   "metadata": {},
   "source": [
    "#### Data information and characteristics"
   ]
  },
  {
   "cell_type": "code",
   "execution_count": 5,
   "metadata": {},
   "outputs": [
    {
     "name": "stdout",
     "output_type": "stream",
     "text": [
      "<class 'pandas.core.frame.DataFrame'>\n",
      "RangeIndex: 546 entries, 0 to 545\n",
      "Data columns (total 9 columns):\n",
      " #   Column                 Non-Null Count  Dtype  \n",
      "---  ------                 --------------  -----  \n",
      " 0   TPSA                   546 non-null    float64\n",
      " 1   SAacc                  546 non-null    float64\n",
      " 2   H-050                  546 non-null    int64  \n",
      " 3   MLOGP                  546 non-null    float64\n",
      " 4   RDCHI                  546 non-null    float64\n",
      " 5   GATS1p                 546 non-null    float64\n",
      " 6   nN                     546 non-null    int64  \n",
      " 7   C-040                  546 non-null    int64  \n",
      " 8   quantitative response  546 non-null    float64\n",
      "dtypes: float64(6), int64(3)\n",
      "memory usage: 38.5 KB\n"
     ]
    },
    {
     "data": {
      "text/html": [
       "<div>\n",
       "<style scoped>\n",
       "    .dataframe tbody tr th:only-of-type {\n",
       "        vertical-align: middle;\n",
       "    }\n",
       "\n",
       "    .dataframe tbody tr th {\n",
       "        vertical-align: top;\n",
       "    }\n",
       "\n",
       "    .dataframe thead th {\n",
       "        text-align: right;\n",
       "    }\n",
       "</style>\n",
       "<table border=\"1\" class=\"dataframe\">\n",
       "  <thead>\n",
       "    <tr style=\"text-align: right;\">\n",
       "      <th></th>\n",
       "      <th>TPSA</th>\n",
       "      <th>SAacc</th>\n",
       "      <th>H-050</th>\n",
       "      <th>MLOGP</th>\n",
       "      <th>RDCHI</th>\n",
       "      <th>GATS1p</th>\n",
       "      <th>nN</th>\n",
       "      <th>C-040</th>\n",
       "      <th>quantitative response</th>\n",
       "    </tr>\n",
       "  </thead>\n",
       "  <tbody>\n",
       "    <tr>\n",
       "      <th>count</th>\n",
       "      <td>546.000000</td>\n",
       "      <td>546.000000</td>\n",
       "      <td>546.000000</td>\n",
       "      <td>546.000000</td>\n",
       "      <td>546.000000</td>\n",
       "      <td>546.000000</td>\n",
       "      <td>546.000000</td>\n",
       "      <td>546.000000</td>\n",
       "      <td>546.000000</td>\n",
       "    </tr>\n",
       "    <tr>\n",
       "      <th>mean</th>\n",
       "      <td>48.472930</td>\n",
       "      <td>58.869018</td>\n",
       "      <td>0.937729</td>\n",
       "      <td>2.313493</td>\n",
       "      <td>2.492299</td>\n",
       "      <td>1.046264</td>\n",
       "      <td>1.003663</td>\n",
       "      <td>0.353480</td>\n",
       "      <td>4.658421</td>\n",
       "    </tr>\n",
       "    <tr>\n",
       "      <th>std</th>\n",
       "      <td>46.763983</td>\n",
       "      <td>68.166554</td>\n",
       "      <td>1.618632</td>\n",
       "      <td>1.741797</td>\n",
       "      <td>0.811004</td>\n",
       "      <td>0.403677</td>\n",
       "      <td>1.397240</td>\n",
       "      <td>0.806827</td>\n",
       "      <td>1.665215</td>\n",
       "    </tr>\n",
       "    <tr>\n",
       "      <th>min</th>\n",
       "      <td>0.000000</td>\n",
       "      <td>0.000000</td>\n",
       "      <td>0.000000</td>\n",
       "      <td>-6.446000</td>\n",
       "      <td>1.000000</td>\n",
       "      <td>0.281000</td>\n",
       "      <td>0.000000</td>\n",
       "      <td>0.000000</td>\n",
       "      <td>0.122000</td>\n",
       "    </tr>\n",
       "    <tr>\n",
       "      <th>25%</th>\n",
       "      <td>15.790000</td>\n",
       "      <td>11.000000</td>\n",
       "      <td>0.000000</td>\n",
       "      <td>1.232500</td>\n",
       "      <td>1.975000</td>\n",
       "      <td>0.737000</td>\n",
       "      <td>0.000000</td>\n",
       "      <td>0.000000</td>\n",
       "      <td>3.601500</td>\n",
       "    </tr>\n",
       "    <tr>\n",
       "      <th>50%</th>\n",
       "      <td>40.460000</td>\n",
       "      <td>42.683000</td>\n",
       "      <td>0.000000</td>\n",
       "      <td>2.273500</td>\n",
       "      <td>2.344000</td>\n",
       "      <td>1.020500</td>\n",
       "      <td>1.000000</td>\n",
       "      <td>0.000000</td>\n",
       "      <td>4.516000</td>\n",
       "    </tr>\n",
       "    <tr>\n",
       "      <th>75%</th>\n",
       "      <td>70.022500</td>\n",
       "      <td>77.492750</td>\n",
       "      <td>1.000000</td>\n",
       "      <td>3.392750</td>\n",
       "      <td>2.911000</td>\n",
       "      <td>1.266500</td>\n",
       "      <td>2.000000</td>\n",
       "      <td>0.000000</td>\n",
       "      <td>5.607500</td>\n",
       "    </tr>\n",
       "    <tr>\n",
       "      <th>max</th>\n",
       "      <td>347.320000</td>\n",
       "      <td>571.952000</td>\n",
       "      <td>18.000000</td>\n",
       "      <td>9.148000</td>\n",
       "      <td>6.439000</td>\n",
       "      <td>2.500000</td>\n",
       "      <td>11.000000</td>\n",
       "      <td>11.000000</td>\n",
       "      <td>10.047000</td>\n",
       "    </tr>\n",
       "  </tbody>\n",
       "</table>\n",
       "</div>"
      ],
      "text/plain": [
       "             TPSA       SAacc       H-050       MLOGP       RDCHI      GATS1p  \\\n",
       "count  546.000000  546.000000  546.000000  546.000000  546.000000  546.000000   \n",
       "mean    48.472930   58.869018    0.937729    2.313493    2.492299    1.046264   \n",
       "std     46.763983   68.166554    1.618632    1.741797    0.811004    0.403677   \n",
       "min      0.000000    0.000000    0.000000   -6.446000    1.000000    0.281000   \n",
       "25%     15.790000   11.000000    0.000000    1.232500    1.975000    0.737000   \n",
       "50%     40.460000   42.683000    0.000000    2.273500    2.344000    1.020500   \n",
       "75%     70.022500   77.492750    1.000000    3.392750    2.911000    1.266500   \n",
       "max    347.320000  571.952000   18.000000    9.148000    6.439000    2.500000   \n",
       "\n",
       "               nN       C-040  quantitative response  \n",
       "count  546.000000  546.000000             546.000000  \n",
       "mean     1.003663    0.353480               4.658421  \n",
       "std      1.397240    0.806827               1.665215  \n",
       "min      0.000000    0.000000               0.122000  \n",
       "25%      0.000000    0.000000               3.601500  \n",
       "50%      1.000000    0.000000               4.516000  \n",
       "75%      2.000000    0.000000               5.607500  \n",
       "max     11.000000   11.000000              10.047000  "
      ]
     },
     "execution_count": 5,
     "metadata": {},
     "output_type": "execute_result"
    }
   ],
   "source": [
    "data.info()\n",
    "data.describe()"
   ]
  },
  {
   "cell_type": "code",
   "execution_count": 7,
   "metadata": {},
   "outputs": [
    {
     "data": {
      "image/png": "[encoded data removed]",
      "text/plain": [
       "<Figure size 1080x720 with 8 Axes>"
      ]
     },
     "metadata": {
      "needs_background": "light"
     },
     "output_type": "display_data"
    }
   ],
   "source": [
    "#Histogram Visualization\n",
    "fig, axs = plt.subplots(2, 4, figsize=(15, 10))\n",
    "axs[0,0].hist(data['TPSA'])\n",
    "axs[0,0].set_title('TPSA')\n",
    "\n",
    "axs[0,1].hist(data['SAacc'])\n",
    "axs[0,1].set_title('SAacc')\n",
    "\n",
    "axs[0,2].hist(data['H-050'])\n",
    "axs[0,2].set_title('H-050')\n",
    "\n",
    "axs[0,3].hist(data['MLOGP'])\n",
    "axs[0,3].set_title('MLOGP')\n",
    "\n",
    "axs[1,0].hist(data['RDCHI'])\n",
    "axs[1,0].set_title('RDCHI')\n",
    "\n",
    "axs[1,1].hist(data['nN'])\n",
    "axs[1,1].set_title('nN')\n",
    "\n",
    "axs[1,2].hist(data['C-040'])\n",
    "axs[1,2].set_title('C-040')\n",
    "\n",
    "axs[1,3].hist(data['quantitative response'])\n",
    "axs[1,3].set_title('quantitative response')\n",
    "\n",
    "plt.show()"
   ]
  },
  {
   "cell_type": "code",
   "execution_count": 24,
   "metadata": {},
   "outputs": [],
   "source": [
    "#### Define a function to get the columns that do not have any missing values\n",
    "\n",
    "def get_cols_with_no_nans(df,col_type):\n",
    "    \"\"\"\n",
    "    Arguments :\n",
    "    df : The dataframe to process\n",
    "    col_type:\n",
    "        num : to only get numerical columns with no nans\n",
    "        no_num : to only get non-numerical columns with no nans\n",
    "        all : to get any columns with no nans\n",
    "     \"\"\" \n",
    "    if (col_type == 'num'):\n",
    "        predictors = df.select_dtypes(exclude = ['object'])\n",
    "    elif (col_type == 'no_num'):\n",
    "        predictors = df.select_dtypes(include = ['object'])\n",
    "    elif (col_type == 'all'):\n",
    "        predictors = df\n",
    "    else:\n",
    "        print('Error : choose a type (num, no_num, all)')\n",
    "        return 0\n",
    "    cols_with_no_nans = []\n",
    "    for col in predictors.columns:\n",
    "        if not df[col].isnull().any():\n",
    "            cols_with_no_nans.append(col)\n",
    "    return cols_with_no_nans"
   ]
  },
  {
   "cell_type": "code",
   "execution_count": 25,
   "metadata": {},
   "outputs": [],
   "source": [
    "# Get the columns that do not have any missing values\n",
    "\n",
    "num_cols = get_cols_with_no_nans(data, 'num')\n",
    "cat_cols = get_cols_with_no_nans(data, 'no_num')"
   ]
  },
  {
   "cell_type": "code",
   "execution_count": 27,
   "metadata": {},
   "outputs": [
    {
     "name": "stdout",
     "output_type": "stream",
     "text": [
      "Number of numerical columns with no nan values :  9\n",
      "Number of non-numberical columns with no nan values : 0\n"
     ]
    }
   ],
   "source": [
    "# How many column we got?\n",
    "\n",
    "print(\"Number of numerical columns with no nan values : \", len(num_cols))\n",
    "print(\"Number of non-numberical columns with no nan values :\", len(cat_cols))"
   ]
  },
  {
   "cell_type": "code",
   "execution_count": 29,
   "metadata": {},
   "outputs": [
    {
     "data": {
      "image/png": "[encoded data removed]",
      "text/plain": [
       "<Figure size 864x720 with 9 Axes>"
      ]
     },
     "metadata": {
      "needs_background": "light"
     },
     "output_type": "display_data"
    }
   ],
   "source": [
    "data = data[num_cols + cat_cols]\n",
    "data.hist(figsize = (12,10))\n",
    "plt.show()"
   ]
  },
  {
   "cell_type": "code",
   "execution_count": 31,
   "metadata": {},
   "outputs": [
    {
     "name": "stdout",
     "output_type": "stream",
     "text": [
      "Train:  382\n",
      "Test : 164\n"
     ]
    }
   ],
   "source": [
    "# Split data : 70% of data for training and 30 % of data for data testing\n",
    "\n",
    "x_train, x_test , y_train, y_test = train_test_split(data.drop(axis=0, columns='quantitative response'),\n",
    "                                    data['quantitative response'], test_size=0.3)\n",
    "\n",
    "print(\"Train: \",len(x_train))\n",
    "print(\"Test :\", len(x_test))"
   ]
  },
  {
   "cell_type": "markdown",
   "metadata": {},
   "source": [
    "#### Train and test the models"
   ]
  },
  {
   "cell_type": "code",
   "execution_count": 33,
   "metadata": {},
   "outputs": [
    {
     "name": "stdout",
     "output_type": "stream",
     "text": [
      "Mean Squared Error Linear Regression : 1.3556466532927454\n",
      "Mean Squared Error Multilayer Perceptron : 1.4007845896230802\n"
     ]
    },
    {
     "name": "stderr",
     "output_type": "stream",
     "text": [
      "c:\\Users\\user\\anaconda3\\envs\\atrophine_tf\\lib\\site-packages\\sklearn\\neural_network\\_multilayer_perceptron.py:702: ConvergenceWarning: Stochastic Optimizer: Maximum iterations (200) reached and the optimization hasn't converged yet.\n",
      "  warnings.warn(\n"
     ]
    }
   ],
   "source": [
    "lnr = LinearRegression()\n",
    "mlp = MLPRegressor()\n",
    "\n",
    "lnr.fit(x_train, y_train)\n",
    "mlp.fit(x_train, y_train)\n",
    "\n",
    "hasil_lnr = lnr.predict(x_test)\n",
    "hasil_mlp = mlp.predict(x_test)\n",
    "\n",
    "print(\"Mean Squared Error Linear Regression :\", mean_squared_error(y_test, hasil_lnr))\n",
    "print(\"Mean Squared Error Multilayer Perceptron :\",mean_squared_error(y_test, hasil_mlp))"
   ]
  },
  {
   "cell_type": "code",
   "execution_count": 34,
   "metadata": {},
   "outputs": [
    {
     "data": {
      "text/plain": [
       "<matplotlib.legend.Legend at 0x257561b7e80>"
      ]
     },
     "execution_count": 34,
     "metadata": {},
     "output_type": "execute_result"
    },
    {
     "data": {
      "image/png": "[encoded data removed]",
      "text/plain": [
       "<Figure size 432x288 with 1 Axes>"
      ]
     },
     "metadata": {
      "needs_background": "light"
     },
     "output_type": "display_data"
    }
   ],
   "source": [
    "plt.plot(list(hasil_lnr), label ='Linear Regression')\n",
    "plt.plot(list(y_test), label = 'Actual Value')\n",
    "\n",
    "plt.legend(loc='upper right')"
   ]
  },
  {
   "cell_type": "code",
   "execution_count": 35,
   "metadata": {},
   "outputs": [
    {
     "data": {
      "text/plain": [
       "<matplotlib.legend.Legend at 0x25756244850>"
      ]
     },
     "execution_count": 35,
     "metadata": {},
     "output_type": "execute_result"
    },
    {
     "data": {
      "image/png": "[encoded data removed]",
      "text/plain": [
       "<Figure size 432x288 with 1 Axes>"
      ]
     },
     "metadata": {
      "needs_background": "light"
     },
     "output_type": "display_data"
    }
   ],
   "source": [
    "plt.plot(list(hasil_mlp), label = \" Multilayer Perceptron\")\n",
    "plt.plot(list(y_test), label = 'Actual Value')\n",
    "plt.legend(loc='upper right')"
   ]
  },
  {
   "cell_type": "markdown",
   "metadata": {},
   "source": [
    "### Tensorflow"
   ]
  },
  {
   "cell_type": "code",
   "execution_count": 40,
   "metadata": {},
   "outputs": [],
   "source": [
    "# Import library\n",
    "from tensorflow.keras import Sequential, layers, optimizers"
   ]
  },
  {
   "cell_type": "markdown",
   "metadata": {},
   "source": [
    "#### Model\n",
    "Consists of : 8 nodes in the input layer 8 nodes in hidden layers 1 and 2 along with the activation function used is ReLU also 1 node in the output because this case is regression"
   ]
  },
  {
   "cell_type": "code",
   "execution_count": 43,
   "metadata": {},
   "outputs": [],
   "source": [
    "def Simple_NN():\n",
    "    model = Sequential([\n",
    "    layers.Dense(8, activation = 'relu', input_shape =[8]),\n",
    "    layers.Dense(8, activation = 'relu'),\n",
    "    layers.Dense(1)\n",
    "    ])\n",
    "\n",
    "    optimizer = optimizers.RMSprop(0.001)\n",
    "    model.compile(loss='mse', optimizer= optimizer, metrics = ['mae','mse'])\n",
    "    return model\n",
    "    "
   ]
  },
  {
   "cell_type": "code",
   "execution_count": 44,
   "metadata": {},
   "outputs": [
    {
     "name": "stdout",
     "output_type": "stream",
     "text": [
      "Model: \"sequential_1\"\n",
      "_________________________________________________________________\n",
      " Layer (type)                Output Shape              Param #   \n",
      "=================================================================\n",
      " dense_3 (Dense)             (None, 8)                 72        \n",
      "                                                                 \n",
      " dense_4 (Dense)             (None, 8)                 72        \n",
      "                                                                 \n",
      " dense_5 (Dense)             (None, 1)                 9         \n",
      "                                                                 \n",
      "=================================================================\n",
      "Total params: 153\n",
      "Trainable params: 153\n",
      "Non-trainable params: 0\n",
      "_________________________________________________________________\n"
     ]
    }
   ],
   "source": [
    "model = Simple_NN()\n",
    "model.summary()"
   ]
  },
  {
   "cell_type": "markdown",
   "metadata": {},
   "source": [
    "#### Training Model"
   ]
  },
  {
   "cell_type": "code",
   "execution_count": 45,
   "metadata": {},
   "outputs": [
    {
     "name": "stdout",
     "output_type": "stream",
     "text": [
      "Epoch 1/100\n",
      "10/10 [==============================] - 0s 14ms/step - loss: 693.4864 - mae: 20.1066 - mse: 693.4864 - val_loss: 1070.5073 - val_mae: 23.4558 - val_mse: 1070.5073\n",
      "Epoch 2/100\n",
      "10/10 [==============================] - 0s 2ms/step - loss: 508.5451 - mae: 17.3526 - mse: 508.5451 - val_loss: 813.0262 - val_mae: 20.6552 - val_mse: 813.0262\n",
      "Epoch 3/100\n",
      "10/10 [==============================] - 0s 2ms/step - loss: 392.8101 - mae: 15.3787 - mse: 392.8101 - val_loss: 635.0123 - val_mae: 18.3582 - val_mse: 635.0123\n",
      "Epoch 4/100\n",
      "10/10 [==============================] - 0s 2ms/step - loss: 300.5343 - mae: 13.5091 - mse: 300.5343 - val_loss: 472.9931 - val_mae: 15.9732 - val_mse: 472.9931\n",
      "Epoch 5/100\n",
      "10/10 [==============================] - 0s 3ms/step - loss: 212.3591 - mae: 11.5730 - mse: 212.3591 - val_loss: 299.0410 - val_mae: 13.1149 - val_mse: 299.0410\n",
      "Epoch 6/100\n",
      "10/10 [==============================] - 0s 4ms/step - loss: 132.7913 - mae: 9.4577 - mse: 132.7913 - val_loss: 163.7085 - val_mae: 10.2140 - val_mse: 163.7085\n",
      "Epoch 7/100\n",
      "10/10 [==============================] - 0s 3ms/step - loss: 74.2851 - mae: 7.4679 - mse: 74.2851 - val_loss: 74.8141 - val_mae: 7.4304 - val_mse: 74.8141\n",
      "Epoch 8/100\n",
      "10/10 [==============================] - 0s 3ms/step - loss: 37.5561 - mae: 5.4930 - mse: 37.5561 - val_loss: 30.8702 - val_mae: 5.1474 - val_mse: 30.8702\n",
      "Epoch 9/100\n",
      "10/10 [==============================] - 0s 2ms/step - loss: 19.1510 - mae: 3.9292 - mse: 19.1510 - val_loss: 13.5118 - val_mae: 3.3062 - val_mse: 13.5118\n",
      "Epoch 10/100\n",
      "10/10 [==============================] - 0s 2ms/step - loss: 12.0389 - mae: 2.9554 - mse: 12.0389 - val_loss: 10.7666 - val_mae: 2.8427 - val_mse: 10.7666\n",
      "Epoch 11/100\n",
      "10/10 [==============================] - 0s 2ms/step - loss: 10.6531 - mae: 2.7130 - mse: 10.6531 - val_loss: 10.1601 - val_mae: 2.7615 - val_mse: 10.1601\n",
      "Epoch 12/100\n",
      "10/10 [==============================] - 0s 2ms/step - loss: 10.0072 - mae: 2.6567 - mse: 10.0072 - val_loss: 9.4707 - val_mae: 2.6655 - val_mse: 9.4707\n",
      "Epoch 13/100\n",
      "10/10 [==============================] - 0s 2ms/step - loss: 9.6367 - mae: 2.5821 - mse: 9.6367 - val_loss: 10.0673 - val_mae: 2.6320 - val_mse: 10.0673\n",
      "Epoch 14/100\n",
      "10/10 [==============================] - 0s 2ms/step - loss: 8.7944 - mae: 2.4937 - mse: 8.7944 - val_loss: 10.1520 - val_mae: 2.5772 - val_mse: 10.1520\n",
      "Epoch 15/100\n",
      "10/10 [==============================] - 0s 2ms/step - loss: 8.2971 - mae: 2.3611 - mse: 8.2971 - val_loss: 7.5240 - val_mae: 2.3508 - val_mse: 7.5240\n",
      "Epoch 16/100\n",
      "10/10 [==============================] - 0s 3ms/step - loss: 7.6365 - mae: 2.2563 - mse: 7.6365 - val_loss: 6.8444 - val_mae: 2.2395 - val_mse: 6.8444\n",
      "Epoch 17/100\n",
      "10/10 [==============================] - 0s 2ms/step - loss: 6.7161 - mae: 2.1698 - mse: 6.7161 - val_loss: 6.2552 - val_mae: 2.1179 - val_mse: 6.2552\n",
      "Epoch 18/100\n",
      "10/10 [==============================] - 0s 3ms/step - loss: 5.7849 - mae: 1.9875 - mse: 5.7849 - val_loss: 5.4481 - val_mae: 1.9523 - val_mse: 5.4481\n",
      "Epoch 19/100\n",
      "10/10 [==============================] - 0s 2ms/step - loss: 5.0568 - mae: 1.8649 - mse: 5.0568 - val_loss: 5.5059 - val_mae: 1.9534 - val_mse: 5.5059\n",
      "Epoch 20/100\n",
      "10/10 [==============================] - 0s 3ms/step - loss: 4.6204 - mae: 1.7667 - mse: 4.6204 - val_loss: 6.2854 - val_mae: 2.0010 - val_mse: 6.2854\n",
      "Epoch 21/100\n",
      "10/10 [==============================] - 0s 2ms/step - loss: 4.2730 - mae: 1.6578 - mse: 4.2730 - val_loss: 4.3038 - val_mae: 1.7226 - val_mse: 4.3038\n",
      "Epoch 22/100\n",
      "10/10 [==============================] - 0s 2ms/step - loss: 4.0813 - mae: 1.6325 - mse: 4.0813 - val_loss: 4.6848 - val_mae: 1.7633 - val_mse: 4.6848\n",
      "Epoch 23/100\n",
      "10/10 [==============================] - 0s 2ms/step - loss: 3.5720 - mae: 1.4751 - mse: 3.5720 - val_loss: 3.5394 - val_mae: 1.4972 - val_mse: 3.5394\n",
      "Epoch 24/100\n",
      "10/10 [==============================] - 0s 2ms/step - loss: 3.2653 - mae: 1.4186 - mse: 3.2653 - val_loss: 3.7830 - val_mae: 1.5724 - val_mse: 3.7830\n",
      "Epoch 25/100\n",
      "10/10 [==============================] - 0s 3ms/step - loss: 3.1298 - mae: 1.3659 - mse: 3.1298 - val_loss: 3.1371 - val_mae: 1.4035 - val_mse: 3.1371\n",
      "Epoch 26/100\n",
      "10/10 [==============================] - 0s 2ms/step - loss: 2.8307 - mae: 1.2856 - mse: 2.8307 - val_loss: 2.9521 - val_mae: 1.3277 - val_mse: 2.9521\n",
      "Epoch 27/100\n",
      "10/10 [==============================] - 0s 2ms/step - loss: 2.7000 - mae: 1.2499 - mse: 2.7000 - val_loss: 2.9411 - val_mae: 1.3328 - val_mse: 2.9411\n",
      "Epoch 28/100\n",
      "10/10 [==============================] - 0s 3ms/step - loss: 2.5745 - mae: 1.2105 - mse: 2.5745 - val_loss: 2.7503 - val_mae: 1.2365 - val_mse: 2.7503\n",
      "Epoch 29/100\n",
      "10/10 [==============================] - 0s 2ms/step - loss: 2.5051 - mae: 1.1889 - mse: 2.5051 - val_loss: 2.6184 - val_mae: 1.2162 - val_mse: 2.6184\n",
      "Epoch 30/100\n",
      "10/10 [==============================] - 0s 3ms/step - loss: 2.3576 - mae: 1.1611 - mse: 2.3576 - val_loss: 2.7751 - val_mae: 1.2832 - val_mse: 2.7751\n",
      "Epoch 31/100\n",
      "10/10 [==============================] - 0s 3ms/step - loss: 2.2197 - mae: 1.1153 - mse: 2.2197 - val_loss: 3.0656 - val_mae: 1.3437 - val_mse: 3.0656\n",
      "Epoch 32/100\n",
      "10/10 [==============================] - 0s 2ms/step - loss: 2.2428 - mae: 1.1097 - mse: 2.2428 - val_loss: 3.6519 - val_mae: 1.3595 - val_mse: 3.6519\n",
      "Epoch 33/100\n",
      "10/10 [==============================] - 0s 2ms/step - loss: 2.1547 - mae: 1.0876 - mse: 2.1547 - val_loss: 2.6379 - val_mae: 1.2324 - val_mse: 2.6379\n",
      "Epoch 34/100\n",
      "10/10 [==============================] - 0s 2ms/step - loss: 2.2124 - mae: 1.1118 - mse: 2.2124 - val_loss: 2.3390 - val_mae: 1.1441 - val_mse: 2.3390\n",
      "Epoch 35/100\n",
      "10/10 [==============================] - 0s 3ms/step - loss: 2.1750 - mae: 1.1128 - mse: 2.1750 - val_loss: 2.2470 - val_mae: 1.1358 - val_mse: 2.2470\n",
      "Epoch 36/100\n",
      "10/10 [==============================] - 0s 2ms/step - loss: 1.9621 - mae: 1.0432 - mse: 1.9621 - val_loss: 2.2132 - val_mae: 1.1119 - val_mse: 2.2132\n",
      "Epoch 37/100\n",
      "10/10 [==============================] - 0s 3ms/step - loss: 1.9503 - mae: 1.0428 - mse: 1.9503 - val_loss: 2.2240 - val_mae: 1.1082 - val_mse: 2.2240\n",
      "Epoch 38/100\n",
      "10/10 [==============================] - 0s 2ms/step - loss: 1.9360 - mae: 1.0444 - mse: 1.9360 - val_loss: 2.1369 - val_mae: 1.0955 - val_mse: 2.1369\n",
      "Epoch 39/100\n",
      "10/10 [==============================] - 0s 3ms/step - loss: 1.8904 - mae: 1.0290 - mse: 1.8904 - val_loss: 2.2648 - val_mae: 1.1329 - val_mse: 2.2648\n",
      "Epoch 40/100\n",
      "10/10 [==============================] - 0s 2ms/step - loss: 1.8963 - mae: 1.0199 - mse: 1.8963 - val_loss: 2.5855 - val_mae: 1.1350 - val_mse: 2.5855\n",
      "Epoch 41/100\n",
      "10/10 [==============================] - 0s 2ms/step - loss: 2.0609 - mae: 1.0700 - mse: 2.0609 - val_loss: 2.0460 - val_mae: 1.0683 - val_mse: 2.0460\n",
      "Epoch 42/100\n",
      "10/10 [==============================] - 0s 2ms/step - loss: 1.9053 - mae: 1.0352 - mse: 1.9053 - val_loss: 2.3340 - val_mae: 1.0874 - val_mse: 2.3340\n",
      "Epoch 43/100\n",
      "10/10 [==============================] - 0s 2ms/step - loss: 1.7923 - mae: 1.0123 - mse: 1.7923 - val_loss: 2.0201 - val_mae: 1.0521 - val_mse: 2.0201\n",
      "Epoch 44/100\n",
      "10/10 [==============================] - 0s 2ms/step - loss: 1.7463 - mae: 0.9873 - mse: 1.7463 - val_loss: 2.3297 - val_mae: 1.0811 - val_mse: 2.3297\n",
      "Epoch 45/100\n",
      "10/10 [==============================] - 0s 3ms/step - loss: 1.7314 - mae: 0.9938 - mse: 1.7314 - val_loss: 2.0198 - val_mae: 1.0447 - val_mse: 2.0198\n",
      "Epoch 46/100\n",
      "10/10 [==============================] - 0s 2ms/step - loss: 1.7824 - mae: 1.0094 - mse: 1.7824 - val_loss: 2.4964 - val_mae: 1.1133 - val_mse: 2.4964\n",
      "Epoch 47/100\n",
      "10/10 [==============================] - 0s 3ms/step - loss: 1.7457 - mae: 0.9893 - mse: 1.7457 - val_loss: 2.2523 - val_mae: 1.0682 - val_mse: 2.2523\n",
      "Epoch 48/100\n",
      "10/10 [==============================] - 0s 2ms/step - loss: 1.8499 - mae: 0.9982 - mse: 1.8499 - val_loss: 1.9215 - val_mae: 1.0389 - val_mse: 1.9215\n",
      "Epoch 49/100\n",
      "10/10 [==============================] - 0s 3ms/step - loss: 1.7679 - mae: 1.0025 - mse: 1.7679 - val_loss: 2.4434 - val_mae: 1.0959 - val_mse: 2.4434\n",
      "Epoch 50/100\n",
      "10/10 [==============================] - 0s 3ms/step - loss: 1.7036 - mae: 0.9853 - mse: 1.7036 - val_loss: 1.8906 - val_mae: 0.9973 - val_mse: 1.8906\n",
      "Epoch 51/100\n",
      "10/10 [==============================] - 0s 2ms/step - loss: 1.7823 - mae: 1.0117 - mse: 1.7823 - val_loss: 2.0234 - val_mae: 1.0207 - val_mse: 2.0234\n",
      "Epoch 52/100\n",
      "10/10 [==============================] - 0s 3ms/step - loss: 1.6911 - mae: 0.9779 - mse: 1.6911 - val_loss: 2.2078 - val_mae: 1.0564 - val_mse: 2.2078\n",
      "Epoch 53/100\n",
      "10/10 [==============================] - 0s 2ms/step - loss: 1.7009 - mae: 0.9906 - mse: 1.7009 - val_loss: 2.4271 - val_mae: 1.0869 - val_mse: 2.4271\n",
      "Epoch 54/100\n",
      "10/10 [==============================] - 0s 2ms/step - loss: 1.6476 - mae: 0.9584 - mse: 1.6476 - val_loss: 2.4035 - val_mae: 1.0820 - val_mse: 2.4035\n",
      "Epoch 55/100\n",
      "10/10 [==============================] - 0s 2ms/step - loss: 1.6878 - mae: 0.9767 - mse: 1.6878 - val_loss: 2.9952 - val_mae: 1.1745 - val_mse: 2.9952\n",
      "Epoch 56/100\n",
      "10/10 [==============================] - 0s 3ms/step - loss: 1.7464 - mae: 0.9851 - mse: 1.7464 - val_loss: 1.8669 - val_mae: 0.9899 - val_mse: 1.8669\n",
      "Epoch 57/100\n",
      "10/10 [==============================] - 0s 2ms/step - loss: 1.6743 - mae: 0.9749 - mse: 1.6743 - val_loss: 1.9845 - val_mae: 1.0132 - val_mse: 1.9845\n",
      "Epoch 58/100\n",
      "10/10 [==============================] - 0s 3ms/step - loss: 1.6456 - mae: 0.9868 - mse: 1.6456 - val_loss: 1.8043 - val_mae: 1.0084 - val_mse: 1.8043\n",
      "Epoch 59/100\n",
      "10/10 [==============================] - 0s 2ms/step - loss: 1.5724 - mae: 0.9556 - mse: 1.5724 - val_loss: 2.8880 - val_mae: 1.1567 - val_mse: 2.8880\n",
      "Epoch 60/100\n",
      "10/10 [==============================] - 0s 2ms/step - loss: 1.7334 - mae: 0.9895 - mse: 1.7334 - val_loss: 1.8198 - val_mae: 0.9777 - val_mse: 1.8198\n",
      "Epoch 61/100\n",
      "10/10 [==============================] - 0s 2ms/step - loss: 1.7421 - mae: 1.0060 - mse: 1.7421 - val_loss: 2.2706 - val_mae: 1.0544 - val_mse: 2.2706\n",
      "Epoch 62/100\n",
      "10/10 [==============================] - 0s 2ms/step - loss: 1.6564 - mae: 0.9719 - mse: 1.6564 - val_loss: 2.3900 - val_mae: 1.0731 - val_mse: 2.3900\n",
      "Epoch 63/100\n",
      "10/10 [==============================] - 0s 3ms/step - loss: 1.6230 - mae: 0.9609 - mse: 1.6230 - val_loss: 1.7703 - val_mae: 0.9738 - val_mse: 1.7703\n",
      "Epoch 64/100\n",
      "10/10 [==============================] - 0s 2ms/step - loss: 1.5880 - mae: 0.9558 - mse: 1.5880 - val_loss: 1.8865 - val_mae: 0.9930 - val_mse: 1.8865\n",
      "Epoch 65/100\n",
      "10/10 [==============================] - 0s 2ms/step - loss: 1.6983 - mae: 0.9891 - mse: 1.6983 - val_loss: 1.7501 - val_mae: 0.9818 - val_mse: 1.7501\n",
      "Epoch 66/100\n",
      "10/10 [==============================] - 0s 2ms/step - loss: 1.5579 - mae: 0.9518 - mse: 1.5579 - val_loss: 1.7533 - val_mae: 0.9967 - val_mse: 1.7533\n",
      "Epoch 67/100\n",
      "10/10 [==============================] - 0s 2ms/step - loss: 1.5925 - mae: 0.9561 - mse: 1.5925 - val_loss: 2.9003 - val_mae: 1.1592 - val_mse: 2.9003\n",
      "Epoch 68/100\n",
      "10/10 [==============================] - 0s 2ms/step - loss: 1.5822 - mae: 0.9448 - mse: 1.5822 - val_loss: 2.6964 - val_mae: 1.2905 - val_mse: 2.6964\n",
      "Epoch 69/100\n",
      "10/10 [==============================] - 0s 2ms/step - loss: 1.5895 - mae: 0.9586 - mse: 1.5895 - val_loss: 3.0023 - val_mae: 1.1737 - val_mse: 3.0023\n",
      "Epoch 70/100\n",
      "10/10 [==============================] - 0s 2ms/step - loss: 1.5141 - mae: 0.9320 - mse: 1.5141 - val_loss: 1.8789 - val_mae: 0.9847 - val_mse: 1.8789\n",
      "Epoch 71/100\n",
      "10/10 [==============================] - 0s 2ms/step - loss: 1.5655 - mae: 0.9485 - mse: 1.5655 - val_loss: 1.8263 - val_mae: 0.9766 - val_mse: 1.8263\n",
      "Epoch 72/100\n",
      "10/10 [==============================] - 0s 3ms/step - loss: 1.5480 - mae: 0.9489 - mse: 1.5480 - val_loss: 2.0797 - val_mae: 1.0183 - val_mse: 2.0797\n",
      "Epoch 73/100\n",
      "10/10 [==============================] - 0s 2ms/step - loss: 1.6082 - mae: 0.9576 - mse: 1.6082 - val_loss: 2.0184 - val_mae: 1.0121 - val_mse: 2.0184\n",
      "Epoch 74/100\n",
      "10/10 [==============================] - 0s 2ms/step - loss: 1.5047 - mae: 0.9314 - mse: 1.5047 - val_loss: 1.7309 - val_mae: 0.9639 - val_mse: 1.7309\n",
      "Epoch 75/100\n",
      "10/10 [==============================] - 0s 3ms/step - loss: 1.5833 - mae: 0.9491 - mse: 1.5833 - val_loss: 1.7320 - val_mae: 0.9868 - val_mse: 1.7320\n",
      "Epoch 76/100\n",
      "10/10 [==============================] - 0s 2ms/step - loss: 1.5693 - mae: 0.9477 - mse: 1.5693 - val_loss: 2.3293 - val_mae: 1.0523 - val_mse: 2.3293\n",
      "Epoch 77/100\n",
      "10/10 [==============================] - 0s 3ms/step - loss: 1.6640 - mae: 0.9795 - mse: 1.6640 - val_loss: 1.7713 - val_mae: 0.9657 - val_mse: 1.7713\n",
      "Epoch 78/100\n",
      "10/10 [==============================] - 0s 2ms/step - loss: 1.5150 - mae: 0.9420 - mse: 1.5150 - val_loss: 1.7010 - val_mae: 0.9693 - val_mse: 1.7010\n",
      "Epoch 79/100\n",
      "10/10 [==============================] - 0s 3ms/step - loss: 1.5752 - mae: 0.9699 - mse: 1.5752 - val_loss: 2.3546 - val_mae: 1.0558 - val_mse: 2.3546\n",
      "Epoch 80/100\n",
      "10/10 [==============================] - 0s 2ms/step - loss: 1.6238 - mae: 0.9593 - mse: 1.6238 - val_loss: 1.7955 - val_mae: 0.9690 - val_mse: 1.7955\n",
      "Epoch 81/100\n",
      "10/10 [==============================] - 0s 3ms/step - loss: 1.5473 - mae: 0.9459 - mse: 1.5473 - val_loss: 1.9567 - val_mae: 0.9990 - val_mse: 1.9567\n",
      "Epoch 82/100\n",
      "10/10 [==============================] - 0s 2ms/step - loss: 1.5911 - mae: 0.9573 - mse: 1.5911 - val_loss: 1.7469 - val_mae: 0.9693 - val_mse: 1.7469\n",
      "Epoch 83/100\n",
      "10/10 [==============================] - 0s 3ms/step - loss: 1.5717 - mae: 0.9661 - mse: 1.5717 - val_loss: 2.3493 - val_mae: 1.0590 - val_mse: 2.3493\n",
      "Epoch 84/100\n",
      "10/10 [==============================] - 0s 2ms/step - loss: 1.4799 - mae: 0.9187 - mse: 1.4799 - val_loss: 1.7941 - val_mae: 0.9710 - val_mse: 1.7941\n",
      "Epoch 85/100\n",
      "10/10 [==============================] - 0s 2ms/step - loss: 1.5150 - mae: 0.9442 - mse: 1.5150 - val_loss: 2.4540 - val_mae: 1.0713 - val_mse: 2.4540\n",
      "Epoch 86/100\n",
      "10/10 [==============================] - 0s 2ms/step - loss: 1.5758 - mae: 0.9600 - mse: 1.5758 - val_loss: 1.7113 - val_mae: 0.9812 - val_mse: 1.7113\n",
      "Epoch 87/100\n",
      "10/10 [==============================] - 0s 2ms/step - loss: 1.4935 - mae: 0.9355 - mse: 1.4935 - val_loss: 1.6927 - val_mae: 0.9547 - val_mse: 1.6927\n",
      "Epoch 88/100\n",
      "10/10 [==============================] - 0s 2ms/step - loss: 1.5191 - mae: 0.9438 - mse: 1.5191 - val_loss: 2.9181 - val_mae: 1.1593 - val_mse: 2.9181\n",
      "Epoch 89/100\n",
      "10/10 [==============================] - 0s 2ms/step - loss: 1.7327 - mae: 0.9957 - mse: 1.7327 - val_loss: 1.6918 - val_mae: 0.9580 - val_mse: 1.6918\n",
      "Epoch 90/100\n",
      "10/10 [==============================] - 0s 2ms/step - loss: 1.4746 - mae: 0.9299 - mse: 1.4746 - val_loss: 1.7378 - val_mae: 0.9935 - val_mse: 1.7378\n",
      "Epoch 91/100\n",
      "10/10 [==============================] - 0s 3ms/step - loss: 1.5390 - mae: 0.9426 - mse: 1.5390 - val_loss: 2.1645 - val_mae: 1.0267 - val_mse: 2.1645\n",
      "Epoch 92/100\n",
      "10/10 [==============================] - 0s 2ms/step - loss: 1.5712 - mae: 0.9468 - mse: 1.5712 - val_loss: 1.6921 - val_mae: 0.9727 - val_mse: 1.6921\n",
      "Epoch 93/100\n",
      "10/10 [==============================] - 0s 3ms/step - loss: 1.5595 - mae: 0.9601 - mse: 1.5595 - val_loss: 1.7049 - val_mae: 0.9580 - val_mse: 1.7049\n",
      "Epoch 94/100\n",
      "10/10 [==============================] - 0s 2ms/step - loss: 1.5168 - mae: 0.9336 - mse: 1.5168 - val_loss: 1.7693 - val_mae: 0.9668 - val_mse: 1.7693\n",
      "Epoch 95/100\n",
      "10/10 [==============================] - 0s 2ms/step - loss: 1.5851 - mae: 0.9521 - mse: 1.5851 - val_loss: 2.1871 - val_mae: 1.1652 - val_mse: 2.1871\n",
      "Epoch 96/100\n",
      "10/10 [==============================] - 0s 3ms/step - loss: 1.5149 - mae: 0.9346 - mse: 1.5149 - val_loss: 1.6684 - val_mae: 0.9497 - val_mse: 1.6684\n",
      "Epoch 97/100\n",
      "10/10 [==============================] - 0s 2ms/step - loss: 1.5119 - mae: 0.9408 - mse: 1.5119 - val_loss: 2.1065 - val_mae: 1.0148 - val_mse: 2.1065\n",
      "Epoch 98/100\n",
      "10/10 [==============================] - 0s 3ms/step - loss: 1.5408 - mae: 0.9306 - mse: 1.5408 - val_loss: 1.7103 - val_mae: 0.9578 - val_mse: 1.7103\n",
      "Epoch 99/100\n",
      "10/10 [==============================] - 0s 2ms/step - loss: 1.5201 - mae: 0.9273 - mse: 1.5201 - val_loss: 1.8452 - val_mae: 0.9735 - val_mse: 1.8452\n",
      "Epoch 100/100\n",
      "10/10 [==============================] - 0s 3ms/step - loss: 1.4303 - mae: 0.9093 - mse: 1.4303 - val_loss: 1.6984 - val_mae: 0.9563 - val_mse: 1.6984\n"
     ]
    },
    {
     "data": {
      "text/plain": [
       "<keras.callbacks.History at 0x2575fa86d70>"
      ]
     },
     "execution_count": 45,
     "metadata": {},
     "output_type": "execute_result"
    }
   ],
   "source": [
    "model.fit(x_train, y_train, epochs = 100, validation_split=0.2, verbose=1)"
   ]
  },
  {
   "cell_type": "markdown",
   "metadata": {},
   "source": [
    "#### Testing model to predict the x_test"
   ]
  },
  {
   "cell_type": "code",
   "execution_count": 46,
   "metadata": {},
   "outputs": [
    {
     "name": "stdout",
     "output_type": "stream",
     "text": [
      "6/6 [==============================] - 0s 798us/step\n"
     ]
    },
    {
     "data": {
      "text/plain": [
       "array([5.2441654, 2.1831279, 5.0192285, 3.4340837, 2.2924776, 4.86824  ,\n",
       "       4.7390194, 3.8198152, 2.9648862, 3.6753929, 5.2117443, 3.1801414,\n",
       "       4.465021 , 6.3005652, 3.955384 , 4.9652443, 4.3876824, 3.859581 ,\n",
       "       6.5102158, 4.041981 , 4.3950844, 3.636617 , 3.971733 , 3.2669592,\n",
       "       3.8255339, 5.6484437, 4.0631747, 4.4933667, 5.7851405, 4.489016 ,\n",
       "       6.97667  , 2.6477757, 6.38745  , 6.8120756, 4.383706 , 4.0384297,\n",
       "       4.35738  , 3.6227922, 3.4976025, 4.1857615, 3.730863 , 3.9160433,\n",
       "       3.2412333, 3.5585613, 5.031516 , 4.367484 , 7.130059 , 7.1103296,\n",
       "       4.7685337, 3.8189478, 3.3344378, 4.750629 , 2.8179765, 4.1544914,\n",
       "       4.268527 , 5.037874 , 5.8676434, 4.6000767, 5.4714904, 6.7797203,\n",
       "       7.9079165, 5.4843655, 3.9420962, 2.1676252, 2.9227042, 4.1029873,\n",
       "       4.1782618, 4.167247 , 4.396079 , 5.254546 , 3.8839464, 2.9166088,\n",
       "       6.8672495, 3.2370737, 4.6465216, 4.883839 , 4.1594305, 3.272376 ,\n",
       "       6.801303 , 3.1994755, 4.2203054, 6.505184 , 2.815698 , 5.2796607,\n",
       "       6.3255672, 3.1881607, 4.409488 , 5.4535995, 4.6053333, 6.886757 ,\n",
       "       5.351673 , 4.2316723, 7.267682 , 3.5323565, 5.6930656, 3.4456685,\n",
       "       6.4579353, 3.5884137, 4.389678 , 7.850989 , 4.041109 , 5.3464723,\n",
       "       2.4440675, 4.4792747, 4.5482697, 4.794484 , 4.883811 , 3.6763003,\n",
       "       5.136894 , 6.6921935, 3.4458528, 3.4873018, 6.6922107, 5.1259108,\n",
       "       5.7263966, 4.312904 , 6.0706396, 3.078045 , 4.4839215, 3.4994004,\n",
       "       4.5665445, 4.054722 , 4.165947 , 4.8977475, 4.6318474, 2.502873 ,\n",
       "       3.532479 , 4.0373254, 5.287098 , 4.404249 , 3.9248633, 3.4980745,\n",
       "       6.6638947, 4.714218 , 7.1308994, 6.349723 , 8.083519 , 4.4267535,\n",
       "       5.72042  , 4.7856936, 5.4242   , 5.351673 , 5.392867 , 5.0937443,\n",
       "       7.2596188, 3.89083  , 4.460314 , 4.7550406, 4.0030203, 4.039281 ,\n",
       "       2.7891555, 3.562739 , 3.6706986, 4.1400623, 4.848771 , 2.4396071,\n",
       "       4.960336 , 2.8445272, 5.683071 , 5.0230436, 4.02492  , 4.4967484,\n",
       "       1.5642304, 4.7298164], dtype=float32)"
      ]
     },
     "execution_count": 46,
     "metadata": {},
     "output_type": "execute_result"
    }
   ],
   "source": [
    "hasil_tf = model.predict(x_test)\n",
    "\n",
    "hasil_tf.ravel()"
   ]
  },
  {
   "cell_type": "markdown",
   "metadata": {},
   "source": [
    "#### Evaluate the model using mean squared error"
   ]
  },
  {
   "cell_type": "code",
   "execution_count": 47,
   "metadata": {},
   "outputs": [
    {
     "data": {
      "text/plain": [
       "1.5467523466684252"
      ]
     },
     "execution_count": 47,
     "metadata": {},
     "output_type": "execute_result"
    }
   ],
   "source": [
    "mean_squared_error(y_test, hasil_tf)"
   ]
  },
  {
   "cell_type": "markdown",
   "metadata": {},
   "source": [
    "#### Data result visulization with line chart\n"
   ]
  },
  {
   "cell_type": "code",
   "execution_count": 48,
   "metadata": {},
   "outputs": [
    {
     "data": {
      "text/plain": [
       "<matplotlib.legend.Legend at 0x257614dbd30>"
      ]
     },
     "execution_count": 48,
     "metadata": {},
     "output_type": "execute_result"
    },
    {
     "data": {
      "image/png": "[encoded data removed]",
      "text/plain": [
       "<Figure size 432x288 with 1 Axes>"
      ]
     },
     "metadata": {
      "needs_background": "light"
     },
     "output_type": "display_data"
    }
   ],
   "source": [
    "plt.plot(list(hasil_tf), label= \"Tensorflow\")\n",
    "plt.plot(list(y_test), label = 'Actual Value')\n",
    "\n",
    "plt.legend(loc='upper right')"
   ]
  },
  {
   "cell_type": "code",
   "execution_count": 49,
   "metadata": {},
   "outputs": [
    {
     "data": {
      "text/plain": [
       "546"
      ]
     },
     "execution_count": 49,
     "metadata": {},
     "output_type": "execute_result"
    }
   ],
   "source": [
    "len(data)"
   ]
  },
  {
   "cell_type": "code",
   "execution_count": null,
   "metadata": {},
   "outputs": [],
   "source": []
  }
 ],
 "metadata": {
  "kernelspec": {
   "display_name": "Python 3.10.4 ('atrophine_tf')",
   "language": "python",
   "name": "python3"
  },
  "language_info": {
   "codemirror_mode": {
    "name": "ipython",
    "version": 3
   },
   "file_extension": ".py",
   "mimetype": "text/x-python",
   "name": "python",
   "nbconvert_exporter": "python",
   "pygments_lexer": "ipython3",
   "version": "3.10.4"
  },
  "orig_nbformat": 4,
  "vscode": {
   "interpreter": {
    "hash": "fc55cb3689c546066962b666c18656acd1e2a33334a25526b1b5941d10b03637"
   }
  }
 },
 "nbformat": 4,
 "nbformat_minor": 2
}
