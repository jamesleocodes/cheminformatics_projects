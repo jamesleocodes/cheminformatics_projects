{
 "cells": [
  {
   "cell_type": "markdown",
   "metadata": {},
   "source": [
    "### Introduction\n",
    "The bioactivity dataset is extracted from [ExcapeDB](https://solr.ideaconsult.net/search/excape/) chemogenomics database. Here, the main task is to build quatitative structure-activity relationship model(QSAR) to predict the molecule."
   ]
  },
  {
   "cell_type": "markdown",
   "metadata": {},
   "source": [
    "### Import required libraries"
   ]
  },
  {
   "cell_type": "code",
   "execution_count": 1,
   "metadata": {},
   "outputs": [],
   "source": [
    "\"\"\"\n",
    "Created on Tuesday 17 May 2022\n",
    "Author: ZAW\n",
    "\"\"\"\n",
    "import numpy as np\n",
    "import pandas as pd\n",
    "import matplotlib.pyplot as plt\n",
    "import torch\n",
    "import torch.nn as nn\n",
    "from sklearn.preprocessing import StandardScaler\n",
    "from sklearn.model_selection import train_test_split\n",
    "from sklearn.feature_selection import VarianceThreshold\n",
    "from torch.utils.data import TensorDataset"
   ]
  },
  {
   "cell_type": "code",
   "execution_count": 2,
   "metadata": {},
   "outputs": [
    {
     "data": {
      "text/html": [
       "<div>\n",
       "<style scoped>\n",
       "    .dataframe tbody tr th:only-of-type {\n",
       "        vertical-align: middle;\n",
       "    }\n",
       "\n",
       "    .dataframe tbody tr th {\n",
       "        vertical-align: top;\n",
       "    }\n",
       "\n",
       "    .dataframe thead th {\n",
       "        text-align: right;\n",
       "    }\n",
       "</style>\n",
       "<table border=\"1\" class=\"dataframe\">\n",
       "  <thead>\n",
       "    <tr style=\"text-align: right;\">\n",
       "      <th></th>\n",
       "      <th>Ambit_InchiKey</th>\n",
       "      <th>Original_Entry_ID</th>\n",
       "      <th>Entrez_ID</th>\n",
       "      <th>Activity_Flag</th>\n",
       "      <th>pXC50</th>\n",
       "      <th>DB</th>\n",
       "      <th>Original_Assay_ID</th>\n",
       "      <th>Tax_ID</th>\n",
       "      <th>Gene_Symbol</th>\n",
       "      <th>Ortholog_Group</th>\n",
       "      <th>SMILES</th>\n",
       "    </tr>\n",
       "  </thead>\n",
       "  <tbody>\n",
       "    <tr>\n",
       "      <th>0</th>\n",
       "      <td>AZMKBJHIXZCVNL-BXKDBHETNA-N</td>\n",
       "      <td>44590643</td>\n",
       "      <td>6532</td>\n",
       "      <td>A</td>\n",
       "      <td>5.68382</td>\n",
       "      <td>pubchem</td>\n",
       "      <td>393260</td>\n",
       "      <td>9606</td>\n",
       "      <td>SLC6A4</td>\n",
       "      <td>4061</td>\n",
       "      <td>FC1=CC([C@@H]2O[C@H](CC2)CN)=C(OC)C=C1</td>\n",
       "    </tr>\n",
       "    <tr>\n",
       "      <th>1</th>\n",
       "      <td>AZMKBJHIXZCVNL-UHFFFAOYNA-N</td>\n",
       "      <td>11492305</td>\n",
       "      <td>6532</td>\n",
       "      <td>A</td>\n",
       "      <td>5.16210</td>\n",
       "      <td>pubchem</td>\n",
       "      <td>393258</td>\n",
       "      <td>9606</td>\n",
       "      <td>SLC6A4</td>\n",
       "      <td>4061</td>\n",
       "      <td>FC1=CC(C2OC(CC2)CN)=C(OC)C=C1</td>\n",
       "    </tr>\n",
       "    <tr>\n",
       "      <th>2</th>\n",
       "      <td>AZOHUEDNMOIDOC-GETDIYNLNA-N</td>\n",
       "      <td>44419340</td>\n",
       "      <td>6532</td>\n",
       "      <td>A</td>\n",
       "      <td>6.66354</td>\n",
       "      <td>pubchem</td>\n",
       "      <td>276059</td>\n",
       "      <td>9606</td>\n",
       "      <td>SLC6A4</td>\n",
       "      <td>4061</td>\n",
       "      <td>FC1=CC=C(C[C@H]2C[C@@H](N(CC2)CC=C)CCCNC(=O)NC...</td>\n",
       "    </tr>\n",
       "    <tr>\n",
       "      <th>3</th>\n",
       "      <td>AZSKJKSQZWHDOK-VJSLDGLSNA-N</td>\n",
       "      <td>CHEMBL1080745</td>\n",
       "      <td>6532</td>\n",
       "      <td>A</td>\n",
       "      <td>6.96000</td>\n",
       "      <td>chembl20</td>\n",
       "      <td>617082</td>\n",
       "      <td>9606</td>\n",
       "      <td>SLC6A4</td>\n",
       "      <td>4061</td>\n",
       "      <td>C=1C=C(C=CC1)C2=CC(=C(N2CC(C)C)C)C(NCCCN3CCN(C...</td>\n",
       "    </tr>\n",
       "    <tr>\n",
       "      <th>4</th>\n",
       "      <td>AZTPZTRJVCAAMX-UHFFFAOYNA-N</td>\n",
       "      <td>CHEMBL578346</td>\n",
       "      <td>6532</td>\n",
       "      <td>A</td>\n",
       "      <td>8.00000</td>\n",
       "      <td>chembl20</td>\n",
       "      <td>596934</td>\n",
       "      <td>9606</td>\n",
       "      <td>SLC6A4</td>\n",
       "      <td>4061</td>\n",
       "      <td>C1=CC=C2C(=C1)C=C(C(N(C3CCNCC3)C4CCC4)=O)C=C2</td>\n",
       "    </tr>\n",
       "  </tbody>\n",
       "</table>\n",
       "</div>"
      ],
      "text/plain": [
       "                Ambit_InchiKey Original_Entry_ID  Entrez_ID Activity_Flag  \\\n",
       "0  AZMKBJHIXZCVNL-BXKDBHETNA-N          44590643       6532             A   \n",
       "1  AZMKBJHIXZCVNL-UHFFFAOYNA-N          11492305       6532             A   \n",
       "2  AZOHUEDNMOIDOC-GETDIYNLNA-N          44419340       6532             A   \n",
       "3  AZSKJKSQZWHDOK-VJSLDGLSNA-N     CHEMBL1080745       6532             A   \n",
       "4  AZTPZTRJVCAAMX-UHFFFAOYNA-N      CHEMBL578346       6532             A   \n",
       "\n",
       "     pXC50        DB  Original_Assay_ID  Tax_ID Gene_Symbol  Ortholog_Group  \\\n",
       "0  5.68382   pubchem             393260    9606      SLC6A4            4061   \n",
       "1  5.16210   pubchem             393258    9606      SLC6A4            4061   \n",
       "2  6.66354   pubchem             276059    9606      SLC6A4            4061   \n",
       "3  6.96000  chembl20             617082    9606      SLC6A4            4061   \n",
       "4  8.00000  chembl20             596934    9606      SLC6A4            4061   \n",
       "\n",
       "                                              SMILES  \n",
       "0             FC1=CC([C@@H]2O[C@H](CC2)CN)=C(OC)C=C1  \n",
       "1                      FC1=CC(C2OC(CC2)CN)=C(OC)C=C1  \n",
       "2  FC1=CC=C(C[C@H]2C[C@@H](N(CC2)CC=C)CCCNC(=O)NC...  \n",
       "3  C=1C=C(C=CC1)C2=CC(=C(N2CC(C)C)C)C(NCCCN3CCN(C...  \n",
       "4      C1=CC=C2C(=C1)C=C(C(N(C3CCNCC3)C4CCC4)=O)C=C2  "
      ]
     },
     "execution_count": 2,
     "metadata": {},
     "output_type": "execute_result"
    }
   ],
   "source": [
    "data = pd.read_csv(\"SLC6A4_active_excape_export.csv\")\n",
    "data.head()"
   ]
  },
  {
   "cell_type": "markdown",
   "metadata": {},
   "source": [
    "We are interested in SMILES(encoded chemical structure), pxC50(log10 converted IC50 or EC50). \n",
    "The pXC50 is the −log10 of the molarity concentration of the compound."
   ]
  },
  {
   "cell_type": "markdown",
   "metadata": {},
   "source": [
    "We will use RDKit(Cheminformtics Software) to convert SMILES into molecular fingerprint."
   ]
  },
  {
   "cell_type": "code",
   "execution_count": 3,
   "metadata": {},
   "outputs": [
    {
     "data": {
      "text/html": [
       "<div>\n",
       "<style scoped>\n",
       "    .dataframe tbody tr th:only-of-type {\n",
       "        vertical-align: middle;\n",
       "    }\n",
       "\n",
       "    .dataframe tbody tr th {\n",
       "        vertical-align: top;\n",
       "    }\n",
       "\n",
       "    .dataframe thead th {\n",
       "        text-align: right;\n",
       "    }\n",
       "</style>\n",
       "<table border=\"1\" class=\"dataframe\">\n",
       "  <thead>\n",
       "    <tr style=\"text-align: right;\">\n",
       "      <th></th>\n",
       "      <th>SMILES</th>\n",
       "      <th>Molecule</th>\n",
       "    </tr>\n",
       "  </thead>\n",
       "  <tbody>\n",
       "    <tr>\n",
       "      <th>0</th>\n",
       "      <td>FC1=CC([C@@H]2O[C@H](CC2)CN)=C(OC)C=C1</td>\n",
       "      <td style=\"text-align: center;\"><img data-content=\"rdkit/molecule\" src=\"data:image/png;base64,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\" alt=\"Mol\"/></td>\n",
       "    </tr>\n",
       "    <tr>\n",
       "      <th>1</th>\n",
       "      <td>FC1=CC(C2OC(CC2)CN)=C(OC)C=C1</td>\n",
       "      <td style=\"text-align: center;\"><img data-content=\"rdkit/molecule\" src=\"data:image/png;base64,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\" alt=\"Mol\"/></td>\n",
       "    </tr>\n",
       "    <tr>\n",
       "      <th>2</th>\n",
       "      <td>FC1=CC=C(C[C@H]2C[C@@H](N(CC2)CC=C)CCCNC(=O)NC...</td>\n",
       "      <td style=\"text-align: center;\"><img data-content=\"rdkit/molecule\" src=\"data:image/png;base64,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\" alt=\"Mol\"/></td>\n",
       "    </tr>\n",
       "    <tr>\n",
       "      <th>3</th>\n",
       "      <td>C=1C=C(C=CC1)C2=CC(=C(N2CC(C)C)C)C(NCCCN3CCN(C...</td>\n",
       "      <td style=\"text-align: center;\"><img data-content=\"rdkit/molecule\" src=\"data:image/png;base64,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\" alt=\"Mol\"/></td>\n",
       "    </tr>\n",
       "    <tr>\n",
       "      <th>4</th>\n",
       "      <td>C1=CC=C2C(=C1)C=C(C(N(C3CCNCC3)C4CCC4)=O)C=C2</td>\n",
       "      <td style=\"text-align: center;\"><img data-content=\"rdkit/molecule\" src=\"data:image/png;base64,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\" alt=\"Mol\"/></td>\n",
       "    </tr>\n",
       "  </tbody>\n",
       "</table>\n",
       "</div>"
      ],
      "text/plain": [
       "                                              SMILES  \\\n",
       "0             FC1=CC([C@@H]2O[C@H](CC2)CN)=C(OC)C=C1   \n",
       "1                      FC1=CC(C2OC(CC2)CN)=C(OC)C=C1   \n",
       "2  FC1=CC=C(C[C@H]2C[C@@H](N(CC2)CC=C)CCCNC(=O)NC...   \n",
       "3  C=1C=C(C=CC1)C2=CC(=C(N2CC(C)C)C)C(NCCCN3CCN(C...   \n",
       "4      C1=CC=C2C(=C1)C=C(C(N(C3CCNCC3)C4CCC4)=O)C=C2   \n",
       "\n",
       "                                            Molecule  \n",
       "0  <img data-content=\"rdkit/molecule\" src=\"data:i...  \n",
       "1  <img data-content=\"rdkit/molecule\" src=\"data:i...  \n",
       "2  <img data-content=\"rdkit/molecule\" src=\"data:i...  \n",
       "3  <img data-content=\"rdkit/molecule\" src=\"data:i...  \n",
       "4  <img data-content=\"rdkit/molecule\" src=\"data:i...  "
      ]
     },
     "execution_count": 3,
     "metadata": {},
     "output_type": "execute_result"
    }
   ],
   "source": [
    "from rdkit import Chem, DataStructs\n",
    "from rdkit.Chem import PandasTools, AllChem\n",
    "PandasTools.AddMoleculeColumnToFrame(data, 'SMILES','Molecule') # pandastools is use to create molecule column\n",
    "data[['SMILES','Molecule']].head()"
   ]
  },
  {
   "cell_type": "markdown",
   "metadata": {},
   "source": [
    "We can see that all the SMILES are converted into molecule structure.\n"
   ]
  },
  {
   "cell_type": "markdown",
   "metadata": {},
   "source": [
    "### Check NaN in molecules\n",
    "We need the molecule is fully converted from SMILES or not. Becuase the ExcapeDB use different toolit(Ambit)."
   ]
  },
  {
   "cell_type": "code",
   "execution_count": 4,
   "metadata": {},
   "outputs": [
    {
     "data": {
      "text/plain": [
       "0"
      ]
     },
     "execution_count": 4,
     "metadata": {},
     "output_type": "execute_result"
    }
   ],
   "source": [
    "data.Molecule.isna().sum()"
   ]
  },
  {
   "cell_type": "markdown",
   "metadata": {},
   "source": [
    "All the SMILES are converted."
   ]
  },
  {
   "cell_type": "markdown",
   "metadata": {},
   "source": [
    "### Vectorizing the molecules"
   ]
  },
  {
   "cell_type": "markdown",
   "metadata": {},
   "source": [
    "The next step is to vecotorize the molecules. Becuase the molecule can not be directly feed to ml model. We will vectorize the molecule by calculating the Morgan fingerprint. In this way, all the molecules will be vectorized into numbers which can be used for modeling."
   ]
  },
  {
   "cell_type": "code",
   "execution_count": 5,
   "metadata": {},
   "outputs": [],
   "source": [
    "#molecule to fingerprint function\n",
    "def mol2fp(mol):\n",
    "    fp = AllChem.GetMorganFingerprintAsBitVect(mol,3)\n",
    "    ar = np.zeros((1,), dtype=np.int8)\n",
    "    DataStructs.ConvertToNumpyArray(fp,ar)\n",
    "    return ar"
   ]
  },
  {
   "cell_type": "code",
   "execution_count": 6,
   "metadata": {},
   "outputs": [],
   "source": [
    "data['FPs'] = data.Molecule.apply(mol2fp)"
   ]
  },
  {
   "cell_type": "markdown",
   "metadata": {},
   "source": [
    "### Split Dataset"
   ]
  },
  {
   "cell_type": "code",
   "execution_count": 7,
   "metadata": {},
   "outputs": [
    {
     "name": "stdout",
     "output_type": "stream",
     "text": [
      "(7228, 2048)\n"
     ]
    }
   ],
   "source": [
    "X = np.stack(data.FPs.values)\n",
    "print(X.shape)"
   ]
  },
  {
   "cell_type": "code",
   "execution_count": 8,
   "metadata": {},
   "outputs": [],
   "source": [
    "y = data.pXC50.values.reshape((-1,1))\n",
    "X_train, X_test, y_train, y_test = train_test_split(X,y, test_size=0.10,random_state=3)\n",
    "X_train, X_validation, y_train, y_validation = train_test_split(X_train, y_train, test_size=0.05, random_state=3)"
   ]
  },
  {
   "cell_type": "code",
   "execution_count": 9,
   "metadata": {},
   "outputs": [],
   "source": [
    "#Normalize the output\n",
    "scaler = StandardScaler()\n",
    "y_train = scaler.fit_transform(y_train)\n",
    "y_test = scaler.transform(y_test)\n",
    "y_validation = scaler.transform(y_validation)"
   ]
  },
  {
   "cell_type": "code",
   "execution_count": 10,
   "metadata": {},
   "outputs": [
    {
     "data": {
      "text/plain": [
       "(6179, 223)"
      ]
     },
     "execution_count": 10,
     "metadata": {},
     "output_type": "execute_result"
    }
   ],
   "source": [
    "#remove low vaiance features\n",
    "feature_select = VarianceThreshold(threshold=0.05)\n",
    "X_train = feature_select.fit_transform(X_train)\n",
    "X_validation = feature_select.transform(X_validation)\n",
    "X_test = feature_select.transform(X_test)\n",
    "X_train.shape"
   ]
  },
  {
   "cell_type": "markdown",
   "metadata": {},
   "source": [
    "### Convert the dataset to pytorch tensor"
   ]
  },
  {
   "cell_type": "code",
   "execution_count": 11,
   "metadata": {},
   "outputs": [
    {
     "name": "stdout",
     "output_type": "stream",
     "text": [
      "cuda:0\n"
     ]
    }
   ],
   "source": [
    "# transfer arrays to GPU memory as tensors\n",
    "device = torch.device('cuda:0' if torch.cuda.is_available() else 'cpu')\n",
    "print(device)"
   ]
  },
  {
   "cell_type": "code",
   "execution_count": 12,
   "metadata": {},
   "outputs": [
    {
     "data": {
      "text/plain": [
       "tensor([[0., 0., 1.,  ..., 0., 0., 0.],\n",
       "        [1., 0., 0.,  ..., 0., 0., 0.],\n",
       "        [1., 1., 0.,  ..., 0., 0., 0.],\n",
       "        ...,\n",
       "        [1., 0., 0.,  ..., 0., 0., 0.],\n",
       "        [0., 0., 0.,  ..., 1., 0., 0.],\n",
       "        [1., 0., 0.,  ..., 0., 0., 0.]], device='cuda:0')"
      ]
     },
     "execution_count": 12,
     "metadata": {},
     "output_type": "execute_result"
    }
   ],
   "source": [
    "X_train = torch.tensor(X_train,device=device).float()\n",
    "X_test  = torch.tensor(X_test,device=device).float()\n",
    "X_validation = torch.tensor(X_validation,device=device).float()\n",
    "y_train = torch.tensor(y_train, device=device).float()\n",
    "y_test = torch.tensor(y_test, device=device).float()\n",
    "y_validation = torch.tensor(y_validation,device=device).float()\n",
    "X_train"
   ]
  },
  {
   "cell_type": "code",
   "execution_count": 13,
   "metadata": {},
   "outputs": [
    {
     "data": {
      "text/plain": [
       "torch.Size([6179, 223])"
      ]
     },
     "execution_count": 13,
     "metadata": {},
     "output_type": "execute_result"
    }
   ],
   "source": [
    "X_train.shape"
   ]
  },
  {
   "cell_type": "markdown",
   "metadata": {},
   "source": [
    "### Create Tensor dataset\n",
    "Pytorch work with datasets and dataloaders to feed the minibatches to the model during training, so we convert the data. It’s easy to create a dataset from the already created tensors. The batch size is set to 256 and the trainloader will shuffle the data when an epoch has been used."
   ]
  },
  {
   "cell_type": "code",
   "execution_count": 14,
   "metadata": {},
   "outputs": [],
   "source": [
    "train_dataset = TensorDataset(X_train, y_train)\n",
    "validation_dataset = TensorDataset(X_validation, y_validation)\n",
    "\n",
    "train_loader = torch.utils.data.DataLoader(dataset = train_dataset, batch_size = 256, shuffle = True)\n",
    "validation_loader = torch.utils.data.DataLoader(dataset = validation_dataset, batch_size = 256, shuffle = True)"
   ]
  },
  {
   "cell_type": "markdown",
   "metadata": {},
   "source": [
    "### Build Model"
   ]
  },
  {
   "cell_type": "code",
   "execution_count": 15,
   "metadata": {},
   "outputs": [],
   "source": [
    "class Net(nn.Module):\n",
    "    def __init__(self, input_size, hidden_size, dropout_rate, out_size):\n",
    "        super(Net,self).__init__()\n",
    "\n",
    "        # Three layers and a output layer\n",
    "        self.fc1 = nn.Linear(input_size, hidden_size) # first full-connected layer\n",
    "        self.fc2 = nn.Linear(hidden_size, hidden_size)\n",
    "        self.fc3 = nn.Linear(hidden_size, hidden_size)\n",
    "        self.fc_out = nn.Linear(hidden_size, out_size) # Output layer\n",
    "\n",
    "        #Layer normalizatin for faster training\n",
    "        self.ln1 = nn.LayerNorm(hidden_size)\n",
    "        self.ln2 = nn.LayerNorm(hidden_size)\n",
    "        self.ln3 = nn.LayerNorm(hidden_size)\n",
    "        \n",
    "        #LeadkyReLU will be used as activation function\n",
    "        self.activation = nn.LeakyReLU()\n",
    "\n",
    "        #Dropout for regularization\n",
    "        self.dropout = nn.Dropout(dropout_rate)\n",
    "\n",
    "    def forward(self, x): # Forward pass: stacking each layer together\n",
    "        # Fully conected\n",
    "        out = self.fc1(x)\n",
    "        out = self.fc2(out)\n",
    "        out = self.activation(out)\n",
    "        out = self.dropout(out)\n",
    "        out = self.fc2(out)\n",
    "        out = self.ln2(out)\n",
    "        out = self.activation(out)\n",
    "        out - self.dropout(out)\n",
    "        out = self.fc3(out)\n",
    "        out = self.ln3(out)\n",
    "        out = self.activation(out)\n",
    "        out = self.dropout(out)\n",
    "\n",
    "        #Final output layer\n",
    "        out = self.fc_out(out)\n",
    "\n",
    "        return out\n"
   ]
  },
  {
   "cell_type": "code",
   "execution_count": 16,
   "metadata": {},
   "outputs": [],
   "source": [
    "# Defining the hyperparameters\n",
    "input_size = X_train.size()[-1]\n",
    "hidden_size = 1024\n",
    "dropout_rate = 0.80\n",
    "output_size = 1\n",
    "learning_rate = 0.001\n",
    "model = Net(input_size, hidden_size, dropout_rate,output_size)"
   ]
  },
  {
   "cell_type": "markdown",
   "metadata": {},
   "source": [
    "The model can be moved to the GPU with the.cuda() method inherited from the nn.Module class."
   ]
  },
  {
   "cell_type": "code",
   "execution_count": 17,
   "metadata": {},
   "outputs": [
    {
     "data": {
      "text/plain": [
       "Net(\n",
       "  (fc1): Linear(in_features=223, out_features=1024, bias=True)\n",
       "  (fc2): Linear(in_features=1024, out_features=1024, bias=True)\n",
       "  (fc3): Linear(in_features=1024, out_features=1024, bias=True)\n",
       "  (fc_out): Linear(in_features=1024, out_features=1, bias=True)\n",
       "  (ln1): LayerNorm((1024,), eps=1e-05, elementwise_affine=True)\n",
       "  (ln2): LayerNorm((1024,), eps=1e-05, elementwise_affine=True)\n",
       "  (ln3): LayerNorm((1024,), eps=1e-05, elementwise_affine=True)\n",
       "  (activation): LeakyReLU(negative_slope=0.01)\n",
       "  (dropout): Dropout(p=0.8, inplace=False)\n",
       ")"
      ]
     },
     "execution_count": 17,
     "metadata": {},
     "output_type": "execute_result"
    }
   ],
   "source": [
    "model.cuda()"
   ]
  },
  {
   "cell_type": "markdown",
   "metadata": {},
   "source": [
    "For a loss function I'll use the mean squared error. Adam is chosen for the optimizer."
   ]
  },
  {
   "cell_type": "code",
   "execution_count": 18,
   "metadata": {},
   "outputs": [],
   "source": [
    "criterion = nn.MSELoss()\n",
    "optimizer = torch.optim.Adam(model.parameters(), lr=learning_rate)"
   ]
  },
  {
   "cell_type": "markdown",
   "metadata": {},
   "source": [
    "Training is a bit more handheld than in Keras. This gives flexibility to train the network layers in different ways, but here we just train it with all the data. For each epoch, the running_loss is zeroed, and the minibatches fetched from the train data in the DatLoader. We start each mini-bach loop by zeroing the gradients. All forward computations done from this point on, will be recorded and used to calculate the backward pas needed for optimizing the weights of the network. At the end of each epoch, some statistics is printed so that it'st possible to follwo the training.\n"
   ]
  },
  {
   "cell_type": "code",
   "execution_count": 19,
   "metadata": {},
   "outputs": [
    {
     "name": "stdout",
     "output_type": "stream",
     "text": [
      "Epoch:   0 Training loss: 1.77 Validation loss: 0.99\n",
      "Epoch:  10 Training loss: 0.46 Validation loss: 0.44\n",
      "Epoch:  20 Training loss: 0.34 Validation loss: 0.39\n",
      "Epoch:  30 Training loss: 0.30 Validation loss: 0.41\n",
      "Epoch:  40 Training loss: 0.26 Validation loss: 0.38\n",
      "Epoch:  50 Training loss: 0.24 Validation loss: 0.41\n",
      "Epoch:  60 Training loss: 0.22 Validation loss: 0.40\n",
      "Epoch:  70 Training loss: 0.21 Validation loss: 0.36\n",
      "Epoch:  80 Training loss: 0.20 Validation loss: 0.39\n",
      "Epoch:  90 Training loss: 0.20 Validation loss: 0.42\n",
      "Epoch: 100 Training loss: 0.20 Validation loss: 0.42\n",
      "Epoch: 110 Training loss: 0.19 Validation loss: 0.44\n",
      "Epoch: 120 Training loss: 0.18 Validation loss: 0.40\n",
      "Epoch: 130 Training loss: 0.18 Validation loss: 0.40\n",
      "Epoch: 140 Training loss: 0.17 Validation loss: 0.41\n",
      "Epoch: 150 Training loss: 0.16 Validation loss: 0.41\n",
      "Epoch: 160 Training loss: 0.17 Validation loss: 0.42\n",
      "Epoch: 170 Training loss: 0.15 Validation loss: 0.44\n",
      "Epoch: 180 Training loss: 0.16 Validation loss: 0.41\n",
      "Epoch: 190 Training loss: 0.15 Validation loss: 0.43\n"
     ]
    }
   ],
   "source": [
    "model.train() #Ensure the network is in \"train\" mode with dropouts active\n",
    "epochs = 200\n",
    "for e in range(epochs):\n",
    "    running_loss = 0\n",
    "    for fps, labels in train_loader:\n",
    "        # Training pass\n",
    "        optimizer.zero_grad() # Initialize the gradients, which will be recorded during the forward pa\n",
    "         \n",
    "        output = model(fps) #Forward pass of the mini-batch\n",
    "        loss = criterion(output, labels) #Computing the loss\n",
    "        loss.backward() # calculate the backward pass\n",
    "        optimizer.step() # Optimize the weights\n",
    "         \n",
    "        running_loss += loss.item()\n",
    "    else:\n",
    "        if e%10 == 0:\n",
    "            validation_loss = torch.mean(( y_validation - model(X_validation) )**2).item()\n",
    "            print(\"Epoch: %3i Training loss: %0.2F Validation loss: %0.2F\"%(e,(running_loss/len(train_loader)), validation_loss))"
   ]
  },
  {
   "cell_type": "markdown",
   "metadata": {},
   "source": [
    "Before using the model for predticion, it must be set to evaluation mode, where the dropout layers are no longer active. We can calcuate the predction on the training set, validation set ant external test set."
   ]
  },
  {
   "cell_type": "code",
   "execution_count": 20,
   "metadata": {},
   "outputs": [],
   "source": [
    "model.eval()# Switch to evaluation mode, where dropout is switched off\n",
    "y_pred_train = model(X_train)\n",
    "y_pred_validation = model(X_validation)\n",
    "y_pred_test = model(X_test)"
   ]
  },
  {
   "cell_type": "markdown",
   "metadata": {},
   "source": [
    "Calculating the root mean square error can be done using the pytorch operators. The .item() method converts single element tensors to pYthon Scalars for printing."
   ]
  },
  {
   "cell_type": "code",
   "execution_count": 21,
   "metadata": {},
   "outputs": [
    {
     "data": {
      "text/plain": [
       "0.09443994611501694"
      ]
     },
     "execution_count": 21,
     "metadata": {},
     "output_type": "execute_result"
    }
   ],
   "source": [
    "torch.mean((y_train - y_pred_train)**2).item()"
   ]
  },
  {
   "cell_type": "code",
   "execution_count": 22,
   "metadata": {},
   "outputs": [
    {
     "data": {
      "text/plain": [
       "0.40165975689888"
      ]
     },
     "execution_count": 22,
     "metadata": {},
     "output_type": "execute_result"
    }
   ],
   "source": [
    "torch.mean((y_validation - y_pred_validation)**2).item()"
   ]
  },
  {
   "cell_type": "code",
   "execution_count": 23,
   "metadata": {},
   "outputs": [
    {
     "data": {
      "text/plain": [
       "0.36628347635269165"
      ]
     },
     "execution_count": 23,
     "metadata": {},
     "output_type": "execute_result"
    }
   ],
   "source": [
    "torch.mean((y_test - y_pred_test)**2).item()"
   ]
  },
  {
   "cell_type": "markdown",
   "metadata": {},
   "source": [
    "The error on the held out test set is actually lower than the validation set, although both are much worse than the train set. Thisw indicates overfitting, even though the dropout rate was set high at 0.8. Finally, lets evaluate the model visually. Before that is possible there seem to be a need to transport the tensor to cpu, detach it from gradient before we can convert it to numpy and flatten it."
   ]
  },
  {
   "cell_type": "code",
   "execution_count": 24,
   "metadata": {},
   "outputs": [
    {
     "data": {
      "text/plain": [
       "[<matplotlib.lines.Line2D at 0x7f8a644a1ca0>]"
      ]
     },
     "execution_count": 24,
     "metadata": {},
     "output_type": "execute_result"
    },
    {
     "data": {
      "image/png": "[encoded data removed]",
      "text/plain": [
       "<Figure size 432x288 with 1 Axes>"
      ]
     },
     "metadata": {
      "needs_background": "light"
     },
     "output_type": "display_data"
    }
   ],
   "source": [
    "def flatten(tensor):\n",
    "    return tensor.cpu().detach().numpy().flatten()\n",
    "plt.scatter(flatten(y_pred_test), flatten(y_test), alpha=0.5, label='Test')\n",
    "plt.scatter(flatten(y_pred_train), flatten(y_train),alpha=0.1, label='Train')\n",
    "plt.legend()\n",
    "plt.plot([-1.5, 1.5],[-1.5,1.5], c=\"b\")"
   ]
  },
  {
   "cell_type": "markdown",
   "metadata": {},
   "source": [
    "If we want to predict an arbitary molecule, we have to remember to use the VaraicneThrshold object on the fingerprints and also reverse scale the prediction from the feed forward neural network. \n",
    "The scikit_lean objects are already fit and can be used here."
   ]
  },
  {
   "cell_type": "code",
   "execution_count": 25,
   "metadata": {},
   "outputs": [
    {
     "data": {
      "text/plain": [
       "7.090232"
      ]
     },
     "execution_count": 25,
     "metadata": {},
     "output_type": "execute_result"
    }
   ],
   "source": [
    "def predict_smiles(smiles):\n",
    "    fp = mol2fp(Chem.MolFromSmiles(smiles)).reshape(1,-1)\n",
    "    fp_filtered = feature_select.transform(fp)\n",
    "    fp_tensor = torch.tensor(fp_filtered, device = device).float()\n",
    "    prediction = model(fp_tensor)\n",
    "\n",
    "    #return prediction.cpu().detach().numpy()\n",
    "    pXC50 = scaler.inverse_transform(prediction.cpu().detach().numpy())\n",
    "    return pXC50[0][0]\n",
    "predict_smiles('Cc1ccc2c(N3CCNCC3)cc(F)cc2n1')"
   ]
  }
 ],
 "metadata": {
  "interpreter": {
   "hash": "54b722f016b019c489560b598163f7c8bbd4c03c1618da361ccdbd5d85d50d0d"
  },
  "kernelspec": {
   "display_name": "Python 3.9.12 ('ds')",
   "language": "python",
   "name": "python3"
  },
  "language_info": {
   "codemirror_mode": {
    "name": "ipython",
    "version": 3
   },
   "file_extension": ".py",
   "mimetype": "text/x-python",
   "name": "python",
   "nbconvert_exporter": "python",
   "pygments_lexer": "ipython3",
   "version": "3.9.7"
  },
  "orig_nbformat": 4
 },
 "nbformat": 4,
 "nbformat_minor": 2
}
