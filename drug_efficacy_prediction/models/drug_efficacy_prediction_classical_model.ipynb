{
 "cells": [
  {
   "cell_type": "markdown",
   "metadata": {},
   "source": [
    "### Introduction"
   ]
  },
  {
   "cell_type": "markdown",
   "metadata": {},
   "source": [
    "The project aims to build a model to predict drug efficacy of molecules.\n",
    "\n",
    "A pre-processed HIV dataset with 3 classess (CA - Confirmed active, CM - Confirmed moderately active, CI - Confirmed inactive and benign) is available [here](http://moleculenet.ai/datasets-1). The raw data is available [here](https://wiki.nci.nih.gov/display/NCIDTPdata/AIDS+Antiviral+Screen+Data)\n",
    "We perform stratified random splitting on the dataset: 80% of the images are in train set and 20% of the images are in test set."
   ]
  },
  {
   "cell_type": "markdown",
   "metadata": {},
   "source": [
    "#### Import required library"
   ]
  },
  {
   "cell_type": "code",
   "execution_count": 1,
   "metadata": {},
   "outputs": [],
   "source": [
    "import os\n",
    "import sys\n",
    "sys.path.insert(0, os.getcwd())\n",
    "import pandas as pd\n",
    "import numpy as np\n",
    "from sklearn.model_selection import StratifiedKFold, GridSearchCV\n",
    "from sklearn.model_selection import train_test_split\n",
    "from sklearn.metrics import make_scorer, accuracy_score\n",
    "from sklearn.ensemble import RandomForestClassifier\n",
    "from sklearn.ensemble import GradientBoostingClassifier\n",
    "from sklearn.svm import SVC\n",
    "from sklearn.neighbors import KNeighborsClassifier\n",
    "from sklearn import linear_model\n",
    "from sklearn import config_context\n",
    "from config import Config\n",
    "#from utils.data import read_data, get_prediction_score\n",
    "from sklearn import feature_extraction\n",
    "import pickle\n",
    "import warnings\n",
    "import argparse\n"
   ]
  },
  {
   "cell_type": "code",
   "execution_count": 4,
   "metadata": {},
   "outputs": [],
   "source": [
    "from logging import warning\n",
    "\n",
    "\n",
    "def train_model(model, X_train, y_train, parameters, n_splits=3):\n",
    "    '''Train model with Grid-Search corss validation to find the best hyparameter\n",
    "    :param model: Scikit-Learn estimator\n",
    "    :param X_train : train set features\n",
    "    :param y_train: trainset label\n",
    "    : param parameters: dict, key is hyper parametr name and value is a list of jyper parameter values\n",
    "    return best_estimator: Scikit-learn estimator with the best hyper parameter\n",
    "    :return best_score: best accuracy score\n",
    "    :return best_score: best accuracy score\n",
    "    :return best_param: dict, best hyper parameter\n",
    "    '''\n",
    "\n",
    "    splits = StratifiedKFold(n_splits=n_splits, shuffle=True, random_state=0).split(X=X_train, y=y_train)\n",
    "    clf = GridSearchCV(model, parameters, cv = splits, scoring=make_scorer(accuracy_score))\n",
    "    with warnings.catch_warnings():\n",
    "        warnings.catch_warnings('ignore')\n",
    "        clf.fit(X_train, y_train)\n",
    "\n",
    "    return clf.best_estimator_, clf.best_score_, clf.best_params_\n"
   ]
  },
  {
   "cell_type": "markdown",
   "metadata": {},
   "source": []
  }
 ],
 "metadata": {
  "kernelspec": {
   "display_name": "Python 3.9.5 ('ds')",
   "language": "python",
   "name": "python3"
  },
  "language_info": {
   "codemirror_mode": {
    "name": "ipython",
    "version": 3
   },
   "file_extension": ".py",
   "mimetype": "text/x-python",
   "name": "python",
   "nbconvert_exporter": "python",
   "pygments_lexer": "ipython3",
   "version": "3.9.5"
  },
  "orig_nbformat": 4,
  "vscode": {
   "interpreter": {
    "hash": "37e48532695005f6b8be481dca9311b0406960c07b920c9bcff5b3361c45626c"
   }
  }
 },
 "nbformat": 4,
 "nbformat_minor": 2
}
