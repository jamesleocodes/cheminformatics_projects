{
 "cells": [
  {
   "cell_type": "markdown",
   "metadata": {},
   "source": [
    "#### Introduction\n",
    "\n",
    "The same molecule can be represented by multiple SMILES strings which is a reason that conoical SMILES have been defined which ensures a one to one correspodence betewen SMILES string and molecule. These multiple SMILES can be used as data augmentation of molecules for QSAR model.\n",
    "\n",
    "Why:: Compare the performance on non-augmented dataset and augmented dataset."
   ]
  },
  {
   "cell_type": "markdown",
   "metadata": {},
   "source": [
    "#### Import Required libraries"
   ]
  },
  {
   "cell_type": "code",
   "execution_count": 17,
   "metadata": {},
   "outputs": [
    {
     "data": {
      "text/plain": [
       "-1"
      ]
     },
     "execution_count": 17,
     "metadata": {},
     "output_type": "execute_result"
    }
   ],
   "source": [
    "import pandas as pd\n",
    "import numpy as np\n",
    "from tensorflow.keras.models import Sequential\n",
    "from tensorflow.keras.layers import Dense, LSTM\n",
    "from tensorflow.keras import regularizers\n",
    "from tensorflow.keras.optimizers import RMSprop\n",
    "from sklearn.model_selection import train_test_split\n",
    "from rdkit import Chem\n",
    "from rdkit.Chem.Draw import IPythonConsole\n",
    "IPythonConsole.ipython_useSVG - True"
   ]
  },
  {
   "cell_type": "code",
   "execution_count": 2,
   "metadata": {},
   "outputs": [
    {
     "data": {
      "image/png": "[encoded data removed]",
      "text/plain": [
       "<rdkit.Chem.rdchem.Mol at 0x28e29524940>"
      ]
     },
     "execution_count": 2,
     "metadata": {},
     "output_type": "execute_result"
    }
   ],
   "source": [
    "mol1, mol2 = Chem.MolFromSmiles('c1cccc([C@@]2(OC(CC)=O)CC[NH+](C)C[C@H]2CC=C)c1'), Chem.MolFromSmiles('C([C@H]1[C@@](OC(CC)=O)(c2ccccc2)CC[NH+](C)C1)C=C')\n",
    "mol1"
   ]
  },
  {
   "cell_type": "code",
   "execution_count": 3,
   "metadata": {},
   "outputs": [
    {
     "data": {
      "image/png": "[encoded data removed]",
      "text/plain": [
       "<rdkit.Chem.rdchem.Mol at 0x28e6a051840>"
      ]
     },
     "execution_count": 3,
     "metadata": {},
     "output_type": "execute_result"
    }
   ],
   "source": [
    "mol2"
   ]
  },
  {
   "cell_type": "markdown",
   "metadata": {},
   "source": [
    "#### Load data"
   ]
  },
  {
   "cell_type": "code",
   "execution_count": 21,
   "metadata": {},
   "outputs": [],
   "source": [
    "data = pd.read_csv(\"DHFR.csv\")"
   ]
  },
  {
   "cell_type": "code",
   "execution_count": 22,
   "metadata": {},
   "outputs": [],
   "source": [
    "x_train, x_test, y_train, y_test = train_test_split(data['smiles_parent'],np.log(data['PC_uM_value']).values.reshape(-1,1),random_state=42)"
   ]
  },
  {
   "cell_type": "markdown",
   "metadata": {},
   "source": [
    "#### Model"
   ]
  },
  {
   "cell_type": "code",
   "execution_count": 25,
   "metadata": {},
   "outputs": [
    {
     "ename": "NameError",
     "evalue": "name 'input_shape' is not defined",
     "output_type": "error",
     "traceback": [
      "\u001b[1;31m---------------------------------------------------------------------------\u001b[0m",
      "\u001b[1;31mNameError\u001b[0m                                 Traceback (most recent call last)",
      "\u001b[1;32mc:\\Users\\user\\OneDrive - City University of Hong Kong - Student\\CEVR\\Cheminformatics\\smiles_augmentation\\aug.ipynb Cell 10\u001b[0m in \u001b[0;36m<cell line: 2>\u001b[1;34m()\u001b[0m\n\u001b[0;32m      <a href='vscode-notebook-cell:/c%3A/Users/user/OneDrive%20-%20City%20University%20of%20Hong%20Kong%20-%20Student/CEVR/Cheminformatics/smiles_augmentation/aug.ipynb#ch0000008?line=0'>1</a>\u001b[0m model \u001b[39m=\u001b[39m Sequential()\n\u001b[1;32m----> <a href='vscode-notebook-cell:/c%3A/Users/user/OneDrive%20-%20City%20University%20of%20Hong%20Kong%20-%20Student/CEVR/Cheminformatics/smiles_augmentation/aug.ipynb#ch0000008?line=1'>2</a>\u001b[0m model\u001b[39m.\u001b[39madd(LSTM(\u001b[39m64\u001b[39m, input_shape\u001b[39m=\u001b[39minput_shape,dropout \u001b[39m=\u001b[39m \u001b[39m0.19\u001b[39m))\n\u001b[0;32m      <a href='vscode-notebook-cell:/c%3A/Users/user/OneDrive%20-%20City%20University%20of%20Hong%20Kong%20-%20Student/CEVR/Cheminformatics/smiles_augmentation/aug.ipynb#ch0000008?line=2'>3</a>\u001b[0m model\u001b[39m.\u001b[39madd(Dense(output_shape,kernel_regularizer \u001b[39m=\u001b[39m regularizers\u001b[39m.\u001b[39ml1_l2(\u001b[39m0.005\u001b[39m,\u001b[39m0.01\u001b[39m),activation\u001b[39m=\u001b[39m\u001b[39m'\u001b[39m\u001b[39mlinear\u001b[39m\u001b[39m'\u001b[39m))\n\u001b[0;32m      <a href='vscode-notebook-cell:/c%3A/Users/user/OneDrive%20-%20City%20University%20of%20Hong%20Kong%20-%20Student/CEVR/Cheminformatics/smiles_augmentation/aug.ipynb#ch0000008?line=3'>4</a>\u001b[0m model\u001b[39m.\u001b[39mcompile(loss\u001b[39m=\u001b[39m\u001b[39m'\u001b[39m\u001b[39mmse\u001b[39m\u001b[39m'\u001b[39m,optimizer\u001b[39m=\u001b[39mRMSprop(lr\u001b[39m=\u001b[39m\u001b[39m0.005\u001b[39m))\n",
      "\u001b[1;31mNameError\u001b[0m: name 'input_shape' is not defined"
     ]
    }
   ],
   "source": [
    "model = Sequential()\n",
    "model.add(LSTM(64, input_shape=input_shape,dropout = 0.19))\n",
    "model.add(Dense(output_shape,kernel_regularizer = regularizers.l1_l2(0.005,0.01),activation='linear'))\n",
    "model.compile(loss='mse',optimizer=RMSprop(lr=0.005))"
   ]
  },
  {
   "cell_type": "code",
   "execution_count": null,
   "metadata": {},
   "outputs": [],
   "source": []
  }
 ],
 "metadata": {
  "kernelspec": {
   "display_name": "Python 3.10.4 ('atrophine_tf')",
   "language": "python",
   "name": "python3"
  },
  "language_info": {
   "codemirror_mode": {
    "name": "ipython",
    "version": 3
   },
   "file_extension": ".py",
   "mimetype": "text/x-python",
   "name": "python",
   "nbconvert_exporter": "python",
   "pygments_lexer": "ipython3",
   "version": "3.10.4"
  },
  "orig_nbformat": 4,
  "vscode": {
   "interpreter": {
    "hash": "fc55cb3689c546066962b666c18656acd1e2a33334a25526b1b5941d10b03637"
   }
  }
 },
 "nbformat": 4,
 "nbformat_minor": 2
}
