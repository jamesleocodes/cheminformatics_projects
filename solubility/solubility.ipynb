{
 "cells": [
  {
   "cell_type": "markdown",
   "metadata": {},
   "source": [
    "#### Introduction\n",
    "\n",
    "Aqueous solubility is a key factor in drug discovery.  If a compound is not soluble, it will typically be poorly bioavailable, making it difficult to use in in-vivo studies, and ultimately to deliver to patients.\n",
    "\n",
    "Why:: This idea for this notebook was inspired by the excellent blog post by [Pat Walters](http://practicalcheminformatics.blogspot.com/2018/09/predicting-aqueous-solubility-its.html) where he reproduced the linear regression model with similar degree of performance as that of Delaney. This example is also briefly described in the book **Deep Learning for the Life Sciences: Applying Deep Learning to Genomics, Microscopy, Drug Discovery, and More**."
   ]
  },
  {
   "cell_type": "markdown",
   "metadata": {},
   "source": [
    "#### Import Required Library"
   ]
  },
  {
   "cell_type": "code",
   "execution_count": 51,
   "metadata": {},
   "outputs": [],
   "source": [
    "import pandas as pd\n",
    "import numpy as np\n",
    "from rdkit import Chem\n",
    "from rdkit.Chem import Descriptors\n",
    "from sklearn.model_selection import train_test_split\n",
    "from sklearn import linear_model\n",
    "from sklearn.metrics import mean_squared_error, r2_score\n",
    "import matplotlib.pyplot as plt"
   ]
  },
  {
   "cell_type": "code",
   "execution_count": 3,
   "metadata": {},
   "outputs": [
    {
     "data": {
      "text/html": [
       "<div>\n",
       "<style scoped>\n",
       "    .dataframe tbody tr th:only-of-type {\n",
       "        vertical-align: middle;\n",
       "    }\n",
       "\n",
       "    .dataframe tbody tr th {\n",
       "        vertical-align: top;\n",
       "    }\n",
       "\n",
       "    .dataframe thead th {\n",
       "        text-align: right;\n",
       "    }\n",
       "</style>\n",
       "<table border=\"1\" class=\"dataframe\">\n",
       "  <thead>\n",
       "    <tr style=\"text-align: right;\">\n",
       "      <th></th>\n",
       "      <th>Compound ID</th>\n",
       "      <th>measured log(solubility:mol/L)</th>\n",
       "      <th>ESOL predicted log(solubility:mol/L)</th>\n",
       "      <th>SMILES</th>\n",
       "    </tr>\n",
       "  </thead>\n",
       "  <tbody>\n",
       "    <tr>\n",
       "      <th>0</th>\n",
       "      <td>1,1,1,2-Tetrachloroethane</td>\n",
       "      <td>-2.180</td>\n",
       "      <td>-2.794</td>\n",
       "      <td>ClCC(Cl)(Cl)Cl</td>\n",
       "    </tr>\n",
       "    <tr>\n",
       "      <th>1</th>\n",
       "      <td>1,1,1-Trichloroethane</td>\n",
       "      <td>-2.000</td>\n",
       "      <td>-2.232</td>\n",
       "      <td>CC(Cl)(Cl)Cl</td>\n",
       "    </tr>\n",
       "    <tr>\n",
       "      <th>2</th>\n",
       "      <td>1,1,2,2-Tetrachloroethane</td>\n",
       "      <td>-1.740</td>\n",
       "      <td>-2.549</td>\n",
       "      <td>ClC(Cl)C(Cl)Cl</td>\n",
       "    </tr>\n",
       "    <tr>\n",
       "      <th>3</th>\n",
       "      <td>1,1,2-Trichloroethane</td>\n",
       "      <td>-1.480</td>\n",
       "      <td>-1.961</td>\n",
       "      <td>ClCC(Cl)Cl</td>\n",
       "    </tr>\n",
       "    <tr>\n",
       "      <th>4</th>\n",
       "      <td>1,1,2-Trichlorotrifluoroethane</td>\n",
       "      <td>-3.040</td>\n",
       "      <td>-3.077</td>\n",
       "      <td>FC(F)(Cl)C(F)(Cl)Cl</td>\n",
       "    </tr>\n",
       "    <tr>\n",
       "      <th>...</th>\n",
       "      <td>...</td>\n",
       "      <td>...</td>\n",
       "      <td>...</td>\n",
       "      <td>...</td>\n",
       "    </tr>\n",
       "    <tr>\n",
       "      <th>1139</th>\n",
       "      <td>vamidothion</td>\n",
       "      <td>1.144</td>\n",
       "      <td>-1.446</td>\n",
       "      <td>CNC(=O)C(C)SCCSP(=O)(OC)(OC)</td>\n",
       "    </tr>\n",
       "    <tr>\n",
       "      <th>1140</th>\n",
       "      <td>Vinclozolin</td>\n",
       "      <td>-4.925</td>\n",
       "      <td>-4.377</td>\n",
       "      <td>CC1(OC(=O)N(C1=O)c2cc(Cl)cc(Cl)c2)C=C</td>\n",
       "    </tr>\n",
       "    <tr>\n",
       "      <th>1141</th>\n",
       "      <td>Warfarin</td>\n",
       "      <td>-3.893</td>\n",
       "      <td>-3.913</td>\n",
       "      <td>CC(=O)CC(c1ccccc1)c3c(O)c2ccccc2oc3=O</td>\n",
       "    </tr>\n",
       "    <tr>\n",
       "      <th>1142</th>\n",
       "      <td>Xipamide</td>\n",
       "      <td>-3.790</td>\n",
       "      <td>-3.642</td>\n",
       "      <td>Cc1cccc(C)c1NC(=O)c2cc(c(Cl)cc2O)S(N)(=O)=O</td>\n",
       "    </tr>\n",
       "    <tr>\n",
       "      <th>1143</th>\n",
       "      <td>XMC</td>\n",
       "      <td>-2.581</td>\n",
       "      <td>-2.688</td>\n",
       "      <td>CNC(=O)Oc1cc(C)cc(C)c1</td>\n",
       "    </tr>\n",
       "  </tbody>\n",
       "</table>\n",
       "<p>1144 rows × 4 columns</p>\n",
       "</div>"
      ],
      "text/plain": [
       "                         Compound ID  measured log(solubility:mol/L)  \\\n",
       "0          1,1,1,2-Tetrachloroethane                          -2.180   \n",
       "1              1,1,1-Trichloroethane                          -2.000   \n",
       "2          1,1,2,2-Tetrachloroethane                          -1.740   \n",
       "3              1,1,2-Trichloroethane                          -1.480   \n",
       "4     1,1,2-Trichlorotrifluoroethane                          -3.040   \n",
       "...                              ...                             ...   \n",
       "1139                     vamidothion                           1.144   \n",
       "1140                     Vinclozolin                          -4.925   \n",
       "1141                        Warfarin                          -3.893   \n",
       "1142                        Xipamide                          -3.790   \n",
       "1143                             XMC                          -2.581   \n",
       "\n",
       "      ESOL predicted log(solubility:mol/L)  \\\n",
       "0                                   -2.794   \n",
       "1                                   -2.232   \n",
       "2                                   -2.549   \n",
       "3                                   -1.961   \n",
       "4                                   -3.077   \n",
       "...                                    ...   \n",
       "1139                                -1.446   \n",
       "1140                                -4.377   \n",
       "1141                                -3.913   \n",
       "1142                                -3.642   \n",
       "1143                                -2.688   \n",
       "\n",
       "                                           SMILES  \n",
       "0                                  ClCC(Cl)(Cl)Cl  \n",
       "1                                    CC(Cl)(Cl)Cl  \n",
       "2                                  ClC(Cl)C(Cl)Cl  \n",
       "3                                      ClCC(Cl)Cl  \n",
       "4                             FC(F)(Cl)C(F)(Cl)Cl  \n",
       "...                                           ...  \n",
       "1139                 CNC(=O)C(C)SCCSP(=O)(OC)(OC)  \n",
       "1140        CC1(OC(=O)N(C1=O)c2cc(Cl)cc(Cl)c2)C=C  \n",
       "1141       CC(=O)CC(c1ccccc1)c3c(O)c2ccccc2oc3=O   \n",
       "1142  Cc1cccc(C)c1NC(=O)c2cc(c(Cl)cc2O)S(N)(=O)=O  \n",
       "1143                       CNC(=O)Oc1cc(C)cc(C)c1  \n",
       "\n",
       "[1144 rows x 4 columns]"
      ]
     },
     "execution_count": 3,
     "metadata": {},
     "output_type": "execute_result"
    }
   ],
   "source": [
    "data = pd.read_csv('delaney.csv')\n",
    "data"
   ]
  },
  {
   "cell_type": "markdown",
   "metadata": {},
   "source": [
    "#### Check the SMILES data\n",
    "Chemical structures are encoded by a string of text known as SMILES which is an acronym for Simplified Molecular-Input Line-Entry System."
   ]
  },
  {
   "cell_type": "code",
   "execution_count": 4,
   "metadata": {},
   "outputs": [
    {
     "data": {
      "text/plain": [
       "0                                    ClCC(Cl)(Cl)Cl\n",
       "1                                      CC(Cl)(Cl)Cl\n",
       "2                                    ClC(Cl)C(Cl)Cl\n",
       "3                                        ClCC(Cl)Cl\n",
       "4                               FC(F)(Cl)C(F)(Cl)Cl\n",
       "                           ...                     \n",
       "1139                   CNC(=O)C(C)SCCSP(=O)(OC)(OC)\n",
       "1140          CC1(OC(=O)N(C1=O)c2cc(Cl)cc(Cl)c2)C=C\n",
       "1141         CC(=O)CC(c1ccccc1)c3c(O)c2ccccc2oc3=O \n",
       "1142    Cc1cccc(C)c1NC(=O)c2cc(c(Cl)cc2O)S(N)(=O)=O\n",
       "1143                         CNC(=O)Oc1cc(C)cc(C)c1\n",
       "Name: SMILES, Length: 1144, dtype: object"
      ]
     },
     "execution_count": 4,
     "metadata": {},
     "output_type": "execute_result"
    }
   ],
   "source": [
    "data.SMILES"
   ]
  },
  {
   "cell_type": "markdown",
   "metadata": {},
   "source": [
    "#### Convert molecules from SMILES string to an rdkit object"
   ]
  },
  {
   "cell_type": "code",
   "execution_count": 6,
   "metadata": {},
   "outputs": [],
   "source": [
    "mol_list = [Chem.MolFromSmiles(element) for element in data.SMILES]"
   ]
  },
  {
   "cell_type": "code",
   "execution_count": 7,
   "metadata": {},
   "outputs": [
    {
     "data": {
      "text/plain": [
       "1144"
      ]
     },
     "execution_count": 7,
     "metadata": {},
     "output_type": "execute_result"
    }
   ],
   "source": [
    "len(mol_list)"
   ]
  },
  {
   "cell_type": "markdown",
   "metadata": {},
   "source": [
    "#### Calculate molecular descriptors\n",
    "To predict LogS (log of the aqueous solubility), the study by Delaney makes use of 4 molecular descriptors:\n",
    "\n",
    "cLogP (Octanol-water partition coefficient)\n",
    "MW (Molecular weight)\n",
    "RB (Number of rotatable bonds)\n",
    "AP (Aromatic proportion = number of aromatic atoms / total number of heavy atoms)\n",
    "Unfortunately, rdkit readily computes the first 3. As for the AP descriptor, we will calculate this by manually computing the ratio of the number of aromatic atoms to the total number of heavy atoms which rdkit can compute."
   ]
  },
  {
   "cell_type": "code",
   "execution_count": 10,
   "metadata": {},
   "outputs": [],
   "source": [
    "def generate(smiles, verbose=False):\n",
    "    moldata = []\n",
    "    for elem in smiles:\n",
    "        mol = Chem.MolFromSmiles(elem)\n",
    "        moldata.append(mol)\n",
    "\n",
    "    baseData = np.arange(1,1)\n",
    "    i = 0\n",
    "    for mol in moldata:\n",
    "\n",
    "        desc_MolLogP = Descriptors.MolLogP(mol)\n",
    "        desc_MolWt = Descriptors.MolWt(mol)\n",
    "        desc_NumRotatableBonds = Descriptors.NumRotatableBonds(mol)\n",
    "\n",
    "        row = np.array([desc_MolLogP, desc_MolWt,desc_NumRotatableBonds])\n",
    "\n",
    "        if(i ==0):\n",
    "            baseData = row\n",
    "        else:\n",
    "            baseData = np.vstack([baseData, row])\n",
    "        i = i + 1\n",
    "    columnNames = ['MolLogP', 'MolWt', 'NumRotatableBonds']\n",
    "    descriptors = pd.DataFrame(data = baseData, columns = columnNames)\n",
    "\n",
    "    return descriptors"
   ]
  },
  {
   "cell_type": "code",
   "execution_count": 11,
   "metadata": {},
   "outputs": [],
   "source": [
    "df = generate(data.SMILES)"
   ]
  },
  {
   "cell_type": "code",
   "execution_count": 12,
   "metadata": {},
   "outputs": [
    {
     "data": {
      "text/html": [
       "<div>\n",
       "<style scoped>\n",
       "    .dataframe tbody tr th:only-of-type {\n",
       "        vertical-align: middle;\n",
       "    }\n",
       "\n",
       "    .dataframe tbody tr th {\n",
       "        vertical-align: top;\n",
       "    }\n",
       "\n",
       "    .dataframe thead th {\n",
       "        text-align: right;\n",
       "    }\n",
       "</style>\n",
       "<table border=\"1\" class=\"dataframe\">\n",
       "  <thead>\n",
       "    <tr style=\"text-align: right;\">\n",
       "      <th></th>\n",
       "      <th>MolLogP</th>\n",
       "      <th>MolWt</th>\n",
       "      <th>NumRotatableBonds</th>\n",
       "    </tr>\n",
       "  </thead>\n",
       "  <tbody>\n",
       "    <tr>\n",
       "      <th>0</th>\n",
       "      <td>2.59540</td>\n",
       "      <td>167.850</td>\n",
       "      <td>0.0</td>\n",
       "    </tr>\n",
       "    <tr>\n",
       "      <th>1</th>\n",
       "      <td>2.37650</td>\n",
       "      <td>133.405</td>\n",
       "      <td>0.0</td>\n",
       "    </tr>\n",
       "    <tr>\n",
       "      <th>2</th>\n",
       "      <td>2.59380</td>\n",
       "      <td>167.850</td>\n",
       "      <td>1.0</td>\n",
       "    </tr>\n",
       "    <tr>\n",
       "      <th>3</th>\n",
       "      <td>2.02890</td>\n",
       "      <td>133.405</td>\n",
       "      <td>1.0</td>\n",
       "    </tr>\n",
       "    <tr>\n",
       "      <th>4</th>\n",
       "      <td>2.91890</td>\n",
       "      <td>187.375</td>\n",
       "      <td>1.0</td>\n",
       "    </tr>\n",
       "    <tr>\n",
       "      <th>...</th>\n",
       "      <td>...</td>\n",
       "      <td>...</td>\n",
       "      <td>...</td>\n",
       "    </tr>\n",
       "    <tr>\n",
       "      <th>1139</th>\n",
       "      <td>1.98820</td>\n",
       "      <td>287.343</td>\n",
       "      <td>8.0</td>\n",
       "    </tr>\n",
       "    <tr>\n",
       "      <th>1140</th>\n",
       "      <td>3.42130</td>\n",
       "      <td>286.114</td>\n",
       "      <td>2.0</td>\n",
       "    </tr>\n",
       "    <tr>\n",
       "      <th>1141</th>\n",
       "      <td>3.60960</td>\n",
       "      <td>308.333</td>\n",
       "      <td>4.0</td>\n",
       "    </tr>\n",
       "    <tr>\n",
       "      <th>1142</th>\n",
       "      <td>2.56214</td>\n",
       "      <td>354.815</td>\n",
       "      <td>3.0</td>\n",
       "    </tr>\n",
       "    <tr>\n",
       "      <th>1143</th>\n",
       "      <td>2.02164</td>\n",
       "      <td>179.219</td>\n",
       "      <td>1.0</td>\n",
       "    </tr>\n",
       "  </tbody>\n",
       "</table>\n",
       "<p>1144 rows × 3 columns</p>\n",
       "</div>"
      ],
      "text/plain": [
       "      MolLogP    MolWt  NumRotatableBonds\n",
       "0     2.59540  167.850                0.0\n",
       "1     2.37650  133.405                0.0\n",
       "2     2.59380  167.850                1.0\n",
       "3     2.02890  133.405                1.0\n",
       "4     2.91890  187.375                1.0\n",
       "...       ...      ...                ...\n",
       "1139  1.98820  287.343                8.0\n",
       "1140  3.42130  286.114                2.0\n",
       "1141  3.60960  308.333                4.0\n",
       "1142  2.56214  354.815                3.0\n",
       "1143  2.02164  179.219                1.0\n",
       "\n",
       "[1144 rows x 3 columns]"
      ]
     },
     "execution_count": 12,
     "metadata": {},
     "output_type": "execute_result"
    }
   ],
   "source": [
    "df"
   ]
  },
  {
   "cell_type": "markdown",
   "metadata": {},
   "source": [
    "#### Aromatice proportion\n",
    "Here, we will create a custom function to calculate the Number of aromatic atoms. With this descriptor we can use it to subsequently calculate the AP descriptor"
   ]
  },
  {
   "cell_type": "code",
   "execution_count": 13,
   "metadata": {},
   "outputs": [],
   "source": [
    "def AromaticAtoms(m):\n",
    "    aromatic_atoms = [m.GetAtomWithIdx(i).GetIsAromatic() for i in range(m.GetNumAtoms())]\n",
    "    aa_count = []\n",
    "    for i in aromatic_atoms:\n",
    "        if i == True:\n",
    "            aa_count.append(1)\n",
    "    sum_aa_count = sum(aa_count)\n",
    "    return sum_aa_count  "
   ]
  },
  {
   "cell_type": "code",
   "execution_count": 16,
   "metadata": {},
   "outputs": [],
   "source": [
    "desc_AromaticAtoms = [AromaticAtoms(element) for element in mol_list]"
   ]
  },
  {
   "cell_type": "markdown",
   "metadata": {},
   "source": [
    "#### Number of heavy atoms"
   ]
  },
  {
   "cell_type": "code",
   "execution_count": 20,
   "metadata": {},
   "outputs": [],
   "source": [
    "desc_HeavyAtomCount = [Descriptors.HeavyAtomCount(element) for element in mol_list]"
   ]
  },
  {
   "cell_type": "markdown",
   "metadata": {},
   "source": [
    "#### Computing the Aromatic Proportion(AP) descriptor"
   ]
  },
  {
   "cell_type": "code",
   "execution_count": 21,
   "metadata": {},
   "outputs": [],
   "source": [
    "desc_AromaticProportion = [AromaticAtoms(element)/Descriptors.HeavyAtomCount(element) for element in mol_list]"
   ]
  },
  {
   "cell_type": "code",
   "execution_count": 23,
   "metadata": {},
   "outputs": [],
   "source": [
    "df_desc_AromaticProportion = pd.DataFrame(desc_AromaticProportion, columns = ['AromaticProportion'])"
   ]
  },
  {
   "cell_type": "markdown",
   "metadata": {},
   "source": [
    "#### X matrix (Combining all computed descriptros into 1 dataframe)"
   ]
  },
  {
   "cell_type": "code",
   "execution_count": 26,
   "metadata": {},
   "outputs": [],
   "source": [
    "X = pd.concat([df, df_desc_AromaticProportion],axis=1)"
   ]
  },
  {
   "cell_type": "markdown",
   "metadata": {},
   "source": [
    "#### Y matrix"
   ]
  },
  {
   "cell_type": "code",
   "execution_count": 27,
   "metadata": {},
   "outputs": [
    {
     "data": {
      "text/html": [
       "<div>\n",
       "<style scoped>\n",
       "    .dataframe tbody tr th:only-of-type {\n",
       "        vertical-align: middle;\n",
       "    }\n",
       "\n",
       "    .dataframe tbody tr th {\n",
       "        vertical-align: top;\n",
       "    }\n",
       "\n",
       "    .dataframe thead th {\n",
       "        text-align: right;\n",
       "    }\n",
       "</style>\n",
       "<table border=\"1\" class=\"dataframe\">\n",
       "  <thead>\n",
       "    <tr style=\"text-align: right;\">\n",
       "      <th></th>\n",
       "      <th>Compound ID</th>\n",
       "      <th>measured log(solubility:mol/L)</th>\n",
       "      <th>ESOL predicted log(solubility:mol/L)</th>\n",
       "      <th>SMILES</th>\n",
       "    </tr>\n",
       "  </thead>\n",
       "  <tbody>\n",
       "    <tr>\n",
       "      <th>0</th>\n",
       "      <td>1,1,1,2-Tetrachloroethane</td>\n",
       "      <td>-2.18</td>\n",
       "      <td>-2.794</td>\n",
       "      <td>ClCC(Cl)(Cl)Cl</td>\n",
       "    </tr>\n",
       "    <tr>\n",
       "      <th>1</th>\n",
       "      <td>1,1,1-Trichloroethane</td>\n",
       "      <td>-2.00</td>\n",
       "      <td>-2.232</td>\n",
       "      <td>CC(Cl)(Cl)Cl</td>\n",
       "    </tr>\n",
       "    <tr>\n",
       "      <th>2</th>\n",
       "      <td>1,1,2,2-Tetrachloroethane</td>\n",
       "      <td>-1.74</td>\n",
       "      <td>-2.549</td>\n",
       "      <td>ClC(Cl)C(Cl)Cl</td>\n",
       "    </tr>\n",
       "    <tr>\n",
       "      <th>3</th>\n",
       "      <td>1,1,2-Trichloroethane</td>\n",
       "      <td>-1.48</td>\n",
       "      <td>-1.961</td>\n",
       "      <td>ClCC(Cl)Cl</td>\n",
       "    </tr>\n",
       "    <tr>\n",
       "      <th>4</th>\n",
       "      <td>1,1,2-Trichlorotrifluoroethane</td>\n",
       "      <td>-3.04</td>\n",
       "      <td>-3.077</td>\n",
       "      <td>FC(F)(Cl)C(F)(Cl)Cl</td>\n",
       "    </tr>\n",
       "  </tbody>\n",
       "</table>\n",
       "</div>"
      ],
      "text/plain": [
       "                      Compound ID  measured log(solubility:mol/L)  \\\n",
       "0       1,1,1,2-Tetrachloroethane                           -2.18   \n",
       "1           1,1,1-Trichloroethane                           -2.00   \n",
       "2       1,1,2,2-Tetrachloroethane                           -1.74   \n",
       "3           1,1,2-Trichloroethane                           -1.48   \n",
       "4  1,1,2-Trichlorotrifluoroethane                           -3.04   \n",
       "\n",
       "   ESOL predicted log(solubility:mol/L)               SMILES  \n",
       "0                                -2.794       ClCC(Cl)(Cl)Cl  \n",
       "1                                -2.232         CC(Cl)(Cl)Cl  \n",
       "2                                -2.549       ClC(Cl)C(Cl)Cl  \n",
       "3                                -1.961           ClCC(Cl)Cl  \n",
       "4                                -3.077  FC(F)(Cl)C(F)(Cl)Cl  "
      ]
     },
     "execution_count": 27,
     "metadata": {},
     "output_type": "execute_result"
    }
   ],
   "source": [
    "data.head()"
   ]
  },
  {
   "cell_type": "code",
   "execution_count": 30,
   "metadata": {},
   "outputs": [],
   "source": [
    "Y = data.iloc[:,1]"
   ]
  },
  {
   "cell_type": "markdown",
   "metadata": {},
   "source": [
    "#### Data split"
   ]
  },
  {
   "cell_type": "code",
   "execution_count": 33,
   "metadata": {},
   "outputs": [],
   "source": [
    "X_train, X_test, Y_train, Y_test = train_test_split(X,Y, test_size=0.2)"
   ]
  },
  {
   "cell_type": "markdown",
   "metadata": {},
   "source": [
    "#### Linear Regression Model"
   ]
  },
  {
   "cell_type": "code",
   "execution_count": 35,
   "metadata": {},
   "outputs": [
    {
     "data": {
      "text/html": [
       "<style>#sk-container-id-1 {color: black;background-color: white;}#sk-container-id-1 pre{padding: 0;}#sk-container-id-1 div.sk-toggleable {background-color: white;}#sk-container-id-1 label.sk-toggleable__label {cursor: pointer;display: block;width: 100%;margin-bottom: 0;padding: 0.3em;box-sizing: border-box;text-align: center;}#sk-container-id-1 label.sk-toggleable__label-arrow:before {content: \"▸\";float: left;margin-right: 0.25em;color: #696969;}#sk-container-id-1 label.sk-toggleable__label-arrow:hover:before {color: black;}#sk-container-id-1 div.sk-estimator:hover label.sk-toggleable__label-arrow:before {color: black;}#sk-container-id-1 div.sk-toggleable__content {max-height: 0;max-width: 0;overflow: hidden;text-align: left;background-color: #f0f8ff;}#sk-container-id-1 div.sk-toggleable__content pre {margin: 0.2em;color: black;border-radius: 0.25em;background-color: #f0f8ff;}#sk-container-id-1 input.sk-toggleable__control:checked~div.sk-toggleable__content {max-height: 200px;max-width: 100%;overflow: auto;}#sk-container-id-1 input.sk-toggleable__control:checked~label.sk-toggleable__label-arrow:before {content: \"▾\";}#sk-container-id-1 div.sk-estimator input.sk-toggleable__control:checked~label.sk-toggleable__label {background-color: #d4ebff;}#sk-container-id-1 div.sk-label input.sk-toggleable__control:checked~label.sk-toggleable__label {background-color: #d4ebff;}#sk-container-id-1 input.sk-hidden--visually {border: 0;clip: rect(1px 1px 1px 1px);clip: rect(1px, 1px, 1px, 1px);height: 1px;margin: -1px;overflow: hidden;padding: 0;position: absolute;width: 1px;}#sk-container-id-1 div.sk-estimator {font-family: monospace;background-color: #f0f8ff;border: 1px dotted black;border-radius: 0.25em;box-sizing: border-box;margin-bottom: 0.5em;}#sk-container-id-1 div.sk-estimator:hover {background-color: #d4ebff;}#sk-container-id-1 div.sk-parallel-item::after {content: \"\";width: 100%;border-bottom: 1px solid gray;flex-grow: 1;}#sk-container-id-1 div.sk-label:hover label.sk-toggleable__label {background-color: #d4ebff;}#sk-container-id-1 div.sk-serial::before {content: \"\";position: absolute;border-left: 1px solid gray;box-sizing: border-box;top: 0;bottom: 0;left: 50%;z-index: 0;}#sk-container-id-1 div.sk-serial {display: flex;flex-direction: column;align-items: center;background-color: white;padding-right: 0.2em;padding-left: 0.2em;position: relative;}#sk-container-id-1 div.sk-item {position: relative;z-index: 1;}#sk-container-id-1 div.sk-parallel {display: flex;align-items: stretch;justify-content: center;background-color: white;position: relative;}#sk-container-id-1 div.sk-item::before, #sk-container-id-1 div.sk-parallel-item::before {content: \"\";position: absolute;border-left: 1px solid gray;box-sizing: border-box;top: 0;bottom: 0;left: 50%;z-index: -1;}#sk-container-id-1 div.sk-parallel-item {display: flex;flex-direction: column;z-index: 1;position: relative;background-color: white;}#sk-container-id-1 div.sk-parallel-item:first-child::after {align-self: flex-end;width: 50%;}#sk-container-id-1 div.sk-parallel-item:last-child::after {align-self: flex-start;width: 50%;}#sk-container-id-1 div.sk-parallel-item:only-child::after {width: 0;}#sk-container-id-1 div.sk-dashed-wrapped {border: 1px dashed gray;margin: 0 0.4em 0.5em 0.4em;box-sizing: border-box;padding-bottom: 0.4em;background-color: white;}#sk-container-id-1 div.sk-label label {font-family: monospace;font-weight: bold;display: inline-block;line-height: 1.2em;}#sk-container-id-1 div.sk-label-container {text-align: center;}#sk-container-id-1 div.sk-container {/* jupyter's `normalize.less` sets `[hidden] { display: none; }` but bootstrap.min.css set `[hidden] { display: none !important; }` so we also need the `!important` here to be able to override the default hidden behavior on the sphinx rendered scikit-learn.org. See: https://github.com/scikit-learn/scikit-learn/issues/21755 */display: inline-block !important;position: relative;}#sk-container-id-1 div.sk-text-repr-fallback {display: none;}</style><div id=\"sk-container-id-1\" class=\"sk-top-container\"><div class=\"sk-text-repr-fallback\"><pre>LinearRegression()</pre><b>In a Jupyter environment, please rerun this cell to show the HTML representation or trust the notebook. <br />On GitHub, the HTML representation is unable to render, please try loading this page with nbviewer.org.</b></div><div class=\"sk-container\" hidden><div class=\"sk-item\"><div class=\"sk-estimator sk-toggleable\"><input class=\"sk-toggleable__control sk-hidden--visually\" id=\"sk-estimator-id-1\" type=\"checkbox\" checked><label for=\"sk-estimator-id-1\" class=\"sk-toggleable__label sk-toggleable__label-arrow\">LinearRegression</label><div class=\"sk-toggleable__content\"><pre>LinearRegression()</pre></div></div></div></div></div>"
      ],
      "text/plain": [
       "LinearRegression()"
      ]
     },
     "execution_count": 35,
     "metadata": {},
     "output_type": "execute_result"
    }
   ],
   "source": [
    "model = linear_model.LinearRegression()\n",
    "model.fit(X_train, Y_train)"
   ]
  },
  {
   "cell_type": "markdown",
   "metadata": {},
   "source": [
    "#### Predict the X_train"
   ]
  },
  {
   "cell_type": "code",
   "execution_count": 36,
   "metadata": {},
   "outputs": [],
   "source": [
    "Y_pred_train = model.predict(X_train)"
   ]
  },
  {
   "cell_type": "code",
   "execution_count": 39,
   "metadata": {},
   "outputs": [
    {
     "name": "stdout",
     "output_type": "stream",
     "text": [
      "Coefficients: [-0.73797197 -0.00665581 -0.00894854 -0.47721729]\n",
      "Intercept: 0.30399981783986396\n",
      "Mean squared error (MSE): 1.01\n",
      "Coefficient of determination (R^2): 0.77\n"
     ]
    }
   ],
   "source": [
    "print(\"Coefficients:\", model.coef_)\n",
    "print(\"Intercept:\",model.intercept_)\n",
    "print(\"Mean squared error (MSE): %.2f\" % mean_squared_error(Y_train, Y_pred_train))\n",
    "print(\"Coefficient of determination (R^2): %.2f\"%r2_score(Y_train, Y_pred_train))"
   ]
  },
  {
   "cell_type": "markdown",
   "metadata": {},
   "source": [
    "#### Predicts the X_test"
   ]
  },
  {
   "cell_type": "code",
   "execution_count": 40,
   "metadata": {},
   "outputs": [],
   "source": [
    "Y_pred_test = model.predict(X_test)"
   ]
  },
  {
   "cell_type": "code",
   "execution_count": 43,
   "metadata": {},
   "outputs": [
    {
     "name": "stdout",
     "output_type": "stream",
     "text": [
      "Coefficients: [-0.73797197 -0.00665581 -0.00894854 -0.47721729]\n",
      "Intercept: 0.30399981783986396\n",
      "Mean Squared error (MSE): 1.01\n",
      "Coefficeint of determination (R^2):0.76\n"
     ]
    }
   ],
   "source": [
    "print(\"Coefficients:\",model.coef_)\n",
    "print(\"Intercept:\",model.intercept_)\n",
    "print(\"Mean Squared error (MSE): %.2f\"% mean_squared_error(Y_test, Y_pred_test))\n",
    "print(\"Coefficeint of determination (R^2):%.2f\"% r2_score(Y_test, Y_pred_test))"
   ]
  },
  {
   "cell_type": "markdown",
   "metadata": {},
   "source": [
    "#### Linear regression equation"
   ]
  },
  {
   "cell_type": "code",
   "execution_count": 44,
   "metadata": {},
   "outputs": [
    {
     "name": "stdout",
     "output_type": "stream",
     "text": [
      "LogS- 0.30 -0.74 LogP -0.0067 MW -0.0089 RV -0.48 AP\n"
     ]
    }
   ],
   "source": [
    "print(\"LogS- %.2f %.2f LogP %.4f MW %.4f RV %.2f AP\" % (model.intercept_, model.coef_[0], model.coef_[1], model.coef_[2], model.coef_[3]))"
   ]
  },
  {
   "cell_type": "markdown",
   "metadata": {},
   "source": [
    "#### Use the entire dataset for model training"
   ]
  },
  {
   "cell_type": "code",
   "execution_count": 45,
   "metadata": {},
   "outputs": [
    {
     "data": {
      "text/html": [
       "<style>#sk-container-id-2 {color: black;background-color: white;}#sk-container-id-2 pre{padding: 0;}#sk-container-id-2 div.sk-toggleable {background-color: white;}#sk-container-id-2 label.sk-toggleable__label {cursor: pointer;display: block;width: 100%;margin-bottom: 0;padding: 0.3em;box-sizing: border-box;text-align: center;}#sk-container-id-2 label.sk-toggleable__label-arrow:before {content: \"▸\";float: left;margin-right: 0.25em;color: #696969;}#sk-container-id-2 label.sk-toggleable__label-arrow:hover:before {color: black;}#sk-container-id-2 div.sk-estimator:hover label.sk-toggleable__label-arrow:before {color: black;}#sk-container-id-2 div.sk-toggleable__content {max-height: 0;max-width: 0;overflow: hidden;text-align: left;background-color: #f0f8ff;}#sk-container-id-2 div.sk-toggleable__content pre {margin: 0.2em;color: black;border-radius: 0.25em;background-color: #f0f8ff;}#sk-container-id-2 input.sk-toggleable__control:checked~div.sk-toggleable__content {max-height: 200px;max-width: 100%;overflow: auto;}#sk-container-id-2 input.sk-toggleable__control:checked~label.sk-toggleable__label-arrow:before {content: \"▾\";}#sk-container-id-2 div.sk-estimator input.sk-toggleable__control:checked~label.sk-toggleable__label {background-color: #d4ebff;}#sk-container-id-2 div.sk-label input.sk-toggleable__control:checked~label.sk-toggleable__label {background-color: #d4ebff;}#sk-container-id-2 input.sk-hidden--visually {border: 0;clip: rect(1px 1px 1px 1px);clip: rect(1px, 1px, 1px, 1px);height: 1px;margin: -1px;overflow: hidden;padding: 0;position: absolute;width: 1px;}#sk-container-id-2 div.sk-estimator {font-family: monospace;background-color: #f0f8ff;border: 1px dotted black;border-radius: 0.25em;box-sizing: border-box;margin-bottom: 0.5em;}#sk-container-id-2 div.sk-estimator:hover {background-color: #d4ebff;}#sk-container-id-2 div.sk-parallel-item::after {content: \"\";width: 100%;border-bottom: 1px solid gray;flex-grow: 1;}#sk-container-id-2 div.sk-label:hover label.sk-toggleable__label {background-color: #d4ebff;}#sk-container-id-2 div.sk-serial::before {content: \"\";position: absolute;border-left: 1px solid gray;box-sizing: border-box;top: 0;bottom: 0;left: 50%;z-index: 0;}#sk-container-id-2 div.sk-serial {display: flex;flex-direction: column;align-items: center;background-color: white;padding-right: 0.2em;padding-left: 0.2em;position: relative;}#sk-container-id-2 div.sk-item {position: relative;z-index: 1;}#sk-container-id-2 div.sk-parallel {display: flex;align-items: stretch;justify-content: center;background-color: white;position: relative;}#sk-container-id-2 div.sk-item::before, #sk-container-id-2 div.sk-parallel-item::before {content: \"\";position: absolute;border-left: 1px solid gray;box-sizing: border-box;top: 0;bottom: 0;left: 50%;z-index: -1;}#sk-container-id-2 div.sk-parallel-item {display: flex;flex-direction: column;z-index: 1;position: relative;background-color: white;}#sk-container-id-2 div.sk-parallel-item:first-child::after {align-self: flex-end;width: 50%;}#sk-container-id-2 div.sk-parallel-item:last-child::after {align-self: flex-start;width: 50%;}#sk-container-id-2 div.sk-parallel-item:only-child::after {width: 0;}#sk-container-id-2 div.sk-dashed-wrapped {border: 1px dashed gray;margin: 0 0.4em 0.5em 0.4em;box-sizing: border-box;padding-bottom: 0.4em;background-color: white;}#sk-container-id-2 div.sk-label label {font-family: monospace;font-weight: bold;display: inline-block;line-height: 1.2em;}#sk-container-id-2 div.sk-label-container {text-align: center;}#sk-container-id-2 div.sk-container {/* jupyter's `normalize.less` sets `[hidden] { display: none; }` but bootstrap.min.css set `[hidden] { display: none !important; }` so we also need the `!important` here to be able to override the default hidden behavior on the sphinx rendered scikit-learn.org. See: https://github.com/scikit-learn/scikit-learn/issues/21755 */display: inline-block !important;position: relative;}#sk-container-id-2 div.sk-text-repr-fallback {display: none;}</style><div id=\"sk-container-id-2\" class=\"sk-top-container\"><div class=\"sk-text-repr-fallback\"><pre>LinearRegression()</pre><b>In a Jupyter environment, please rerun this cell to show the HTML representation or trust the notebook. <br />On GitHub, the HTML representation is unable to render, please try loading this page with nbviewer.org.</b></div><div class=\"sk-container\" hidden><div class=\"sk-item\"><div class=\"sk-estimator sk-toggleable\"><input class=\"sk-toggleable__control sk-hidden--visually\" id=\"sk-estimator-id-2\" type=\"checkbox\" checked><label for=\"sk-estimator-id-2\" class=\"sk-toggleable__label sk-toggleable__label-arrow\">LinearRegression</label><div class=\"sk-toggleable__content\"><pre>LinearRegression()</pre></div></div></div></div></div>"
      ],
      "text/plain": [
       "LinearRegression()"
      ]
     },
     "execution_count": 45,
     "metadata": {},
     "output_type": "execute_result"
    }
   ],
   "source": [
    "full = linear_model.LinearRegression()\n",
    "full.fit(X,Y)"
   ]
  },
  {
   "cell_type": "code",
   "execution_count": 46,
   "metadata": {},
   "outputs": [],
   "source": [
    "full_pred = model.predict(X)"
   ]
  },
  {
   "cell_type": "code",
   "execution_count": 47,
   "metadata": {},
   "outputs": [
    {
     "name": "stdout",
     "output_type": "stream",
     "text": [
      "Coefficients: [-0.74173609 -0.00659927  0.00320051 -0.42316387]\n",
      "Intercept: 0.25650068309972074\n",
      "Mean Squared Error (MSE): 1.01\n",
      "Coefficient of determination (R^2): 0.77\n"
     ]
    }
   ],
   "source": [
    "print(\"Coefficients:\", full.coef_)\n",
    "print(\"Intercept:\", full.intercept_)\n",
    "print(\"Mean Squared Error (MSE): %.2f\" % mean_squared_error(Y, full_pred))\n",
    "print(\"Coefficient of determination (R^2): %.2f\" % r2_score(Y, full_pred))"
   ]
  },
  {
   "cell_type": "code",
   "execution_count": 48,
   "metadata": {},
   "outputs": [],
   "source": [
    "full_yintercept = \"%.2f\" % full.intercept_\n",
    "full_LogP = \"%.2f LogP\" % full.coef_[0]\n",
    "full_MW = \"%.4f MW\" % full.coef_[1]\n",
    "full_RB = \"+ %.4f RB\" % full.coef_[2]\n",
    "full_AP = \"%.2f AP\" % full.coef_[3]"
   ]
  },
  {
   "cell_type": "code",
   "execution_count": 50,
   "metadata": {},
   "outputs": [
    {
     "name": "stdout",
     "output_type": "stream",
     "text": [
      "LogS =  0.26 -0.74 LogP + 0.0032 RB -0.42 AP\n"
     ]
    }
   ],
   "source": [
    "print(\"LogS = \" +\n",
    "        \" \"+\n",
    "        full_yintercept +\n",
    "        \" \"+\n",
    "        full_LogP +\n",
    "        \" \" +\n",
    "        full_RB +\n",
    "        \" \" +\n",
    "        full_AP\n",
    "\n",
    "\n",
    ")"
   ]
  },
  {
   "cell_type": "markdown",
   "metadata": {},
   "source": [
    "#### Scatter plot of experimental vs. predicted LogS"
   ]
  },
  {
   "cell_type": "code",
   "execution_count": 52,
   "metadata": {},
   "outputs": [
    {
     "data": {
      "text/plain": [
       "((915,), (915,))"
      ]
     },
     "execution_count": 52,
     "metadata": {},
     "output_type": "execute_result"
    }
   ],
   "source": [
    "Y_train.shape, Y_pred_train.shape"
   ]
  },
  {
   "cell_type": "code",
   "execution_count": 53,
   "metadata": {},
   "outputs": [
    {
     "data": {
      "text/plain": [
       "((229,), (229,))"
      ]
     },
     "execution_count": 53,
     "metadata": {},
     "output_type": "execute_result"
    }
   ],
   "source": [
    "Y_test.shape, Y_pred_test.shape"
   ]
  },
  {
   "cell_type": "markdown",
   "metadata": {},
   "source": [
    "#### Vertical Plot"
   ]
  },
  {
   "cell_type": "code",
   "execution_count": 57,
   "metadata": {},
   "outputs": [
    {
     "data": {
      "image/png": "[encoded data removed]",
      "text/plain": [
       "<Figure size 360x792 with 2 Axes>"
      ]
     },
     "metadata": {
      "needs_background": "light"
     },
     "output_type": "display_data"
    }
   ],
   "source": [
    "plt.figure(figsize=(5,11))\n",
    "\n",
    "# 2 row, 1 column, plot 1\n",
    "plt.subplot(2, 1, 1)\n",
    "plt.scatter(x=Y_train, y=Y_pred_train, c = \"#7CAE00\", alpha =0.3)\n",
    "\n",
    "# Add trendline\n",
    "\n",
    "z = np.polyfit(Y_train, Y_pred_train, 1)\n",
    "p = np.poly1d(z)\n",
    "plt.plot(Y_test, p(Y_test), \"#F8766D\")\n",
    "plt.ylabel(\"Predicted LogS\")\n",
    "\n",
    "\n",
    "# 2 row, 1 column, plot 2\n",
    "plt.subplot(2, 1, 2)\n",
    "plt.scatter(x=Y_test, y=Y_pred_test, c = \"#619CFF\", alpha=0.3)\n",
    "\n",
    "z = np.polyfit(Y_test, Y_pred_test, 1)\n",
    "p = np.poly1d(z)\n",
    "plt.plot(Y_test, p(Y_test), \"#F8766D\")\n",
    "\n",
    "plt.ylabel(\"Predicted LogS\")\n",
    "plt.xlabel(\"Experimental LogS\")\n",
    "\n",
    "plt.savefig('plot_vertical_logS.png')\n",
    "plt.savefig('plot_vertical_LogS.pdf')\n",
    "plt.show()"
   ]
  },
  {
   "cell_type": "markdown",
   "metadata": {},
   "source": [
    "#### Conclusion\n",
    "\n",
    "From the coefficeint of determination(0.7), we can infer that ther is a strong correlation between the dependent and independent variables. "
   ]
  }
 ],
 "metadata": {
  "kernelspec": {
   "display_name": "Python 3.10.4 ('atrophine_tf')",
   "language": "python",
   "name": "python3"
  },
  "language_info": {
   "codemirror_mode": {
    "name": "ipython",
    "version": 3
   },
   "file_extension": ".py",
   "mimetype": "text/x-python",
   "name": "python",
   "nbconvert_exporter": "python",
   "pygments_lexer": "ipython3",
   "version": "3.10.4"
  },
  "orig_nbformat": 4,
  "vscode": {
   "interpreter": {
    "hash": "fc55cb3689c546066962b666c18656acd1e2a33334a25526b1b5941d10b03637"
   }
  }
 },
 "nbformat": 4,
 "nbformat_minor": 2
}
